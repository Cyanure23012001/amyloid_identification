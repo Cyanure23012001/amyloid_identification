{
 "cells": [
  {
   "cell_type": "code",
   "execution_count": 38,
   "id": "c8aed598-11a2-4b50-9b0a-dc779acf5cb5",
   "metadata": {},
   "outputs": [],
   "source": [
    "import pandas as pd\n",
    "import pickle\n",
    "with open('tempresults2', 'rb') as f:\n",
    "    resultdf = pickle.load(f)"
   ]
  },
  {
   "cell_type": "code",
   "execution_count": 39,
   "id": "12a45568",
   "metadata": {},
   "outputs": [],
   "source": [
    "import dtale\n",
    "resultdf.fillna(0,inplace=True)"
   ]
  },
  {
   "cell_type": "code",
   "execution_count": 40,
   "id": "1cac3e38",
   "metadata": {},
   "outputs": [
    {
     "data": {
      "text/html": [
       "\n",
       "        <iframe\n",
       "            width=\"100%\"\n",
       "            height=\"475\"\n",
       "            src=\"http://rpbs-priv2:40002/dtale/iframe/6\"\n",
       "            frameborder=\"0\"\n",
       "            allowfullscreen\n",
       "            \n",
       "        ></iframe>\n",
       "        "
      ],
      "text/plain": [
       "<IPython.lib.display.IFrame at 0x7f5917aef190>"
      ]
     },
     "metadata": {},
     "output_type": "display_data"
    },
    {
     "data": {
      "text/plain": []
     },
     "execution_count": 40,
     "metadata": {},
     "output_type": "execute_result"
    }
   ],
   "source": [
    "dtale.show(resultdf)"
   ]
  },
  {
   "cell_type": "code",
   "execution_count": 5,
   "id": "6fc7bb7b-c649-4f40-bb1f-d6e21d20f2b5",
   "metadata": {
    "scrolled": true
   },
   "outputs": [
    {
     "name": "stdout",
     "output_type": "stream",
     "text": [
      "Requirement already satisfied: missingno in /home/meuret/anaconda3/envs/louis/lib/python3.11/site-packages (0.4.2)\n",
      "Requirement already satisfied: numpy in /home/meuret/anaconda3/envs/louis/lib/python3.11/site-packages (from missingno) (1.24.3)\n",
      "Requirement already satisfied: matplotlib in /home/meuret/anaconda3/envs/louis/lib/python3.11/site-packages (from missingno) (3.6.3)\n",
      "Requirement already satisfied: scipy in /home/meuret/anaconda3/envs/louis/lib/python3.11/site-packages (from missingno) (1.9.3)\n",
      "Requirement already satisfied: seaborn in /home/meuret/anaconda3/envs/louis/lib/python3.11/site-packages (from missingno) (0.12.2)\n",
      "Requirement already satisfied: contourpy>=1.0.1 in /home/meuret/anaconda3/envs/louis/lib/python3.11/site-packages (from matplotlib->missingno) (1.0.7)\n",
      "Requirement already satisfied: cycler>=0.10 in /home/meuret/anaconda3/envs/louis/lib/python3.11/site-packages (from matplotlib->missingno) (0.11.0)\n",
      "Requirement already satisfied: fonttools>=4.22.0 in /home/meuret/anaconda3/envs/louis/lib/python3.11/site-packages (from matplotlib->missingno) (4.39.3)\n",
      "Requirement already satisfied: kiwisolver>=1.0.1 in /home/meuret/anaconda3/envs/louis/lib/python3.11/site-packages (from matplotlib->missingno) (1.4.4)\n",
      "Requirement already satisfied: packaging>=20.0 in /home/meuret/anaconda3/envs/louis/lib/python3.11/site-packages (from matplotlib->missingno) (23.1)\n",
      "Requirement already satisfied: pillow>=6.2.0 in /home/meuret/anaconda3/envs/louis/lib/python3.11/site-packages (from matplotlib->missingno) (9.5.0)\n",
      "Requirement already satisfied: pyparsing>=2.2.1 in /home/meuret/anaconda3/envs/louis/lib/python3.11/site-packages (from matplotlib->missingno) (3.0.9)\n",
      "Requirement already satisfied: python-dateutil>=2.7 in /home/meuret/anaconda3/envs/louis/lib/python3.11/site-packages (from matplotlib->missingno) (2.8.2)\n",
      "Requirement already satisfied: pandas>=0.25 in /home/meuret/anaconda3/envs/louis/lib/python3.11/site-packages (from seaborn->missingno) (1.4.1)\n",
      "Requirement already satisfied: pytz>=2020.1 in /home/meuret/anaconda3/envs/louis/lib/python3.11/site-packages (from pandas>=0.25->seaborn->missingno) (2023.3)\n",
      "Requirement already satisfied: six>=1.5 in /home/meuret/anaconda3/envs/louis/lib/python3.11/site-packages (from python-dateutil>=2.7->matplotlib->missingno) (1.16.0)\n"
     ]
    }
   ],
   "source": [
    "!pip install missingno"
   ]
  },
  {
   "cell_type": "code",
   "execution_count": 41,
   "id": "cf6a935a",
   "metadata": {},
   "outputs": [
    {
     "name": "stdout",
     "output_type": "stream",
     "text": [
      "[[('X-RAY DIFFRACTION', 1), ('SOLUTION NMR', 4), ('ELECTRON MICROSCOPY', 5), ('ELECTRON CRYSTALLOGRAPHY', 2), ('SOLID-STATE NMR', 3)], [('hexameric', 9), ('monomeric', 13), ('tetrameric', 2), ('dimeric', 4), ('octadecameric', 5), ('octameric', 1), ('decameric', 12), ('Dimeric', 15), ('hexadecameric', 7), ('pentameric', 6), ('tridecameric', 14), ('36-meric', 16), ('nonameric', 11), ('27-meric', 10), ('dodecameric', 8), ('trimeric', 3)], [('Homo 2-mer', 4), ('Hetero 36-mer', 20), ('Homo 8-mer', 1), ('Homo 16-mer', 7), ('Hetero 2-mer', 14), ('Monomer', 13), ('Hetero 6-mer', 21), ('Homo 27-mer', 10), ('Homo 18-mer', 5), ('Hetero 12-mer', 17), ('Homo 12-mer', 8), ('Homo 10-mer', 12), ('Homo 3-mer', 3), ('Hetero 4-mer', 15), ('Hetero 9-mer', 19), ('Homo 9-mer', 11), ('Homo 5-mer', 6), ('Hetero 13-mer', 18), ('Hetero 5-mer', 22), ('Homo 4-mer', 2), ('Homo 6-mer', 9), ('Hetero 3-mer', 16)], [('Asymmetric', 1), ('Dihedral', 4), ('Helical', 3), ('Tetrahedral', 5), ('Cyclic', 2)]]\n"
     ]
    }
   ],
   "source": [
    "listnames = ['experimental_method','oligomeric_state1','oligomeric_state2','symmetry']\n",
    "columns_track = []\n",
    "\n",
    "for column in listnames:\n",
    "    \n",
    "    current_list = resultdf[column].tolist()\n",
    "    element_number = {}\n",
    "    numbered_list = []\n",
    "    list_elements = []\n",
    "    # On definit un chiffre et on incremente pour chaque nouvel element dans la liste\n",
    "    for element in current_list:\n",
    "        if element not in element_number:\n",
    "            element_number[element] = len(element_number) + 1\n",
    "\n",
    "        numbered_list.append(element_number[element])\n",
    "        list_elements.append((element, element_number[element]))\n",
    "    \n",
    "    # Me permet de garder une trace sur quel element numerique correspond à quoi \n",
    "    columns_track.append(list(set(list_elements)))\n",
    "    resultdf[column] = numbered_list\n",
    "    \n",
    "    #print(numbered_list)\n",
    "\n",
    "print(columns_track)"
   ]
  },
  {
   "cell_type": "code",
   "execution_count": 42,
   "id": "d4cac098-2774-4cec-9f3e-706d2e8007b5",
   "metadata": {},
   "outputs": [],
   "source": [
    "results_filtered = resultdf.drop(['DF_DSSP', 'DF_H', 'PDB_ID', 'AAseq'], axis=1)"
   ]
  },
  {
   "cell_type": "code",
   "execution_count": 43,
   "id": "d9f4afaa",
   "metadata": {},
   "outputs": [],
   "source": [
    "from sklearn.preprocessing import StandardScaler\n",
    "scaler = StandardScaler()\n",
    "results_filtered.iloc[:,0:-1] = scaler.fit_transform(results_filtered.iloc[:,0:-1].to_numpy())"
   ]
  },
  {
   "cell_type": "code",
   "execution_count": 44,
   "id": "4ecc9b1e-dfee-4200-90b4-550ce69cbe3e",
   "metadata": {},
   "outputs": [],
   "source": [
    "from sklearn.model_selection import train_test_split\n",
    "\n",
    "X_train, X_test, y_train, y_test = train_test_split(results_filtered.drop('is_amyloid', axis=1), results_filtered['is_amyloid'], test_size=0.2, random_state=42)"
   ]
  },
  {
   "cell_type": "code",
   "execution_count": 45,
   "id": "fab95c43",
   "metadata": {},
   "outputs": [
    {
     "name": "stdout",
     "output_type": "stream",
     "text": [
      "Index(['Number of H', 'H number w chains', 'SASA', 'Alignement_total',\n",
      "       'Alignement_moyen', 'Hydrophobicity', 'Hydropathy',\n",
      "       'experimental_method', 'oligomeric_state1', 'oligomeric_state2',\n",
      "       'atom_count', 'H_atom_count', 'symmetry', 'E', 'T', 'S', 'G', 'H', 'I',\n",
      "       'B'],\n",
      "      dtype='object')\n"
     ]
    }
   ],
   "source": [
    "print(X_test.columns)"
   ]
  },
  {
   "cell_type": "code",
   "execution_count": 23,
   "id": "349b63e3",
   "metadata": {},
   "outputs": [
    {
     "data": {
      "text/html": [
       "\n",
       "        <iframe\n",
       "            width=\"100%\"\n",
       "            height=\"475\"\n",
       "            src=\"http://rpbs-priv2:40002/dtale/iframe/5\"\n",
       "            frameborder=\"0\"\n",
       "            allowfullscreen\n",
       "            \n",
       "        ></iframe>\n",
       "        "
      ],
      "text/plain": [
       "<IPython.lib.display.IFrame at 0x7f58e365fc10>"
      ]
     },
     "metadata": {},
     "output_type": "display_data"
    },
    {
     "data": {
      "text/plain": []
     },
     "execution_count": 23,
     "metadata": {},
     "output_type": "execute_result"
    }
   ],
   "source": [
    "dtale.show(X_test)"
   ]
  },
  {
   "cell_type": "code",
   "execution_count": 7,
   "id": "65147c2a-bdb4-4fff-868a-638f9fe88708",
   "metadata": {},
   "outputs": [],
   "source": [
    "import missingno as msno\n",
    "import dtale"
   ]
  },
  {
   "cell_type": "code",
   "execution_count": 46,
   "id": "5d5a609e",
   "metadata": {
    "scrolled": true
   },
   "outputs": [],
   "source": [
    "pickle.dump([columns_track,X_test.columns,listnames], open('columns.pickle', 'wb'))"
   ]
  },
  {
   "cell_type": "code",
   "execution_count": 47,
   "id": "1095e567",
   "metadata": {},
   "outputs": [
    {
     "data": {
      "text/html": [
       "\n",
       "        <iframe\n",
       "            width=\"100%\"\n",
       "            height=\"475\"\n",
       "            src=\"http://rpbs-priv2:40002/dtale/iframe/7\"\n",
       "            frameborder=\"0\"\n",
       "            allowfullscreen\n",
       "            \n",
       "        ></iframe>\n",
       "        "
      ],
      "text/plain": [
       "<IPython.lib.display.IFrame at 0x7f5918e99b10>"
      ]
     },
     "metadata": {},
     "output_type": "display_data"
    },
    {
     "data": {
      "text/plain": []
     },
     "execution_count": 47,
     "metadata": {},
     "output_type": "execute_result"
    }
   ],
   "source": [
    "dtale.show(resultdf)"
   ]
  },
  {
   "cell_type": "code",
   "execution_count": 48,
   "id": "12a79db7-6004-4c3c-9ef3-43c1a1694bbd",
   "metadata": {
    "scrolled": true
   },
   "outputs": [
    {
     "data": {
      "text/html": [
       "\n",
       "        <iframe\n",
       "            width=\"100%\"\n",
       "            height=\"475\"\n",
       "            src=\"http://rpbs-priv2:40002/dtale/iframe/8\"\n",
       "            frameborder=\"0\"\n",
       "            allowfullscreen\n",
       "            \n",
       "        ></iframe>\n",
       "        "
      ],
      "text/plain": [
       "<IPython.lib.display.IFrame at 0x7f58edc6b510>"
      ]
     },
     "metadata": {},
     "output_type": "display_data"
    },
    {
     "data": {
      "text/plain": []
     },
     "execution_count": 48,
     "metadata": {},
     "output_type": "execute_result"
    }
   ],
   "source": [
    "dtale.show(results_filtered)"
   ]
  },
  {
   "cell_type": "code",
   "execution_count": 49,
   "id": "e31b6099-b7b7-4229-a567-759784b79bb7",
   "metadata": {
    "scrolled": false
   },
   "outputs": [
    {
     "data": {
      "text/plain": [
       "<AxesSubplot: >"
      ]
     },
     "execution_count": 49,
     "metadata": {},
     "output_type": "execute_result"
    },
    {
     "data": {
      "image/png": "[encoded data removed]",
      "text/plain": [
       "<Figure size 2500x1000 with 2 Axes>"
      ]
     },
     "metadata": {},
     "output_type": "display_data"
    }
   ],
   "source": [
    "msno.matrix(results_filtered.sample(250))"
   ]
  },
  {
   "cell_type": "code",
   "execution_count": 50,
   "id": "66dc826d-0dd0-4b13-82b3-6b421f736d8b",
   "metadata": {},
   "outputs": [
    {
     "name": "stdout",
     "output_type": "stream",
     "text": [
      "Accuracy of the random forest classifier: 0.981\n"
     ]
    }
   ],
   "source": [
    "from sklearn.ensemble import RandomForestClassifier\n",
    "from sklearn.model_selection import train_test_split\n",
    "from sklearn.metrics import accuracy_score\n",
    "rf = RandomForestClassifier()\n",
    "\n",
    "# Fit the model on the training data\n",
    "rf.fit(X_train, y_train)\n",
    "\n",
    "# Predict the target variable for the test data\n",
    "y_pred = rf.predict(X_test)\n",
    "\n",
    "# Calculate the accuracy score of the model\n",
    "accuracy = accuracy_score(y_test, y_pred)\n",
    "print(f'Accuracy of the random forest classifier: {accuracy:.3f}')"
   ]
  },
  {
   "cell_type": "code",
   "execution_count": 51,
   "id": "771af7cb",
   "metadata": {},
   "outputs": [
    {
     "data": {
      "image/svg+xml": [
       "<?xml version=\"1.0\" encoding=\"UTF-8\" standalone=\"no\"?>\n",
       "<!DOCTYPE svg PUBLIC \"-//W3C//DTD SVG 1.1//EN\"\n",
       " \"http://www.w3.org/Graphics/SVG/1.1/DTD/svg11.dtd\">\n",
       "<!-- Generated by graphviz version 2.50.0 (0)\n",
       " -->\n",
       "<!-- Title: Tree Pages: 1 -->\n",
       "<svg width=\"514pt\" height=\"491pt\"\n",
       " viewBox=\"0.00 0.00 514.00 491.00\" xmlns=\"http://www.w3.org/2000/svg\" xmlns:xlink=\"http://www.w3.org/1999/xlink\">\n",
       "<g id=\"graph0\" class=\"graph\" transform=\"scale(1 1) rotate(0) translate(4 487)\">\n",
       "<title>Tree</title>\n",
       "<polygon fill=\"white\" stroke=\"transparent\" points=\"-4,4 -4,-487 510,-487 510,4 -4,4\"/>\n",
       "<!-- 0 -->\n",
       "<g id=\"node1\" class=\"node\">\n",
       "<title>0</title>\n",
       "<polygon fill=\"#e99458\" stroke=\"black\" points=\"347,-483 171,-483 171,-430 347,-430 347,-483\"/>\n",
       "<text text-anchor=\"middle\" x=\"259\" y=\"-467.8\" font-family=\"Helvetica,sans-Serif\" font-size=\"14.00\">SASA &lt;= &#45;0.705</text>\n",
       "<text text-anchor=\"middle\" x=\"259\" y=\"-452.8\" font-family=\"Helvetica,sans-Serif\" font-size=\"14.00\">samples = 100.0%</text>\n",
       "<text text-anchor=\"middle\" x=\"259\" y=\"-437.8\" font-family=\"Helvetica,sans-Serif\" font-size=\"14.00\">value = [0.867, 0.133]</text>\n",
       "</g>\n",
       "<!-- 1 -->\n",
       "<g id=\"node2\" class=\"node\">\n",
       "<title>1</title>\n",
       "<polygon fill=\"#399de5\" stroke=\"black\" points=\"241,-386.5 101,-386.5 101,-348.5 241,-348.5 241,-386.5\"/>\n",
       "<text text-anchor=\"middle\" x=\"171\" y=\"-371.3\" font-family=\"Helvetica,sans-Serif\" font-size=\"14.00\">samples = 10.2%</text>\n",
       "<text text-anchor=\"middle\" x=\"171\" y=\"-356.3\" font-family=\"Helvetica,sans-Serif\" font-size=\"14.00\">value = [0.0, 1.0]</text>\n",
       "</g>\n",
       "<!-- 0&#45;&gt;1 -->\n",
       "<g id=\"edge1\" class=\"edge\">\n",
       "<title>0&#45;&gt;1</title>\n",
       "<path fill=\"none\" stroke=\"black\" d=\"M233.07,-429.87C221.51,-418.44 207.93,-405.01 196.43,-393.64\"/>\n",
       "<polygon fill=\"black\" stroke=\"black\" points=\"198.79,-391.05 189.21,-386.51 193.86,-396.03 198.79,-391.05\"/>\n",
       "<text text-anchor=\"middle\" x=\"189.36\" y=\"-407.81\" font-family=\"Helvetica,sans-Serif\" font-size=\"14.00\">True</text>\n",
       "</g>\n",
       "<!-- 2 -->\n",
       "<g id=\"node3\" class=\"node\">\n",
       "<title>2</title>\n",
       "<polygon fill=\"#e68641\" stroke=\"black\" points=\"435,-394 259,-394 259,-341 435,-341 435,-394\"/>\n",
       "<text text-anchor=\"middle\" x=\"347\" y=\"-378.8\" font-family=\"Helvetica,sans-Serif\" font-size=\"14.00\">H &lt;= &#45;1.163</text>\n",
       "<text text-anchor=\"middle\" x=\"347\" y=\"-363.8\" font-family=\"Helvetica,sans-Serif\" font-size=\"14.00\">samples = 89.8%</text>\n",
       "<text text-anchor=\"middle\" x=\"347\" y=\"-348.8\" font-family=\"Helvetica,sans-Serif\" font-size=\"14.00\">value = [0.962, 0.038]</text>\n",
       "</g>\n",
       "<!-- 0&#45;&gt;2 -->\n",
       "<g id=\"edge2\" class=\"edge\">\n",
       "<title>0&#45;&gt;2</title>\n",
       "<path fill=\"none\" stroke=\"black\" d=\"M284.93,-429.87C293.98,-420.92 304.26,-410.75 313.82,-401.3\"/>\n",
       "<polygon fill=\"black\" stroke=\"black\" points=\"316.3,-403.77 320.95,-394.25 311.38,-398.79 316.3,-403.77\"/>\n",
       "<text text-anchor=\"middle\" x=\"320.81\" y=\"-415.55\" font-family=\"Helvetica,sans-Serif\" font-size=\"14.00\">False</text>\n",
       "</g>\n",
       "<!-- 3 -->\n",
       "<g id=\"node4\" class=\"node\">\n",
       "<title>3</title>\n",
       "<polygon fill=\"#f2be99\" stroke=\"black\" points=\"347.5,-305 168.5,-305 168.5,-252 347.5,-252 347.5,-305\"/>\n",
       "<text text-anchor=\"middle\" x=\"258\" y=\"-289.8\" font-family=\"Helvetica,sans-Serif\" font-size=\"14.00\">Number of H &lt;= 0.243</text>\n",
       "<text text-anchor=\"middle\" x=\"258\" y=\"-274.8\" font-family=\"Helvetica,sans-Serif\" font-size=\"14.00\">samples = 11.8%</text>\n",
       "<text text-anchor=\"middle\" x=\"258\" y=\"-259.8\" font-family=\"Helvetica,sans-Serif\" font-size=\"14.00\">value = [0.674, 0.326]</text>\n",
       "</g>\n",
       "<!-- 2&#45;&gt;3 -->\n",
       "<g id=\"edge3\" class=\"edge\">\n",
       "<title>2&#45;&gt;3</title>\n",
       "<path fill=\"none\" stroke=\"black\" d=\"M320.78,-340.87C311.63,-331.92 301.22,-321.75 291.56,-312.3\"/>\n",
       "<polygon fill=\"black\" stroke=\"black\" points=\"293.94,-309.74 284.34,-305.25 289.05,-314.74 293.94,-309.74\"/>\n",
       "</g>\n",
       "<!-- 10 -->\n",
       "<g id=\"node11\" class=\"node\">\n",
       "<title>10</title>\n",
       "<polygon fill=\"#e58139\" stroke=\"black\" points=\"506,-297.5 366,-297.5 366,-259.5 506,-259.5 506,-297.5\"/>\n",
       "<text text-anchor=\"middle\" x=\"436\" y=\"-282.3\" font-family=\"Helvetica,sans-Serif\" font-size=\"14.00\">samples = 78.0%</text>\n",
       "<text text-anchor=\"middle\" x=\"436\" y=\"-267.3\" font-family=\"Helvetica,sans-Serif\" font-size=\"14.00\">value = [1.0, 0.0]</text>\n",
       "</g>\n",
       "<!-- 2&#45;&gt;10 -->\n",
       "<g id=\"edge10\" class=\"edge\">\n",
       "<title>2&#45;&gt;10</title>\n",
       "<path fill=\"none\" stroke=\"black\" d=\"M373.22,-340.87C384.91,-329.44 398.65,-316.01 410.28,-304.64\"/>\n",
       "<polygon fill=\"black\" stroke=\"black\" points=\"412.88,-307 417.58,-297.51 407.98,-301.99 412.88,-307\"/>\n",
       "</g>\n",
       "<!-- 4 -->\n",
       "<g id=\"node5\" class=\"node\">\n",
       "<title>4</title>\n",
       "<polygon fill=\"#e78a47\" stroke=\"black\" points=\"270.5,-216 45.5,-216 45.5,-163 270.5,-163 270.5,-216\"/>\n",
       "<text text-anchor=\"middle\" x=\"158\" y=\"-200.8\" font-family=\"Helvetica,sans-Serif\" font-size=\"14.00\">H number w chains &lt;= 0.209</text>\n",
       "<text text-anchor=\"middle\" x=\"158\" y=\"-185.8\" font-family=\"Helvetica,sans-Serif\" font-size=\"14.00\">samples = 8.3%</text>\n",
       "<text text-anchor=\"middle\" x=\"158\" y=\"-170.8\" font-family=\"Helvetica,sans-Serif\" font-size=\"14.00\">value = [0.935, 0.065]</text>\n",
       "</g>\n",
       "<!-- 3&#45;&gt;4 -->\n",
       "<g id=\"edge4\" class=\"edge\">\n",
       "<title>3&#45;&gt;4</title>\n",
       "<path fill=\"none\" stroke=\"black\" d=\"M228.54,-251.87C218.15,-242.83 206.34,-232.55 195.39,-223.03\"/>\n",
       "<polygon fill=\"black\" stroke=\"black\" points=\"197.44,-220.17 187.6,-216.25 192.84,-225.45 197.44,-220.17\"/>\n",
       "</g>\n",
       "<!-- 9 -->\n",
       "<g id=\"node10\" class=\"node\">\n",
       "<title>9</title>\n",
       "<polygon fill=\"#399de5\" stroke=\"black\" points=\"429,-208.5 289,-208.5 289,-170.5 429,-170.5 429,-208.5\"/>\n",
       "<text text-anchor=\"middle\" x=\"359\" y=\"-193.3\" font-family=\"Helvetica,sans-Serif\" font-size=\"14.00\">samples = 3.5%</text>\n",
       "<text text-anchor=\"middle\" x=\"359\" y=\"-178.3\" font-family=\"Helvetica,sans-Serif\" font-size=\"14.00\">value = [0.0, 1.0]</text>\n",
       "</g>\n",
       "<!-- 3&#45;&gt;9 -->\n",
       "<g id=\"edge9\" class=\"edge\">\n",
       "<title>3&#45;&gt;9</title>\n",
       "<path fill=\"none\" stroke=\"black\" d=\"M287.76,-251.87C301.15,-240.33 316.91,-226.76 330.19,-215.32\"/>\n",
       "<polygon fill=\"black\" stroke=\"black\" points=\"332.8,-217.68 338.1,-208.51 328.23,-212.38 332.8,-217.68\"/>\n",
       "</g>\n",
       "<!-- 5 -->\n",
       "<g id=\"node6\" class=\"node\">\n",
       "<title>5</title>\n",
       "<polygon fill=\"#e58139\" stroke=\"black\" points=\"140,-119.5 0,-119.5 0,-81.5 140,-81.5 140,-119.5\"/>\n",
       "<text text-anchor=\"middle\" x=\"70\" y=\"-104.3\" font-family=\"Helvetica,sans-Serif\" font-size=\"14.00\">samples = 7.1%</text>\n",
       "<text text-anchor=\"middle\" x=\"70\" y=\"-89.3\" font-family=\"Helvetica,sans-Serif\" font-size=\"14.00\">value = [1.0, 0.0]</text>\n",
       "</g>\n",
       "<!-- 4&#45;&gt;5 -->\n",
       "<g id=\"edge5\" class=\"edge\">\n",
       "<title>4&#45;&gt;5</title>\n",
       "<path fill=\"none\" stroke=\"black\" d=\"M132.07,-162.87C120.51,-151.44 106.93,-138.01 95.43,-126.64\"/>\n",
       "<polygon fill=\"black\" stroke=\"black\" points=\"97.79,-124.05 88.21,-119.51 92.86,-129.03 97.79,-124.05\"/>\n",
       "</g>\n",
       "<!-- 6 -->\n",
       "<g id=\"node7\" class=\"node\">\n",
       "<title>6</title>\n",
       "<polygon fill=\"#9ccef2\" stroke=\"black\" points=\"334,-127 158,-127 158,-74 334,-74 334,-127\"/>\n",
       "<text text-anchor=\"middle\" x=\"246\" y=\"-111.8\" font-family=\"Helvetica,sans-Serif\" font-size=\"14.00\">symmetry &lt;= 0.697</text>\n",
       "<text text-anchor=\"middle\" x=\"246\" y=\"-96.8\" font-family=\"Helvetica,sans-Serif\" font-size=\"14.00\">samples = 1.2%</text>\n",
       "<text text-anchor=\"middle\" x=\"246\" y=\"-81.8\" font-family=\"Helvetica,sans-Serif\" font-size=\"14.00\">value = [0.333, 0.667]</text>\n",
       "</g>\n",
       "<!-- 4&#45;&gt;6 -->\n",
       "<g id=\"edge6\" class=\"edge\">\n",
       "<title>4&#45;&gt;6</title>\n",
       "<path fill=\"none\" stroke=\"black\" d=\"M183.93,-162.87C192.98,-153.92 203.26,-143.75 212.82,-134.3\"/>\n",
       "<polygon fill=\"black\" stroke=\"black\" points=\"215.3,-136.77 219.95,-127.25 210.38,-131.79 215.3,-136.77\"/>\n",
       "</g>\n",
       "<!-- 7 -->\n",
       "<g id=\"node8\" class=\"node\">\n",
       "<title>7</title>\n",
       "<polygon fill=\"#e58139\" stroke=\"black\" points=\"237,-38 97,-38 97,0 237,0 237,-38\"/>\n",
       "<text text-anchor=\"middle\" x=\"167\" y=\"-22.8\" font-family=\"Helvetica,sans-Serif\" font-size=\"14.00\">samples = 0.4%</text>\n",
       "<text text-anchor=\"middle\" x=\"167\" y=\"-7.8\" font-family=\"Helvetica,sans-Serif\" font-size=\"14.00\">value = [1.0, 0.0]</text>\n",
       "</g>\n",
       "<!-- 6&#45;&gt;7 -->\n",
       "<g id=\"edge7\" class=\"edge\">\n",
       "<title>6&#45;&gt;7</title>\n",
       "<path fill=\"none\" stroke=\"black\" d=\"M220.57,-73.91C211.55,-64.83 201.4,-54.62 192.38,-45.54\"/>\n",
       "<polygon fill=\"black\" stroke=\"black\" points=\"194.66,-42.87 185.12,-38.24 189.69,-47.8 194.66,-42.87\"/>\n",
       "</g>\n",
       "<!-- 8 -->\n",
       "<g id=\"node9\" class=\"node\">\n",
       "<title>8</title>\n",
       "<polygon fill=\"#399de5\" stroke=\"black\" points=\"395,-38 255,-38 255,0 395,0 395,-38\"/>\n",
       "<text text-anchor=\"middle\" x=\"325\" y=\"-22.8\" font-family=\"Helvetica,sans-Serif\" font-size=\"14.00\">samples = 0.8%</text>\n",
       "<text text-anchor=\"middle\" x=\"325\" y=\"-7.8\" font-family=\"Helvetica,sans-Serif\" font-size=\"14.00\">value = [0.0, 1.0]</text>\n",
       "</g>\n",
       "<!-- 6&#45;&gt;8 -->\n",
       "<g id=\"edge8\" class=\"edge\">\n",
       "<title>6&#45;&gt;8</title>\n",
       "<path fill=\"none\" stroke=\"black\" d=\"M271.43,-73.91C280.45,-64.83 290.6,-54.62 299.62,-45.54\"/>\n",
       "<polygon fill=\"black\" stroke=\"black\" points=\"302.31,-47.8 306.88,-38.24 297.34,-42.87 302.31,-47.8\"/>\n",
       "</g>\n",
       "</g>\n",
       "</svg>\n"
      ],
      "text/plain": [
       "<graphviz.sources.Source at 0x7f591793cb10>"
      ]
     },
     "metadata": {},
     "output_type": "display_data"
    },
    {
     "data": {
      "image/svg+xml": [
       "<?xml version=\"1.0\" encoding=\"UTF-8\" standalone=\"no\"?>\n",
       "<!DOCTYPE svg PUBLIC \"-//W3C//DTD SVG 1.1//EN\"\n",
       " \"http://www.w3.org/Graphics/SVG/1.1/DTD/svg11.dtd\">\n",
       "<!-- Generated by graphviz version 2.50.0 (0)\n",
       " -->\n",
       "<!-- Title: Tree Pages: 1 -->\n",
       "<svg width=\"428pt\" height=\"402pt\"\n",
       " viewBox=\"0.00 0.00 428.00 402.00\" xmlns=\"http://www.w3.org/2000/svg\" xmlns:xlink=\"http://www.w3.org/1999/xlink\">\n",
       "<g id=\"graph0\" class=\"graph\" transform=\"scale(1 1) rotate(0) translate(4 398)\">\n",
       "<title>Tree</title>\n",
       "<polygon fill=\"white\" stroke=\"transparent\" points=\"-4,4 -4,-398 424,-398 424,4 -4,4\"/>\n",
       "<!-- 0 -->\n",
       "<g id=\"node1\" class=\"node\">\n",
       "<title>0</title>\n",
       "<polygon fill=\"#e89051\" stroke=\"black\" points=\"259,-394 83,-394 83,-341 259,-341 259,-394\"/>\n",
       "<text text-anchor=\"middle\" x=\"171\" y=\"-378.8\" font-family=\"Helvetica,sans-Serif\" font-size=\"14.00\">SASA &lt;= &#45;0.73</text>\n",
       "<text text-anchor=\"middle\" x=\"171\" y=\"-363.8\" font-family=\"Helvetica,sans-Serif\" font-size=\"14.00\">samples = 100.0%</text>\n",
       "<text text-anchor=\"middle\" x=\"171\" y=\"-348.8\" font-family=\"Helvetica,sans-Serif\" font-size=\"14.00\">value = [0.891, 0.109]</text>\n",
       "</g>\n",
       "<!-- 1 -->\n",
       "<g id=\"node2\" class=\"node\">\n",
       "<title>1</title>\n",
       "<polygon fill=\"#399de5\" stroke=\"black\" points=\"153,-297.5 13,-297.5 13,-259.5 153,-259.5 153,-297.5\"/>\n",
       "<text text-anchor=\"middle\" x=\"83\" y=\"-282.3\" font-family=\"Helvetica,sans-Serif\" font-size=\"14.00\">samples = 7.1%</text>\n",
       "<text text-anchor=\"middle\" x=\"83\" y=\"-267.3\" font-family=\"Helvetica,sans-Serif\" font-size=\"14.00\">value = [0.0, 1.0]</text>\n",
       "</g>\n",
       "<!-- 0&#45;&gt;1 -->\n",
       "<g id=\"edge1\" class=\"edge\">\n",
       "<title>0&#45;&gt;1</title>\n",
       "<path fill=\"none\" stroke=\"black\" d=\"M145.07,-340.87C133.51,-329.44 119.93,-316.01 108.43,-304.64\"/>\n",
       "<polygon fill=\"black\" stroke=\"black\" points=\"110.79,-302.05 101.21,-297.51 105.86,-307.03 110.79,-302.05\"/>\n",
       "<text text-anchor=\"middle\" x=\"101.36\" y=\"-318.81\" font-family=\"Helvetica,sans-Serif\" font-size=\"14.00\">True</text>\n",
       "</g>\n",
       "<!-- 2 -->\n",
       "<g id=\"node3\" class=\"node\">\n",
       "<title>2</title>\n",
       "<polygon fill=\"#e78945\" stroke=\"black\" points=\"347,-305 171,-305 171,-252 347,-252 347,-305\"/>\n",
       "<text text-anchor=\"middle\" x=\"259\" y=\"-289.8\" font-family=\"Helvetica,sans-Serif\" font-size=\"14.00\">H &lt;= &#45;1.163</text>\n",
       "<text text-anchor=\"middle\" x=\"259\" y=\"-274.8\" font-family=\"Helvetica,sans-Serif\" font-size=\"14.00\">samples = 92.9%</text>\n",
       "<text text-anchor=\"middle\" x=\"259\" y=\"-259.8\" font-family=\"Helvetica,sans-Serif\" font-size=\"14.00\">value = [0.941, 0.059]</text>\n",
       "</g>\n",
       "<!-- 0&#45;&gt;2 -->\n",
       "<g id=\"edge2\" class=\"edge\">\n",
       "<title>0&#45;&gt;2</title>\n",
       "<path fill=\"none\" stroke=\"black\" d=\"M196.93,-340.87C205.98,-331.92 216.26,-321.75 225.82,-312.3\"/>\n",
       "<polygon fill=\"black\" stroke=\"black\" points=\"228.3,-314.77 232.95,-305.25 223.38,-309.79 228.3,-314.77\"/>\n",
       "<text text-anchor=\"middle\" x=\"232.81\" y=\"-326.55\" font-family=\"Helvetica,sans-Serif\" font-size=\"14.00\">False</text>\n",
       "</g>\n",
       "<!-- 3 -->\n",
       "<g id=\"node4\" class=\"node\">\n",
       "<title>3</title>\n",
       "<polygon fill=\"#f8dcc7\" stroke=\"black\" points=\"259.5,-216 80.5,-216 80.5,-163 259.5,-163 259.5,-216\"/>\n",
       "<text text-anchor=\"middle\" x=\"170\" y=\"-200.8\" font-family=\"Helvetica,sans-Serif\" font-size=\"14.00\">Number of H &lt;= 0.076</text>\n",
       "<text text-anchor=\"middle\" x=\"170\" y=\"-185.8\" font-family=\"Helvetica,sans-Serif\" font-size=\"14.00\">samples = 12.3%</text>\n",
       "<text text-anchor=\"middle\" x=\"170\" y=\"-170.8\" font-family=\"Helvetica,sans-Serif\" font-size=\"14.00\">value = [0.582, 0.418]</text>\n",
       "</g>\n",
       "<!-- 2&#45;&gt;3 -->\n",
       "<g id=\"edge3\" class=\"edge\">\n",
       "<title>2&#45;&gt;3</title>\n",
       "<path fill=\"none\" stroke=\"black\" d=\"M232.78,-251.87C223.63,-242.92 213.22,-232.75 203.56,-223.3\"/>\n",
       "<polygon fill=\"black\" stroke=\"black\" points=\"205.94,-220.74 196.34,-216.25 201.05,-225.74 205.94,-220.74\"/>\n",
       "</g>\n",
       "<!-- 8 -->\n",
       "<g id=\"node9\" class=\"node\">\n",
       "<title>8</title>\n",
       "<polygon fill=\"#e58139\" stroke=\"black\" points=\"418,-208.5 278,-208.5 278,-170.5 418,-170.5 418,-208.5\"/>\n",
       "<text text-anchor=\"middle\" x=\"348\" y=\"-193.3\" font-family=\"Helvetica,sans-Serif\" font-size=\"14.00\">samples = 80.7%</text>\n",
       "<text text-anchor=\"middle\" x=\"348\" y=\"-178.3\" font-family=\"Helvetica,sans-Serif\" font-size=\"14.00\">value = [1.0, 0.0]</text>\n",
       "</g>\n",
       "<!-- 2&#45;&gt;8 -->\n",
       "<g id=\"edge8\" class=\"edge\">\n",
       "<title>2&#45;&gt;8</title>\n",
       "<path fill=\"none\" stroke=\"black\" d=\"M285.22,-251.87C296.91,-240.44 310.65,-227.01 322.28,-215.64\"/>\n",
       "<polygon fill=\"black\" stroke=\"black\" points=\"324.88,-218 329.58,-208.51 319.98,-212.99 324.88,-218\"/>\n",
       "</g>\n",
       "<!-- 4 -->\n",
       "<g id=\"node5\" class=\"node\">\n",
       "<title>4</title>\n",
       "<polygon fill=\"#e58139\" stroke=\"black\" points=\"140,-119.5 0,-119.5 0,-81.5 140,-81.5 140,-119.5\"/>\n",
       "<text text-anchor=\"middle\" x=\"70\" y=\"-104.3\" font-family=\"Helvetica,sans-Serif\" font-size=\"14.00\">samples = 6.3%</text>\n",
       "<text text-anchor=\"middle\" x=\"70\" y=\"-89.3\" font-family=\"Helvetica,sans-Serif\" font-size=\"14.00\">value = [1.0, 0.0]</text>\n",
       "</g>\n",
       "<!-- 3&#45;&gt;4 -->\n",
       "<g id=\"edge4\" class=\"edge\">\n",
       "<title>3&#45;&gt;4</title>\n",
       "<path fill=\"none\" stroke=\"black\" d=\"M140.54,-162.87C127.27,-151.33 111.68,-137.76 98.53,-126.32\"/>\n",
       "<polygon fill=\"black\" stroke=\"black\" points=\"100.54,-123.43 90.7,-119.51 95.94,-128.71 100.54,-123.43\"/>\n",
       "</g>\n",
       "<!-- 5 -->\n",
       "<g id=\"node6\" class=\"node\">\n",
       "<title>5</title>\n",
       "<polygon fill=\"#4aa6e7\" stroke=\"black\" points=\"383.5,-127 158.5,-127 158.5,-74 383.5,-74 383.5,-127\"/>\n",
       "<text text-anchor=\"middle\" x=\"271\" y=\"-111.8\" font-family=\"Helvetica,sans-Serif\" font-size=\"14.00\">H number w chains &lt;= 0.095</text>\n",
       "<text text-anchor=\"middle\" x=\"271\" y=\"-96.8\" font-family=\"Helvetica,sans-Serif\" font-size=\"14.00\">samples = 5.9%</text>\n",
       "<text text-anchor=\"middle\" x=\"271\" y=\"-81.8\" font-family=\"Helvetica,sans-Serif\" font-size=\"14.00\">value = [0.08, 0.92]</text>\n",
       "</g>\n",
       "<!-- 3&#45;&gt;5 -->\n",
       "<g id=\"edge5\" class=\"edge\">\n",
       "<title>3&#45;&gt;5</title>\n",
       "<path fill=\"none\" stroke=\"black\" d=\"M199.76,-162.87C210.25,-153.83 222.18,-143.55 233.24,-134.03\"/>\n",
       "<polygon fill=\"black\" stroke=\"black\" points=\"235.81,-136.43 241.11,-127.25 231.25,-131.12 235.81,-136.43\"/>\n",
       "</g>\n",
       "<!-- 6 -->\n",
       "<g id=\"node7\" class=\"node\">\n",
       "<title>6</title>\n",
       "<polygon fill=\"#e58139\" stroke=\"black\" points=\"262,-38 122,-38 122,0 262,0 262,-38\"/>\n",
       "<text text-anchor=\"middle\" x=\"192\" y=\"-22.8\" font-family=\"Helvetica,sans-Serif\" font-size=\"14.00\">samples = 0.7%</text>\n",
       "<text text-anchor=\"middle\" x=\"192\" y=\"-7.8\" font-family=\"Helvetica,sans-Serif\" font-size=\"14.00\">value = [1.0, 0.0]</text>\n",
       "</g>\n",
       "<!-- 5&#45;&gt;6 -->\n",
       "<g id=\"edge6\" class=\"edge\">\n",
       "<title>5&#45;&gt;6</title>\n",
       "<path fill=\"none\" stroke=\"black\" d=\"M245.57,-73.91C236.55,-64.83 226.4,-54.62 217.38,-45.54\"/>\n",
       "<polygon fill=\"black\" stroke=\"black\" points=\"219.66,-42.87 210.12,-38.24 214.69,-47.8 219.66,-42.87\"/>\n",
       "</g>\n",
       "<!-- 7 -->\n",
       "<g id=\"node8\" class=\"node\">\n",
       "<title>7</title>\n",
       "<polygon fill=\"#399de5\" stroke=\"black\" points=\"420,-38 280,-38 280,0 420,0 420,-38\"/>\n",
       "<text text-anchor=\"middle\" x=\"350\" y=\"-22.8\" font-family=\"Helvetica,sans-Serif\" font-size=\"14.00\">samples = 5.2%</text>\n",
       "<text text-anchor=\"middle\" x=\"350\" y=\"-7.8\" font-family=\"Helvetica,sans-Serif\" font-size=\"14.00\">value = [0.0, 1.0]</text>\n",
       "</g>\n",
       "<!-- 5&#45;&gt;7 -->\n",
       "<g id=\"edge7\" class=\"edge\">\n",
       "<title>5&#45;&gt;7</title>\n",
       "<path fill=\"none\" stroke=\"black\" d=\"M296.43,-73.91C305.45,-64.83 315.6,-54.62 324.62,-45.54\"/>\n",
       "<polygon fill=\"black\" stroke=\"black\" points=\"327.31,-47.8 331.88,-38.24 322.34,-42.87 327.31,-47.8\"/>\n",
       "</g>\n",
       "</g>\n",
       "</svg>\n"
      ],
      "text/plain": [
       "<graphviz.sources.Source at 0x7f5917aa1a10>"
      ]
     },
     "metadata": {},
     "output_type": "display_data"
    },
    {
     "data": {
      "image/svg+xml": [
       "<?xml version=\"1.0\" encoding=\"UTF-8\" standalone=\"no\"?>\n",
       "<!DOCTYPE svg PUBLIC \"-//W3C//DTD SVG 1.1//EN\"\n",
       " \"http://www.w3.org/Graphics/SVG/1.1/DTD/svg11.dtd\">\n",
       "<!-- Generated by graphviz version 2.50.0 (0)\n",
       " -->\n",
       "<!-- Title: Tree Pages: 1 -->\n",
       "<svg width=\"1484pt\" height=\"491pt\"\n",
       " viewBox=\"0.00 0.00 1484.00 491.00\" xmlns=\"http://www.w3.org/2000/svg\" xmlns:xlink=\"http://www.w3.org/1999/xlink\">\n",
       "<g id=\"graph0\" class=\"graph\" transform=\"scale(1 1) rotate(0) translate(4 487)\">\n",
       "<title>Tree</title>\n",
       "<polygon fill=\"white\" stroke=\"transparent\" points=\"-4,4 -4,-487 1480,-487 1480,4 -4,4\"/>\n",
       "<!-- 0 -->\n",
       "<g id=\"node1\" class=\"node\">\n",
       "<title>0</title>\n",
       "<polygon fill=\"#ea975b\" stroke=\"black\" points=\"905,-483 729,-483 729,-430 905,-430 905,-483\"/>\n",
       "<text text-anchor=\"middle\" x=\"817\" y=\"-467.8\" font-family=\"Helvetica,sans-Serif\" font-size=\"14.00\">symmetry &lt;= 1.361</text>\n",
       "<text text-anchor=\"middle\" x=\"817\" y=\"-452.8\" font-family=\"Helvetica,sans-Serif\" font-size=\"14.00\">samples = 100.0%</text>\n",
       "<text text-anchor=\"middle\" x=\"817\" y=\"-437.8\" font-family=\"Helvetica,sans-Serif\" font-size=\"14.00\">value = [0.852, 0.148]</text>\n",
       "</g>\n",
       "<!-- 1 -->\n",
       "<g id=\"node2\" class=\"node\">\n",
       "<title>1</title>\n",
       "<polygon fill=\"#e89051\" stroke=\"black\" points=\"720.5,-394 525.5,-394 525.5,-341 720.5,-341 720.5,-394\"/>\n",
       "<text text-anchor=\"middle\" x=\"623\" y=\"-378.8\" font-family=\"Helvetica,sans-Serif\" font-size=\"14.00\">Hydrophobicity &lt;= 0.711</text>\n",
       "<text text-anchor=\"middle\" x=\"623\" y=\"-363.8\" font-family=\"Helvetica,sans-Serif\" font-size=\"14.00\">samples = 93.1%</text>\n",
       "<text text-anchor=\"middle\" x=\"623\" y=\"-348.8\" font-family=\"Helvetica,sans-Serif\" font-size=\"14.00\">value = [0.893, 0.107]</text>\n",
       "</g>\n",
       "<!-- 0&#45;&gt;1 -->\n",
       "<g id=\"edge1\" class=\"edge\">\n",
       "<title>0&#45;&gt;1</title>\n",
       "<path fill=\"none\" stroke=\"black\" d=\"M760.1,-429.98C737.9,-420.03 712.28,-408.54 689.25,-398.21\"/>\n",
       "<polygon fill=\"black\" stroke=\"black\" points=\"690.45,-394.91 679.89,-394.01 687.59,-401.3 690.45,-394.91\"/>\n",
       "<text text-anchor=\"middle\" x=\"688.79\" y=\"-413.68\" font-family=\"Helvetica,sans-Serif\" font-size=\"14.00\">True</text>\n",
       "</g>\n",
       "<!-- 16 -->\n",
       "<g id=\"node17\" class=\"node\">\n",
       "<title>16</title>\n",
       "<polygon fill=\"#92c9f1\" stroke=\"black\" points=\"1086.5,-394 915.5,-394 915.5,-341 1086.5,-341 1086.5,-394\"/>\n",
       "<text text-anchor=\"middle\" x=\"1001\" y=\"-378.8\" font-family=\"Helvetica,sans-Serif\" font-size=\"14.00\">atom_count &lt;= 0.316</text>\n",
       "<text text-anchor=\"middle\" x=\"1001\" y=\"-363.8\" font-family=\"Helvetica,sans-Serif\" font-size=\"14.00\">samples = 6.9%</text>\n",
       "<text text-anchor=\"middle\" x=\"1001\" y=\"-348.8\" font-family=\"Helvetica,sans-Serif\" font-size=\"14.00\">value = [0.31, 0.69]</text>\n",
       "</g>\n",
       "<!-- 0&#45;&gt;16 -->\n",
       "<g id=\"edge16\" class=\"edge\">\n",
       "<title>0&#45;&gt;16</title>\n",
       "<path fill=\"none\" stroke=\"black\" d=\"M871.21,-429.87C892.08,-420 916.09,-408.65 937.74,-398.41\"/>\n",
       "<polygon fill=\"black\" stroke=\"black\" points=\"939.31,-401.54 946.86,-394.1 936.32,-395.21 939.31,-401.54\"/>\n",
       "<text text-anchor=\"middle\" x=\"938.43\" y=\"-413.94\" font-family=\"Helvetica,sans-Serif\" font-size=\"14.00\">False</text>\n",
       "</g>\n",
       "<!-- 2 -->\n",
       "<g id=\"node3\" class=\"node\">\n",
       "<title>2</title>\n",
       "<polygon fill=\"#e5823a\" stroke=\"black\" points=\"352,-305 176,-305 176,-252 352,-252 352,-305\"/>\n",
       "<text text-anchor=\"middle\" x=\"264\" y=\"-289.8\" font-family=\"Helvetica,sans-Serif\" font-size=\"14.00\">S &lt;= 1.609</text>\n",
       "<text text-anchor=\"middle\" x=\"264\" y=\"-274.8\" font-family=\"Helvetica,sans-Serif\" font-size=\"14.00\">samples = 78.8%</text>\n",
       "<text text-anchor=\"middle\" x=\"264\" y=\"-259.8\" font-family=\"Helvetica,sans-Serif\" font-size=\"14.00\">value = [0.994, 0.006]</text>\n",
       "</g>\n",
       "<!-- 1&#45;&gt;2 -->\n",
       "<g id=\"edge2\" class=\"edge\">\n",
       "<title>1&#45;&gt;2</title>\n",
       "<path fill=\"none\" stroke=\"black\" d=\"M525.38,-342.84C474.67,-330.55 412.87,-315.58 362.09,-303.27\"/>\n",
       "<polygon fill=\"black\" stroke=\"black\" points=\"362.63,-299.8 352.09,-300.85 360.98,-306.6 362.63,-299.8\"/>\n",
       "</g>\n",
       "<!-- 7 -->\n",
       "<g id=\"node8\" class=\"node\">\n",
       "<title>7</title>\n",
       "<polygon fill=\"#8ac5f0\" stroke=\"black\" points=\"744,-305 502,-305 502,-252 744,-252 744,-305\"/>\n",
       "<text text-anchor=\"middle\" x=\"623\" y=\"-289.8\" font-family=\"Helvetica,sans-Serif\" font-size=\"14.00\">experimental_method &lt;= 1.531</text>\n",
       "<text text-anchor=\"middle\" x=\"623\" y=\"-274.8\" font-family=\"Helvetica,sans-Serif\" font-size=\"14.00\">samples = 14.2%</text>\n",
       "<text text-anchor=\"middle\" x=\"623\" y=\"-259.8\" font-family=\"Helvetica,sans-Serif\" font-size=\"14.00\">value = [0.291, 0.709]</text>\n",
       "</g>\n",
       "<!-- 1&#45;&gt;7 -->\n",
       "<g id=\"edge7\" class=\"edge\">\n",
       "<title>1&#45;&gt;7</title>\n",
       "<path fill=\"none\" stroke=\"black\" d=\"M623,-340.87C623,-332.89 623,-323.93 623,-315.38\"/>\n",
       "<polygon fill=\"black\" stroke=\"black\" points=\"626.5,-315.25 623,-305.25 619.5,-315.25 626.5,-315.25\"/>\n",
       "</g>\n",
       "<!-- 3 -->\n",
       "<g id=\"node4\" class=\"node\">\n",
       "<title>3</title>\n",
       "<polygon fill=\"#e58139\" stroke=\"black\" points=\"140,-208.5 0,-208.5 0,-170.5 140,-170.5 140,-208.5\"/>\n",
       "<text text-anchor=\"middle\" x=\"70\" y=\"-193.3\" font-family=\"Helvetica,sans-Serif\" font-size=\"14.00\">samples = 76.9%</text>\n",
       "<text text-anchor=\"middle\" x=\"70\" y=\"-178.3\" font-family=\"Helvetica,sans-Serif\" font-size=\"14.00\">value = [1.0, 0.0]</text>\n",
       "</g>\n",
       "<!-- 2&#45;&gt;3 -->\n",
       "<g id=\"edge3\" class=\"edge\">\n",
       "<title>2&#45;&gt;3</title>\n",
       "<path fill=\"none\" stroke=\"black\" d=\"M207.1,-251.98C179.3,-239.52 146.16,-224.66 119.43,-212.67\"/>\n",
       "<polygon fill=\"black\" stroke=\"black\" points=\"120.82,-209.45 110.26,-208.55 117.95,-215.84 120.82,-209.45\"/>\n",
       "</g>\n",
       "<!-- 4 -->\n",
       "<g id=\"node5\" class=\"node\">\n",
       "<title>4</title>\n",
       "<polygon fill=\"#eeab7b\" stroke=\"black\" points=\"370,-216 158,-216 158,-163 370,-163 370,-216\"/>\n",
       "<text text-anchor=\"middle\" x=\"264\" y=\"-200.8\" font-family=\"Helvetica,sans-Serif\" font-size=\"14.00\">oligomeric_state1 &lt;= 0.845</text>\n",
       "<text text-anchor=\"middle\" x=\"264\" y=\"-185.8\" font-family=\"Helvetica,sans-Serif\" font-size=\"14.00\">samples = 1.9%</text>\n",
       "<text text-anchor=\"middle\" x=\"264\" y=\"-170.8\" font-family=\"Helvetica,sans-Serif\" font-size=\"14.00\">value = [0.75, 0.25]</text>\n",
       "</g>\n",
       "<!-- 2&#45;&gt;4 -->\n",
       "<g id=\"edge4\" class=\"edge\">\n",
       "<title>2&#45;&gt;4</title>\n",
       "<path fill=\"none\" stroke=\"black\" d=\"M264,-251.87C264,-243.89 264,-234.93 264,-226.38\"/>\n",
       "<polygon fill=\"black\" stroke=\"black\" points=\"267.5,-226.25 264,-216.25 260.5,-226.25 267.5,-226.25\"/>\n",
       "</g>\n",
       "<!-- 5 -->\n",
       "<g id=\"node6\" class=\"node\">\n",
       "<title>5</title>\n",
       "<polygon fill=\"#399de5\" stroke=\"black\" points=\"176,-119.5 36,-119.5 36,-81.5 176,-81.5 176,-119.5\"/>\n",
       "<text text-anchor=\"middle\" x=\"106\" y=\"-104.3\" font-family=\"Helvetica,sans-Serif\" font-size=\"14.00\">samples = 0.8%</text>\n",
       "<text text-anchor=\"middle\" x=\"106\" y=\"-89.3\" font-family=\"Helvetica,sans-Serif\" font-size=\"14.00\">value = [0.0, 1.0]</text>\n",
       "</g>\n",
       "<!-- 4&#45;&gt;5 -->\n",
       "<g id=\"edge5\" class=\"edge\">\n",
       "<title>4&#45;&gt;5</title>\n",
       "<path fill=\"none\" stroke=\"black\" d=\"M217.45,-162.87C195.31,-150.68 169.05,-136.22 147.58,-124.4\"/>\n",
       "<polygon fill=\"black\" stroke=\"black\" points=\"149.15,-121.26 138.7,-119.51 145.77,-127.4 149.15,-121.26\"/>\n",
       "</g>\n",
       "<!-- 6 -->\n",
       "<g id=\"node7\" class=\"node\">\n",
       "<title>6</title>\n",
       "<polygon fill=\"#e58139\" stroke=\"black\" points=\"334,-119.5 194,-119.5 194,-81.5 334,-81.5 334,-119.5\"/>\n",
       "<text text-anchor=\"middle\" x=\"264\" y=\"-104.3\" font-family=\"Helvetica,sans-Serif\" font-size=\"14.00\">samples = 1.2%</text>\n",
       "<text text-anchor=\"middle\" x=\"264\" y=\"-89.3\" font-family=\"Helvetica,sans-Serif\" font-size=\"14.00\">value = [1.0, 0.0]</text>\n",
       "</g>\n",
       "<!-- 4&#45;&gt;6 -->\n",
       "<g id=\"edge6\" class=\"edge\">\n",
       "<title>4&#45;&gt;6</title>\n",
       "<path fill=\"none\" stroke=\"black\" d=\"M264,-162.87C264,-152.42 264,-140.3 264,-129.61\"/>\n",
       "<polygon fill=\"black\" stroke=\"black\" points=\"267.5,-129.51 264,-119.51 260.5,-129.51 267.5,-129.51\"/>\n",
       "</g>\n",
       "<!-- 8 -->\n",
       "<g id=\"node9\" class=\"node\">\n",
       "<title>8</title>\n",
       "<polygon fill=\"#58ace9\" stroke=\"black\" points=\"650,-216 438,-216 438,-163 650,-163 650,-216\"/>\n",
       "<text text-anchor=\"middle\" x=\"544\" y=\"-200.8\" font-family=\"Helvetica,sans-Serif\" font-size=\"14.00\">oligomeric_state2 &lt;= 0.422</text>\n",
       "<text text-anchor=\"middle\" x=\"544\" y=\"-185.8\" font-family=\"Helvetica,sans-Serif\" font-size=\"14.00\">samples = 10.8%</text>\n",
       "<text text-anchor=\"middle\" x=\"544\" y=\"-170.8\" font-family=\"Helvetica,sans-Serif\" font-size=\"14.00\">value = [0.136, 0.864]</text>\n",
       "</g>\n",
       "<!-- 7&#45;&gt;8 -->\n",
       "<g id=\"edge8\" class=\"edge\">\n",
       "<title>7&#45;&gt;8</title>\n",
       "<path fill=\"none\" stroke=\"black\" d=\"M599.72,-251.87C591.76,-243.1 582.73,-233.15 574.29,-223.86\"/>\n",
       "<polygon fill=\"black\" stroke=\"black\" points=\"576.7,-221.3 567.38,-216.25 571.51,-226.01 576.7,-221.3\"/>\n",
       "</g>\n",
       "<!-- 13 -->\n",
       "<g id=\"node14\" class=\"node\">\n",
       "<title>13</title>\n",
       "<polygon fill=\"#e88e4d\" stroke=\"black\" points=\"844,-216 668,-216 668,-163 844,-163 844,-216\"/>\n",
       "<text text-anchor=\"middle\" x=\"756\" y=\"-200.8\" font-family=\"Helvetica,sans-Serif\" font-size=\"14.00\">E &lt;= 1.746</text>\n",
       "<text text-anchor=\"middle\" x=\"756\" y=\"-185.8\" font-family=\"Helvetica,sans-Serif\" font-size=\"14.00\">samples = 3.5%</text>\n",
       "<text text-anchor=\"middle\" x=\"756\" y=\"-170.8\" font-family=\"Helvetica,sans-Serif\" font-size=\"14.00\">value = [0.909, 0.091]</text>\n",
       "</g>\n",
       "<!-- 7&#45;&gt;13 -->\n",
       "<g id=\"edge13\" class=\"edge\">\n",
       "<title>7&#45;&gt;13</title>\n",
       "<path fill=\"none\" stroke=\"black\" d=\"M662.19,-251.87C676.53,-242.48 692.93,-231.75 707.97,-221.92\"/>\n",
       "<polygon fill=\"black\" stroke=\"black\" points=\"710.18,-224.65 716.64,-216.25 706.35,-218.79 710.18,-224.65\"/>\n",
       "</g>\n",
       "<!-- 9 -->\n",
       "<g id=\"node10\" class=\"node\">\n",
       "<title>9</title>\n",
       "<polygon fill=\"#43a2e6\" stroke=\"black\" points=\"510,-127 352,-127 352,-74 510,-74 510,-127\"/>\n",
       "<text text-anchor=\"middle\" x=\"431\" y=\"-111.8\" font-family=\"Helvetica,sans-Serif\" font-size=\"14.00\">G &lt;= &#45;0.851</text>\n",
       "<text text-anchor=\"middle\" x=\"431\" y=\"-96.8\" font-family=\"Helvetica,sans-Serif\" font-size=\"14.00\">samples = 9.6%</text>\n",
       "<text text-anchor=\"middle\" x=\"431\" y=\"-81.8\" font-family=\"Helvetica,sans-Serif\" font-size=\"14.00\">value = [0.05, 0.95]</text>\n",
       "</g>\n",
       "<!-- 8&#45;&gt;9 -->\n",
       "<g id=\"edge9\" class=\"edge\">\n",
       "<title>8&#45;&gt;9</title>\n",
       "<path fill=\"none\" stroke=\"black\" d=\"M510.71,-162.87C498.74,-153.66 485.1,-143.15 472.53,-133.47\"/>\n",
       "<polygon fill=\"black\" stroke=\"black\" points=\"474.5,-130.58 464.45,-127.25 470.23,-136.12 474.5,-130.58\"/>\n",
       "</g>\n",
       "<!-- 12 -->\n",
       "<g id=\"node13\" class=\"node\">\n",
       "<title>12</title>\n",
       "<polygon fill=\"#e58139\" stroke=\"black\" points=\"668,-119.5 528,-119.5 528,-81.5 668,-81.5 668,-119.5\"/>\n",
       "<text text-anchor=\"middle\" x=\"598\" y=\"-104.3\" font-family=\"Helvetica,sans-Serif\" font-size=\"14.00\">samples = 1.2%</text>\n",
       "<text text-anchor=\"middle\" x=\"598\" y=\"-89.3\" font-family=\"Helvetica,sans-Serif\" font-size=\"14.00\">value = [1.0, 0.0]</text>\n",
       "</g>\n",
       "<!-- 8&#45;&gt;12 -->\n",
       "<g id=\"edge12\" class=\"edge\">\n",
       "<title>8&#45;&gt;12</title>\n",
       "<path fill=\"none\" stroke=\"black\" d=\"M559.91,-162.87C566.67,-151.98 574.54,-139.29 581.38,-128.28\"/>\n",
       "<polygon fill=\"black\" stroke=\"black\" points=\"584.52,-129.85 586.82,-119.51 578.58,-126.16 584.52,-129.85\"/>\n",
       "</g>\n",
       "<!-- 10 -->\n",
       "<g id=\"node11\" class=\"node\">\n",
       "<title>10</title>\n",
       "<polygon fill=\"#399de5\" stroke=\"black\" points=\"422,-38 282,-38 282,0 422,0 422,-38\"/>\n",
       "<text text-anchor=\"middle\" x=\"352\" y=\"-22.8\" font-family=\"Helvetica,sans-Serif\" font-size=\"14.00\">samples = 8.8%</text>\n",
       "<text text-anchor=\"middle\" x=\"352\" y=\"-7.8\" font-family=\"Helvetica,sans-Serif\" font-size=\"14.00\">value = [0.0, 1.0]</text>\n",
       "</g>\n",
       "<!-- 9&#45;&gt;10 -->\n",
       "<g id=\"edge10\" class=\"edge\">\n",
       "<title>9&#45;&gt;10</title>\n",
       "<path fill=\"none\" stroke=\"black\" d=\"M405.57,-73.91C396.55,-64.83 386.4,-54.62 377.38,-45.54\"/>\n",
       "<polygon fill=\"black\" stroke=\"black\" points=\"379.66,-42.87 370.12,-38.24 374.69,-47.8 379.66,-42.87\"/>\n",
       "</g>\n",
       "<!-- 11 -->\n",
       "<g id=\"node12\" class=\"node\">\n",
       "<title>11</title>\n",
       "<polygon fill=\"#e58139\" stroke=\"black\" points=\"580,-38 440,-38 440,0 580,0 580,-38\"/>\n",
       "<text text-anchor=\"middle\" x=\"510\" y=\"-22.8\" font-family=\"Helvetica,sans-Serif\" font-size=\"14.00\">samples = 0.8%</text>\n",
       "<text text-anchor=\"middle\" x=\"510\" y=\"-7.8\" font-family=\"Helvetica,sans-Serif\" font-size=\"14.00\">value = [1.0, 0.0]</text>\n",
       "</g>\n",
       "<!-- 9&#45;&gt;11 -->\n",
       "<g id=\"edge11\" class=\"edge\">\n",
       "<title>9&#45;&gt;11</title>\n",
       "<path fill=\"none\" stroke=\"black\" d=\"M456.43,-73.91C465.45,-64.83 475.6,-54.62 484.62,-45.54\"/>\n",
       "<polygon fill=\"black\" stroke=\"black\" points=\"487.31,-47.8 491.88,-38.24 482.34,-42.87 487.31,-47.8\"/>\n",
       "</g>\n",
       "<!-- 14 -->\n",
       "<g id=\"node15\" class=\"node\">\n",
       "<title>14</title>\n",
       "<polygon fill=\"#e58139\" stroke=\"black\" points=\"826,-119.5 686,-119.5 686,-81.5 826,-81.5 826,-119.5\"/>\n",
       "<text text-anchor=\"middle\" x=\"756\" y=\"-104.3\" font-family=\"Helvetica,sans-Serif\" font-size=\"14.00\">samples = 3.1%</text>\n",
       "<text text-anchor=\"middle\" x=\"756\" y=\"-89.3\" font-family=\"Helvetica,sans-Serif\" font-size=\"14.00\">value = [1.0, 0.0]</text>\n",
       "</g>\n",
       "<!-- 13&#45;&gt;14 -->\n",
       "<g id=\"edge14\" class=\"edge\">\n",
       "<title>13&#45;&gt;14</title>\n",
       "<path fill=\"none\" stroke=\"black\" d=\"M756,-162.87C756,-152.42 756,-140.3 756,-129.61\"/>\n",
       "<polygon fill=\"black\" stroke=\"black\" points=\"759.5,-129.51 756,-119.51 752.5,-129.51 759.5,-129.51\"/>\n",
       "</g>\n",
       "<!-- 15 -->\n",
       "<g id=\"node16\" class=\"node\">\n",
       "<title>15</title>\n",
       "<polygon fill=\"#399de5\" stroke=\"black\" points=\"984,-119.5 844,-119.5 844,-81.5 984,-81.5 984,-119.5\"/>\n",
       "<text text-anchor=\"middle\" x=\"914\" y=\"-104.3\" font-family=\"Helvetica,sans-Serif\" font-size=\"14.00\">samples = 0.4%</text>\n",
       "<text text-anchor=\"middle\" x=\"914\" y=\"-89.3\" font-family=\"Helvetica,sans-Serif\" font-size=\"14.00\">value = [0.0, 1.0]</text>\n",
       "</g>\n",
       "<!-- 13&#45;&gt;15 -->\n",
       "<g id=\"edge15\" class=\"edge\">\n",
       "<title>13&#45;&gt;15</title>\n",
       "<path fill=\"none\" stroke=\"black\" d=\"M802.55,-162.87C824.69,-150.68 850.95,-136.22 872.42,-124.4\"/>\n",
       "<polygon fill=\"black\" stroke=\"black\" points=\"874.23,-127.4 881.3,-119.51 870.85,-121.26 874.23,-127.4\"/>\n",
       "</g>\n",
       "<!-- 17 -->\n",
       "<g id=\"node18\" class=\"node\">\n",
       "<title>17</title>\n",
       "<polygon fill=\"#44a2e6\" stroke=\"black\" points=\"1090.5,-305 911.5,-305 911.5,-252 1090.5,-252 1090.5,-305\"/>\n",
       "<text text-anchor=\"middle\" x=\"1001\" y=\"-289.8\" font-family=\"Helvetica,sans-Serif\" font-size=\"14.00\">Number of H &lt;= 0.001</text>\n",
       "<text text-anchor=\"middle\" x=\"1001\" y=\"-274.8\" font-family=\"Helvetica,sans-Serif\" font-size=\"14.00\">samples = 4.2%</text>\n",
       "<text text-anchor=\"middle\" x=\"1001\" y=\"-259.8\" font-family=\"Helvetica,sans-Serif\" font-size=\"14.00\">value = [0.053, 0.947]</text>\n",
       "</g>\n",
       "<!-- 16&#45;&gt;17 -->\n",
       "<g id=\"edge17\" class=\"edge\">\n",
       "<title>16&#45;&gt;17</title>\n",
       "<path fill=\"none\" stroke=\"black\" d=\"M1001,-340.87C1001,-332.89 1001,-323.93 1001,-315.38\"/>\n",
       "<polygon fill=\"black\" stroke=\"black\" points=\"1004.5,-315.25 1001,-305.25 997.5,-315.25 1004.5,-315.25\"/>\n",
       "</g>\n",
       "<!-- 20 -->\n",
       "<g id=\"node21\" class=\"node\">\n",
       "<title>20</title>\n",
       "<polygon fill=\"#eca06a\" stroke=\"black\" points=\"1318,-305 1178,-305 1178,-252 1318,-252 1318,-305\"/>\n",
       "<text text-anchor=\"middle\" x=\"1248\" y=\"-289.8\" font-family=\"Helvetica,sans-Serif\" font-size=\"14.00\">T &lt;= &#45;1.242</text>\n",
       "<text text-anchor=\"middle\" x=\"1248\" y=\"-274.8\" font-family=\"Helvetica,sans-Serif\" font-size=\"14.00\">samples = 2.7%</text>\n",
       "<text text-anchor=\"middle\" x=\"1248\" y=\"-259.8\" font-family=\"Helvetica,sans-Serif\" font-size=\"14.00\">value = [0.8, 0.2]</text>\n",
       "</g>\n",
       "<!-- 16&#45;&gt;20 -->\n",
       "<g id=\"edge20\" class=\"edge\">\n",
       "<title>16&#45;&gt;20</title>\n",
       "<path fill=\"none\" stroke=\"black\" d=\"M1073.44,-340.98C1103.11,-330.53 1137.55,-318.4 1167.97,-307.69\"/>\n",
       "<polygon fill=\"black\" stroke=\"black\" points=\"1169.42,-310.89 1177.69,-304.27 1167.09,-304.29 1169.42,-310.89\"/>\n",
       "</g>\n",
       "<!-- 18 -->\n",
       "<g id=\"node19\" class=\"node\">\n",
       "<title>18</title>\n",
       "<polygon fill=\"#e58139\" stroke=\"black\" points=\"1002,-208.5 862,-208.5 862,-170.5 1002,-170.5 1002,-208.5\"/>\n",
       "<text text-anchor=\"middle\" x=\"932\" y=\"-193.3\" font-family=\"Helvetica,sans-Serif\" font-size=\"14.00\">samples = 0.4%</text>\n",
       "<text text-anchor=\"middle\" x=\"932\" y=\"-178.3\" font-family=\"Helvetica,sans-Serif\" font-size=\"14.00\">value = [1.0, 0.0]</text>\n",
       "</g>\n",
       "<!-- 17&#45;&gt;18 -->\n",
       "<g id=\"edge18\" class=\"edge\">\n",
       "<title>17&#45;&gt;18</title>\n",
       "<path fill=\"none\" stroke=\"black\" d=\"M980.67,-251.87C971.86,-240.76 961.57,-227.78 952.72,-216.62\"/>\n",
       "<polygon fill=\"black\" stroke=\"black\" points=\"955.24,-214.17 946.28,-208.51 949.75,-218.52 955.24,-214.17\"/>\n",
       "</g>\n",
       "<!-- 19 -->\n",
       "<g id=\"node20\" class=\"node\">\n",
       "<title>19</title>\n",
       "<polygon fill=\"#399de5\" stroke=\"black\" points=\"1160,-208.5 1020,-208.5 1020,-170.5 1160,-170.5 1160,-208.5\"/>\n",
       "<text text-anchor=\"middle\" x=\"1090\" y=\"-193.3\" font-family=\"Helvetica,sans-Serif\" font-size=\"14.00\">samples = 3.8%</text>\n",
       "<text text-anchor=\"middle\" x=\"1090\" y=\"-178.3\" font-family=\"Helvetica,sans-Serif\" font-size=\"14.00\">value = [0.0, 1.0]</text>\n",
       "</g>\n",
       "<!-- 17&#45;&gt;19 -->\n",
       "<g id=\"edge19\" class=\"edge\">\n",
       "<title>17&#45;&gt;19</title>\n",
       "<path fill=\"none\" stroke=\"black\" d=\"M1027.22,-251.87C1038.91,-240.44 1052.65,-227.01 1064.28,-215.64\"/>\n",
       "<polygon fill=\"black\" stroke=\"black\" points=\"1066.88,-218 1071.58,-208.51 1061.98,-212.99 1066.88,-218\"/>\n",
       "</g>\n",
       "<!-- 21 -->\n",
       "<g id=\"node22\" class=\"node\">\n",
       "<title>21</title>\n",
       "<polygon fill=\"#399de5\" stroke=\"black\" points=\"1318,-208.5 1178,-208.5 1178,-170.5 1318,-170.5 1318,-208.5\"/>\n",
       "<text text-anchor=\"middle\" x=\"1248\" y=\"-193.3\" font-family=\"Helvetica,sans-Serif\" font-size=\"14.00\">samples = 0.4%</text>\n",
       "<text text-anchor=\"middle\" x=\"1248\" y=\"-178.3\" font-family=\"Helvetica,sans-Serif\" font-size=\"14.00\">value = [0.0, 1.0]</text>\n",
       "</g>\n",
       "<!-- 20&#45;&gt;21 -->\n",
       "<g id=\"edge21\" class=\"edge\">\n",
       "<title>20&#45;&gt;21</title>\n",
       "<path fill=\"none\" stroke=\"black\" d=\"M1248,-251.87C1248,-241.42 1248,-229.3 1248,-218.61\"/>\n",
       "<polygon fill=\"black\" stroke=\"black\" points=\"1251.5,-218.51 1248,-208.51 1244.5,-218.51 1251.5,-218.51\"/>\n",
       "</g>\n",
       "<!-- 22 -->\n",
       "<g id=\"node23\" class=\"node\">\n",
       "<title>22</title>\n",
       "<polygon fill=\"#e58139\" stroke=\"black\" points=\"1476,-208.5 1336,-208.5 1336,-170.5 1476,-170.5 1476,-208.5\"/>\n",
       "<text text-anchor=\"middle\" x=\"1406\" y=\"-193.3\" font-family=\"Helvetica,sans-Serif\" font-size=\"14.00\">samples = 2.3%</text>\n",
       "<text text-anchor=\"middle\" x=\"1406\" y=\"-178.3\" font-family=\"Helvetica,sans-Serif\" font-size=\"14.00\">value = [1.0, 0.0]</text>\n",
       "</g>\n",
       "<!-- 20&#45;&gt;22 -->\n",
       "<g id=\"edge22\" class=\"edge\">\n",
       "<title>20&#45;&gt;22</title>\n",
       "<path fill=\"none\" stroke=\"black\" d=\"M1294.55,-251.87C1316.69,-239.68 1342.95,-225.22 1364.42,-213.4\"/>\n",
       "<polygon fill=\"black\" stroke=\"black\" points=\"1366.23,-216.4 1373.3,-208.51 1362.85,-210.26 1366.23,-216.4\"/>\n",
       "</g>\n",
       "</g>\n",
       "</svg>\n"
      ],
      "text/plain": [
       "<graphviz.sources.Source at 0x7f591794cb10>"
      ]
     },
     "metadata": {},
     "output_type": "display_data"
    }
   ],
   "source": [
    "from sklearn.tree import export_graphviz\n",
    "from IPython.display import Image\n",
    "import graphviz\n",
    "for i in range(3):\n",
    "    tree = rf.estimators_[i]\n",
    "    dot_data = export_graphviz(tree,feature_names=X_train.columns,filled=True,impurity=False,proportion=True)\n",
    "    graph = graphviz.Source(dot_data) \n",
    "    display(graph)\n",
    "    graph.render(filename=f'tree_{i}', format='svg')"
   ]
  },
  {
   "cell_type": "code",
   "execution_count": 11,
   "id": "76a48940",
   "metadata": {},
   "outputs": [
    {
     "name": "stdout",
     "output_type": "stream",
     "text": [
      "Requirement already satisfied: scikit-learn in /home/meuret/anaconda3/envs/louis/lib/python3.11/site-packages (1.2.2)\n",
      "Requirement already satisfied: numpy>=1.17.3 in /home/meuret/anaconda3/envs/louis/lib/python3.11/site-packages (from scikit-learn) (1.24.3)\n",
      "Requirement already satisfied: scipy>=1.3.2 in /home/meuret/anaconda3/envs/louis/lib/python3.11/site-packages (from scikit-learn) (1.9.3)\n",
      "Requirement already satisfied: joblib>=1.1.1 in /home/meuret/anaconda3/envs/louis/lib/python3.11/site-packages (from scikit-learn) (1.2.0)\n",
      "Requirement already satisfied: threadpoolctl>=2.0.0 in /home/meuret/anaconda3/envs/louis/lib/python3.11/site-packages (from scikit-learn) (3.1.0)\n"
     ]
    }
   ],
   "source": [
    "!pip install scikit-learn"
   ]
  },
  {
   "cell_type": "code",
   "execution_count": 12,
   "id": "826e81c0",
   "metadata": {},
   "outputs": [
    {
     "name": "stdout",
     "output_type": "stream",
     "text": [
      "['7N8R', '2NAO', '2ONV', '4XFN', '4XFO', '8B3A', '3Q9J', '5TPT', '3Q9H', '3Q9I', '7ROL', '3Q9G', '2KIB', '7QV6', '6DIX', '6DIY', '6DJ0', '7QV5', '2LBU', '3FOD', '2OKZ', '2OL9', '2OLX', '6G8E', '8ADE', '3DGJ', '2OMP', '2ONA', '2ONW', '6G8C', '6G8D', '2ONX', '7QVC', '7QWG', '7QWL', '7QWM', '2RNM', '6G9G', '6MST', '2KJ3', '6GS3', '7K3Y', '6FHD', '7K3X', '3PPD', '6FHC', '6IC3', '6C3S', '6C3T', '3SGR', '6C3F', '6C4O', '6ZRF', '6ZRQ', '6ZRR', '6FG4', '6FGR', '2M5K', '2M5M', '6C88', '3SGM', '3SGN', '3SGO', '3SGP', '3SGS', '4OLR', '4ONK', '7SXN', '7ZKY', '6C3G', '6RHA', '6RHB', '6RHD', '3DG1', '3FR1', '7K3C', '3FVA', '2M5N', '3ZPK', '3FPO', '3FTR', '6HUD', '4R0P', '3FTH', '3FTK', '3FTL', '5I55', '2OMM', '5KNZ', '5KO0', '7ROJ', '3DVF', '3DVI', '6GQ5', '2MUS', '6GQ2', '6GQC', '6EEX', '6M7M', '5MGQ', '6M9I', '6M9J', '6CB9', '6CEW', '7M61', '7M62', '7M64', '7M65', '6Z1I', '2Q1E', '5W50', '5W52', '5W7V', '7YKW', '7YL0', '7YL3', '7YL7', '2Q20', '7LUZ', '3NVG', '3NVH', '7QIG', '3NVF', '3NVE', '7BX7', '8AUR', '7LTU', '7LUX', '7LV2', '6PQA', '6JPD', '7SZZ', '7T0X', '7T8U', '7UMQ', '7UN5', '6PQ5', '6UUR', '7YAT', '7LNA', '3NHC', '7RVC', '7RVD', '7RVE', '7RVJ', '7RVK', '7RVL', '8A00', '7X83', '7X84', '7DAC', '4E0K', '3NHD', '5KK3', '2M4J', '6SHS', '7KWZ', '7U12', '7U13', '4E0L', '7RVG', '7RVI', '8EZD', '8EZE', '6WPQ', '2MPZ', '2Y3J', '2Y3K', '2Y3L', '6W0O', '2NBH', '6AXZ', '6BTK', '2LNQ', '3OW9', '3PZZ', '3Q2X', '6O4J', '8A7O', '8A7P', '8A7T', '5VOS', '5OQV', '2MXU', '6NB9', '7DA4', '3NYJ', '2Y29', '2Y2A', '6RHY', '6TI5', '6SM2', '6GK3', '2LMN', '2LMO', '2LMP', '2LMQ', '2MVX', '5HOW', '7Q4B', '7Q4M', '7U10', '7U11', '4E0M', '4E0N', '4E0O', '2LFM', '2LLM', '5AEF', '8BG0', '2NNT', '2ON9', '2M9R', '2M9S', '6OIZ', '6SZF', '5ZCK', '6S6N', '6EKA', '3OVJ', '8AZS', '8BFZ', '2N1E', '5K2F', '5K2G', '5K2H', '2BEG', '8AZT', '6R4R', '8BG9', '5K2E', '7F29', '5WHN', '5WHP', '5WIA', '5WIQ', '5WKB', '5WKD', '6CF4', '6CFH', '6N37', '2RMV', '2RMW', '6VPS', '4QXX', '3LOZ', '3OVL', '4NP8', '1JVK', '2LSH', '6BZM', '7Q65', '7Q66', '7Q67', '3LOW', '2OMQ', '7VZF', '4R0U', '4R0W', '6BWZ', '6BXV', '6BZP', '7AS7', '7ASG', '6BXX', '7LQE', '7LQF', '7N2L', '7N2H', '7N2K', '6S6M', '7U0Z', '7N2J', '7RVF', '7RVH', '6CLC', '6CLD', '6CLE', '6CLF', '6CLG', '6CLH', '6CLI', '6CLJ', '6CLK', '6CLL', '6CLM', '6CLN', '6CLO', '6CLP', '6CLQ', '6CLR', '6CLS', '6CLT', '8IB0', '7YMN', '6A6B', '6LRQ', '6NQY', '7N2I', '5O3O', '5O3T', '6PEO', '5OF2', '7N2D', '5OF1', '7E0F', '8H03', '4NIO', '4NIP', '7ZRF', '8BVZ', '7ZRO', '4NIN', '3HYD', '6L4S', '7C1D', '7NCK', '7V47', '7V48', '7V49', '7XO0', '7XO1', '7XO2', '7XO3', '8H04', '8H05', '7YPG', '7VI4', '7VI5', '7N2E', '7N2F', '7N2G', '7UAK', '5WMJ', '5WOR', '6B79', '4RP6', '4RP7', '5K7N', '6N4P', '7V4A', '7V4B', '7V4C', '7V4D', '7WMM', '7XJX', '7YK2', '6GX5', '6ODG', '6QJH', '6QJM', '6QJP', '6QJQ', '6VH7', '6VHA', '6VHL', '6VI3', '8ADU', '8CE7', '8CEB', '6NZN', '7WNZ', '7WO0', '2E8D', '1DX1', '1EI7', '2M0M', '3T4G', '3UA0', '5KKV', '5OH0', '5XER', '5XES', '6AS9', '6CJZ', '6HQC', '6I2O', '6IZV', '6NEF', '6NIV', '6NQW', '6NQZ', '6QAY', '6R9D', '6T8S', '6UOP', '6UOQ', '6UOR', '6UOS', '6UOU', '6UOW', '6VHB', '6VHC', '6X5I', '7BVY', '7BVZ', '7DFE', '7JX4', '7JX5', '7LQ5', '7O92', '7O97', '7O9V', '7OAA', '7OAC', '7OAD', '7OAF', '7OAH', '7T6E', '7UII', '7ZZV', '8CIO', '8DDG', '8DDH', '2BFI', '7MRM', '4IP8', '5TXJ', '4IP9', '4Q8D', '6C4Y', '6C4Z', '6O3N', '7MQY', '4Q5G', '7MRO', '7MRQ', '3K66', '6C4X', '6C51', '6D02', '2M05', '5TXH', '6C52', '3LN9', '6VU4', '3K6B', '6KGB', '5E5V', '5E5X', '5E61', '2KJ7', '1III', '1IIK', '5E5Z', '6FUE', '6PXZ', '1QTJ', '1S9Z', '2N59', '7JQR', '7JQS', '7JQT', '7JQU', '1RVS', '1B0W', '6J47', '6PY0', '8B9Q', '8B9R', '6J48', '6J49', '1IJN', '4UNT', '4UNV', '6FWD', '6FXU', '6FZL', '5W4H', '5W4J', '6Y1A', '4TKW', '4TL4', '4TL5', '4TLT', '4TM9', '5UHR', '3Q7L', '5W4I', '3Q7G', '4UNU', '4YBI', '4TLK', '4TLS', '4TNE', '4RD9', '4JOO', '4JP9', '4JPC', '4JPE', '4AZY', '4B00', '4NTR', '5UGK', '2ZHS', '2ZHT', '2ZHU', '2ZHV', '5HE7', '3TPK', '6UIO', '4KE1', '5HD0', '3QMK', '5AYT', '7QC5', '5VF1', '2ZDZ', '2ZE1', '3PMR', '4RDA', '5GIW', '3SUZ', '4N00', '4X7I', '5HDU', '5HDV', '5HDX', '5HDZ', '5HE4', '5HE5', '6PZ4', '1BMZ', '1SZL', '1VEX', '4PWE', '4PWF', '4PWG', '4PWH', '4PWI', '4PWJ', '4PWK', '4QRF', '2Q15', '4B1E', '4WY1', '2TRH', '2TRY', '4RCD', '6EQM', '4NW8', '4NW9', '5V65', '2YT7', '1BM7', '7DCZ', '3EEX', '6DR6', '4NTP', '5V63', '5V64', '2YSC', '1IOC', '3NG5', '1BRE', '5HTZ', '5HU1', '5N62', '7DT3', '7DT5', '7DT6', '7DT8', '7EJQ', '7EJR', '1KUW', '3RSX', '3RTH', '3RTM', '3RTN', '3RU1', '3VEU', '3VF3', '3VG1', '4B1C', '4B1D', '4D85', '4D88', '4D89', '4H1E', '4H3F', '4H3G', '4H3I', '4H3J', '4HA5', '4WY6', '5JPJ', '6DR4', '4B05', '4DH6', '6JT4', '6TXV', '6TXW', '6XTK', '5ACL', '5ACM', '5L6Q', '2YSZ', '2YT0', '2YT1', '1BZD', '1BZE', '1TSH', '3CKA', '6DR5', '3IGB', '3LNK', '4ACU', '4ACX', '4DJU', '4DJV', '4PZW', '4PZX', '5KQF', '5KR8', '6EJ2', '6EJ3', '7B1E', '7B1P', '7B1Q', '5CLM', '5HU0', '6JSE', '6JSF', '6JSG', '7D36', '1X1P', '5A6I', '5N5Q', '5N7C', '3RSV', '3RVI', '4X2L', '6JT3', '2ZOT', '2ZOU', '3COO', '1WGU', '7ERI', '7ERJ', '2IQG', '2VIY', '7JRH', '7NSL', '2WEZ', '2WF0', '2WF1', '2WF2', '2WF3', '2WF4', '4DJW', '4DJX', '4DJY', '4FRI', '4FRJ', '4FRK', '5YGY', '6JSN', '3Q13', '1CQM', '1CQN', '2YT8', '1QJH', '5T93', '6FK0', '6GHX', '4D7B', '4D9Z', '4DC4', '4R0F', '5TZL', '7ERH', '2L86', '2VIE', '2VIZ', '2VJ6', '2VJ7', '2VJ9', '4FM7', '4FM8', '2MKW', '2MMX', '1X45', '4II8', '7ERK', '5XQY', '7C7R', '6UCJ', '6UCK', '2VIJ', '3TPJ', '3TPP', '3TPR', '4RCE', '4RCF', '4IVS', '4IVT', '4R5N', '7F1D', '4DBB', '2L3H', '1DVS', '1YJP', '4EOF', '4HIQ', '4HIS', '1DVQ', '1DVU', '1DVY', '1DVZ', '2FLM', '3TCT', '3G7W', '4P4V', '4P4X', '4P4Y', '4P4Z', '2KB8', '6TUB', '4RRN', '4RRO', '4RRS', '1QP1', '3L58', '4ZPE', '4ZPF', '4ZPG', '5TOL', '5UYU', '2MAW', '3MSL', '3S2O', '2LFN', '4P4W', '1DVT', '2FBR', '4TVK', '1HF8', '1HFA', '1HG2', '1HG5', '3ZYK', '3ZYL', '6CG3', '6CG5', '2H4E', '3SSG', '5XP1', '4CTH', '2N4O', '1YJO', '3L59', '3L5B', '3L5C', '3L5D', '3L5E', '3L5F', '6C2I', '2QZL', '3L38', '3L3A', '3MSK', '3S7L', '3S7M', '4R8Y', '5I3V', '5I3X', '5I3Y', '5IE1', '6WNY', '7MYU', '3WSX', '6CG4', '2B8L', '2B8V', '2IRZ', '2IS0', '2P8H', '2PH8', '2QK5', '2QU2', '2QU3', '2QZK', '3BRA', '3BUF', '3BUG', '3BUH', '3LHG', '4I0D', '7O76', '3BDX', '3TFB', '2ZJH', '2ZJI', '1DVX', '3B5G', '3FLR', '4IVH', '2N7R', '4XKX', '5I3W', '7MYI', '7MYR', '7N66', '2MI1', '1TQF', '1W50', '1W51', '1XS7', '2HM1', '2NTR', '2OAH', '2OF0', '2OHK', '2OHL', '2OHM', '2OHN', '2OHP', '2OHS', '2OHT', '2PH6', '2QMD', '2QMF', '2QMG', '2QP8', '2VA5', '2VA6', '2VA7', '2VNM', '2VNN', '2XFI', '2XFJ', '2XFK', '3EXO', '3FKT', '3IN3', '3IN4', '3IND', '3INE', '3INF', '3INH', '3IVH', '3KMX', '3KMY', '3KN0', '3OOZ', '3QI1', '3UDH', '3UDQ', '3UFL', '4BEK', '4DPF', '4DPI', '4DUS', '4EWO', '4EXG', '4FS4', '4HZT', '4I0E', '4I0F', '4I0G', '4I0Z', '4I10', '4I11', '4I12', '4I1C', '4R91', '4R92', '4R93', '4R95', '4WTU', '4ZSM', '4ZSP', '4ZSQ', '4ZSR', '5ENK', '5ENM', '5T1U', '6FGY', '3FLT', '4S11', '6Z1O', '1TT6', '2P01', '2P03', '2ZJJ', '2ZJL', '2ZJM', '2ZJN', '3UQU', '3UQW', '3UQX', '4B0Q', '4FCO', '4FRS', '4I0J', '4L7G', '4L7J', '4LC7', '4XXS', '1Y1D', '2M38', '4MRB', '2N7Q', '5YGX', '7AP7', '2OHQ', '2OHR', '2OHU', '3UDJ', '3UDK', '3UDM', '3UDN', '3UDP', '3UDR', '3UDY', '3VV6', '3VV7', '3VV8', '3WB4', '3WB5', '3ZMG', '4B70', '4B72', '4B77', '4B78', '4BFD', '4J0P', '4J0T', '4J0V', '4J0Y', '4J0Z', '4J17', '4J1C', '4J1E', '4J1F', '4J1H', '4J1I', '4J1K', '6BFD', '6BFE', '6BFW', '6BFX', '6DMI', '6UVV', '6UVY', '6UWP', '6UWV', '7D2V', '7D2X', '7D5A', '2DYQ', '3CIB', '3CIC', '3CID', '4GMI', '4L7H', '5AZX', '5AZY', '5EZX', '5EZZ', '5F00', '3GLZ', '3GS0', '3GS4', '3GS7', '4MRC', '1LRE', '1NRE', '1OP1', '1OV2', '1TZ8', '2FTU', '3ZOV', '5T1W', '5VSG', '1X7S', '1X7T', '5B59', '5E4A', '5E4O', '1LOZ', '1LYY', '3GAX', '2WJO', '5F01', '2DM4', '3IPB', '3IPE', '5NUU', '2L7B', '5C9K', '2B77', '2B9A', '2F7I', '3FC8', '3FCB', '5E23', '2KQM', '2KQN', '1TIJ', '1PW3', '2F8I', '2NA4', '7AWH', '7AWI', '2CZT', '2CZU', '3ZKG', '3ZKI', '1BB9', '1MUZ', '1MV3', '2FIC', '2RMY', '2RND', '2ESM', '2ETK', '2ETR', '3D9V', '3O0Z', '4L2W', '4YVC', '4YVE', '5BML', '5HVU', '5KKS', '5KKT', '5UZJ', '7JOU', '3D2T', '7ACU', '3MD4', '1B68', '1BZ4', '1EA8', '1GS9', '1H7I', '1LE2', '1LE4', '1LPE', '1NFN', '1NFO', '1OEF', '1OEG', '1OR2', '1OR3', '2KC3', '6NCN', '6NCO', '7FCR', '7FCS', '7UVJ', '2APQ', '7WL6', '6KK9', '5L6R', '7AWG', '1NMJ', '5M76', '4U84', '4U85', '4U86', '2KNY', '3QO4', '5XRR', '5XSG', '6XFM', '2B14', '2B16', '3DJS', '3DJT', '3DK2', '3MD5', '2ROV', '2ROW', '1M23', '1P23', '2OLD', '2OMB', '2OMN', '5MUD', '5MUH', '8AIF', '1QCM', '6E00', '2W0K', '5M6A', '5MTL', '5MVG', '1GKO', '1N9J', '2B15', '3CFN', '3CFT', '3DJR', '3DJZ', '3DK0', '3IMR', '3IMS', '3IMT', '3IMU', '3IMV', '3IMW', '3KGS', '3M1O', '5LLL', '5LLV', '1U37', '1U39', '1U3B', '1Y7N', '2KTM', '4JZ3', '4JZ4', '4OML', '4OMN', '4OMO', '4OMP', '1Q38', '1AG2', '2IV4', '2IV5', '2IV6', '2K1D', '2L1H', '2L1K', '6DU9', '7FHQ', '2KU5', '2KU6', '2KUN', '4L6Q', '6ED6', '2BP4', '1YA9', '3KGT', '3KGU', '5HJG', '6OC9', '1SO8', '5ZGD', '6J60', '6SAM', '4B41', '4B5E', '2LW8', '2WO1', '3CKH', '1E1G', '1E1J', '1E1P', '1E1S', '1E1U', '1E1W', '1FKC', '1FO7', '1H0L', '1HJM', '1HJN', '1I4M', '1OEH', '1OEI', '1QLX', '1QLZ', '1QM0', '1QM1', '1QM2', '1QM3', '1XYX', '1Y15', '1Y16', '2K5O', '2KFM', '2KFO', '2L1D', '2L1E', '2L39', '2L40', '2LBG', '2LEJ', '2LFT', '2LSB', '2LV1', '2M8T', '3HAF', '3HAK', '3HEQ', '3HER', '3HES', '3HJ5', '3HJX', '5YJ4', '5YJ5', '1R4C', '1AMB', '1IYT', '2FKL', '5TXD', '7U14', '7U15', '7U17', '2NBL', '1CR8', '1D2L', '1J8E', '2FYJ', '2KNX', '1AMC', '1HZ3', '1QWP', '1QYT', '5LUA', '5LUB', '1TTR', '4N85', '6IMX', '6IMY', '6O6H', '6OLU', '1BA4', '4HNI', '6HKC', '1B0X', '2HEL', '2XYU', '2Y6M', '2Y6O', '1AML', '1BJB', '1BJC', '1OWT', '1QXC', '2FJZ', '2FK1', '2FK2', '2FK3', '3NYL', '3MOQ', '4PWQ', '5HOY', '1Y32', '2GD3', '3NA4', '2G3X', '2G3Z', '2G4E', '2G4G', '2NOY', '4N86', '4N87', '4Y9B', '4Y9C', '4Y9E', '4Y9F', '4Y9G', '8DW5', '4M4P', '2JOM', '2IDH', '6AR4', '7BRU', '1BA6', '1TKN', '6BCS', '2E45', '5ZGL', '6I0B', '6I0C', '1AAP', '2LP1', '3UMH', '3UMI', '3UMK', '4JFN', '1U21', '3CFM', '3CN0', '3ESN', '3ESO', '3ESP', '3TCA', '1SP1', '1SP2', '1VA1', '1VA2', '1VA3', '2M9E', '2M9I', '2ZQU', '5GPH', '6PV0', '6PV1', '6PV2', '6PV3', '6UCO', '6UCP', '1Z0Q', '1ZE7', '1ZE9', '2LZ3', '2LZ4', '6YHF', '2LI9', '2FMA', '3CDC', '3CDF', '1B10', '2FJ3', '2JOH', '2KKG', '2LH8', '3MZT', '4HLS', '4HMM', '4HMR', '3D8E', '5NQH', '1MWP', '2MJ1', '5HOX', '6YHI', '6YHO', '6YHP', '6YHX', '7JXN', '7JXO', '7U16', '7U18', '1G6Y', '8ASH', '2K6A', '4AZF', '3D8D', '3D8F', '2LOH', '5LFY', '1W08', '3CFQ', '4KRR', '5JI7', '5JI9', '3MYZ', '1I6C', '1ZCN', '2F21', '2KBU', '2KCF', '2M8I', '2M8J', '2M9F', '2M9J', '2RUC', '2RUD', '2RUQ', '2RUR', '2XP3', '2XP4', '2XP5', '2XP6', '2XP7', '2XP8', '2XP9', '2XPA', '2XPB', '2ZQS', '2ZQT', '2ZQV', '2ZR4', '2ZR5', '2ZR6', '3I6C', '3IK8', '3IKD', '3IKG', '3JYJ', '3KAB', '3KAC', '3KAD', '3KAF', '3KAG', '3KAH', '3KAI', '3KCE', '3NTP', '3ODK', '3WH0', '4GWT', '4GWV', '4TNS', '5VTI', '5VTJ', '5VTK', '6SVC', '6SVE', '6SVH', '7EFJ', '7EFX', '7EKV', '7F0M', '7SA5', '7SUQ', '7SUR', '1CD0', '2CD0', '3U7A', '2L2P', '2LP5', '2OCT', '5CR1', '6ZPD', '6I8C', '2MGT', '4PQD', '6WXM', '1PEW', '4ABQ', '4ABU', '4ABV', '4ABW', '4AC2', '4AC4', '4ANK', '6SM1', '7AIX', '3SH4', '3SH5', '1NMV', '1NMW', '3OOB', '3TC5', '3TCZ', '3TDB', '4QIB', '4TYO', '6DUN', '6VAJ', '5BUO', '3CJJ', '4LP4', '4LP5', '3W1Z', '3TLR', '3TM6', '4R9H', '4RA3', '4RAH', '1F41', '1G1O', '1QWH', '1SOK', '1SOQ', '2G5U', '2G9K', '2GAB', '3B56', '4I85', '4TQ8', '4TQH', '5CN3', '5CNH', '6EOY', '2E5E', '2ENS', '4OF5', '4OFV', '1WIN', '1NMQ', '1NMS', '1PIN', '1QX3', '2JV5', '3H0E', '4JQY', '4JQZ', '5B3W', '5B3X', '5B3Y', '5BMY', '3O3U', '3CN1', '3CN2', '3CN3', '3CN4', '3NEO', '4FI6', '4FI7', '4FI8', '4HJS', '4HJT', '4HJU', '4QYA', '4R12', '4TQI', '4TQP', '5AKV', '5AL8', '6N3B', '6N3C', '2LMB', '2MOV', '6VXG', '6XQ6', '7LML', '1AJJ', '1F8Z', '1HJ7', '1LDR', '2LGP', '2MG9', '5ZZ0', '1EK3', '3U79', '1OUA', '1S4T', '4W63', '5AKT', '5IHH', '5K1J', '2X44', '1WWB', '2G31', '2VB5', '2XKS', '2XKU', '3DHJ', '3DHM', '4ASZ', '4AT3', '4AT4', '2Y2T', '2Y2Y', '5M1U', '7RTZ', '2HDA', '5VO1', '5VO2', '6XQ1', '6XQ3', '6XQ5', '6XQ7', '6XQ8', '6XQ9', '7LMW', '1OIZ', '3NEE', '3NES', '3NEX', '5AKS', '5AL0', '5EN3', '5K1N', '5NL4', '5NLF', '5NLI', '5NMC', '6MG4', '7LMQ', '7LMR', '7U4P', '1D2J', '1F5Y', '1HZ8', '1I0U', '1IJQ', '1LDL', '1N7D', '1XFE', '7Q3U', '4AT5', '7AFV', '6GID', '1G04', '1M25', '1P5A', '5MUE', '5MUG', '3CDY', '7LMN', '7LMO', '7LMP', '1Y4Y', '1Y50', '1Y51', '5KCI', '6E31', '6MG5', '6PIL', '6PSC', '1OIP', '1R5L', '1XYU', '3JUV', '1G96', '2YB9', '3L1G', '1JNJ', '2M7P', '2Z9T', '3EKC', '2KR6', '1OP0', '2NBP', '3SI1', '4PVL', '4PVM', '4PVN', '1Y8J', '2KO2', '1Y2S', '2MV8', '2MV9', '2N53', '5UX4', '1B9G', '1BQT', '1GZR', '1GZY', '1GZZ', '1H02', '1TGR', '2GF1', '3GF1', '3LRI', '4IM8', '1FH2', '2LCM', '3SI2', '6MLT', '1FKB', '1FKG', '1FKH', '1FKI', '1R1H', '1R1I', '1R1J', '2ND5', '6BP9', '6SVY', '6XVP', '1RFB', '5ZMZ', '1UW3', '3NX0', '6Z5N', '2D4D', '2D4F', '2F8O', '4X0S', '6M1B', '1FHN', '1GXT', '1TTA', '1TTB', '1TTC', '1ZCR', '1ZD6', '2QEL', '3F7K', '4I87', '4I89', '4KY2', '6ABN', '6AD5', '6TJN', '1A7X', '1BKF', '1DMT', '1FKF', '1FKR', '1FKS', '1FKT', '2AO7', '2KLR', '2QPJ', '4DH0', '5I7Q', '6S11', '6S14', '6S17', '6S1B', '6S1H', '6SUK', '6VCU', '1EKU', '1HIG', '1IMX', '6RVA', '6NK4', '1OP2', '2QGB', '2QGC', '2QGD', '2QGE', '3CBR', '3D7P', '3F7L', '3HJ0', '3P3R', '3P3S', '3P3T', '3P3U', '6ADF', '6AEA', '1BL4', '1D6O', '1D7H', '1D7I', '1D7J', '1EYM', '1F40', '1FKD', '1FKJ', '1J4H', '1J4I', '1J4R', '1QPF', '1QPL', '1Y8F', '2DG3', '2DG4', '2DG9', '2FKE', '2N0K', '2PPN', '2PPO', '2PPP', '2WJ7', '2Y1Y', '2Y1Z', '2Y22', '3SWH', '4IPX', '4N19', '4ODR', '4Y21', '4YLK', '4YLL', '5I7P', '5UF7', '6A1F', '6A1G', '6LN1', '6S1J', '6YF0', '6YF1', '6YF2', '6YF3', '7A4O', '7A4S', '7A4W', '7A4Z', '7A51', '7A53', '7A55', '7A5B', '7A5D', '7A5L', '7A5N', '7AJ2', '7AJ4', '7AJ5', '7AJ7', '7AJ8', '7AJA', '7AKL', '7U8D', '1OZU', '1D9C', '1D9G', '4F9Y', '4FA2', '1ETB', '3A4D', '3A4E', '3A4F', '3CXF', '3SI0', '6TI9', '7DPX', '7Q9O', '3P6I', '2N4R', '2N4S', '2N4T', '2N4U', '2N4V', '2N4W', '5ZUI', '1ETA', '1GVL', '3GPS', '3GRB', '3GRG', '4QXV', '6J02', '4NEY', '5SUT', '2CJT', '6NYC', '6NYT', '7A4R', '7A52', '7AJM', '7AJS', '7AJV', '7AJW', '7AJY', '7AK2', '7AKA', '7AKB', '7AKE', '7O7K', '7OY6', '3TNV', '5B2A', '5SUS', '5SUU', '6Z0G', '6Z0H', '6Z0I', '2OY3', '1JOH', '4BWH', '4NEZ', '5HPP', '4F9W', '2ZDC', '3KSG', '3UC8', '5SUR', '6Q78', '7QQI', '7RRW', '7W8F', '2OYA', '5NL5', '1FKK', '1FKL', '1OEZ', '1BFT', '1MNZ', '3EO6', '3QGV', '3SNV', '3TOQ', '3U4Y', '3W0K', '4H48', '4TUT', '4UBY', '4UBZ', '4W5L', '4W5M', '4W5P', '4W5Y', '4W67', '4W71', '4WBU', '4WBV', '6EJV', '6LEK', '7DKA', '5ELI', '5UD8', '6XDS', '5NLJ', '2ESY', '2X46', '2YZJ', '3F14', '3H3L', '3Q7X', '3RFB', '3U1D', '3X2G', '4GYM', '4RPC', '4S1A', '5F2H', '5IGA', '6G75', '6HPA', '6Q75', '6R45', '7BFE', '7BFF', '7BKF', '7EFZ', '7EO3', '7OS7', '7QVO', '7QZN', '7R2A', '8AKP', '3PS8', '3QRD', '4PQE', '7RB5', '1MY5', '1MY7', '1JOV', '2GUP', '2SAK', '3IMM', '3IS6', '3RMQ', '3W53', '3X2L', '407D', '4M24', '4N8U', '5M8B', '6B4X', '6B4Z', '6B51', '6B53', '6G6F', '7FBG', '7S7S', '7U2F', '7WUP', '7XBS', '2N97', '5ZGG', '6NAX', '1P3R', '5O3L', '5V5B', '5V5C', '1K50', '1K51', '1K52', '1K53', '1MJ0', '1O1H', '2FMC', '2IA4', '3H0O', '3HR9', '3K1U', '3L0A', '4D8H', '4DPN', '4EE9', '4O5O', '4WKX', '5HP6', '6AG8', '6GRZ', '6KDD', '6M6M', '6NU7', '6QPK', '6SCK', '7TNC', '7W10', '8AFJ', '4C3Z', '4OMM', '4OMQ', '6NRY', '6O69', '6ROA', '6RPV', '7WR0', '1LDS', '1PY4', '4RMQ', '4RMR', '4RMS', '4RMT', '5FIY', '7NMO', '7NMT', '7NMV', '7NMY', '7NN5', '3Q25', '3Q26', '3Q27', '3Q28', '3Q29', '1NA3', '1Y9O', '1Y9Z', '2G4R', '2QM2', '3EC5', '3KO6', '3KWP', '3NA6', '3O49', '3O4A', '3O4B', '3O4C', '3O4D', '3PZM', '3VUP', '3X2K', '4BJQ', '4I4P', '4I4R', '4J88', '4J89', '4J8A', '4KSM', '4MN7', '4U5R', '4WWH', '5AXO', '5C0P', '5HO0', '5HO2', '5LE8', '5T0Z', '5T10', '6A92', '6A98', '6CAI', '6SBK', '6SC0', '6UJK', '6XXW', '7AVH', '7B0D', '7NFF', '7UDA', '7W1B', '8F3K', '2OFC', '2P7I', '2PR0', '3CIH', '3IWF', '3LLX', '3PZG', '4GL3', '4HOX', '4I4U', '4LPV', '4OJH', '4QKS', '4RT5', '5DAV', '5HOF', '5JY5', '5MRR', '5TIV', '6H94', '6KGZ', '6P4E', '6SBB', '7KGC', '7NFZ', '7OLK', '7OLL', '7OLM', '7OLQ', '7P6G', '7P6I', '7QZL', '7U1B', '7U1C', '7Y5Y', '4RIK', '4RIL', '1B89', '1IJ9', '1MK3', '1O0L', '2JXZ', '2Y6W', '3S67', '3SVA', '4C9Z', '5Z8Q', '7NMC', '7NMR', '1UKK', '2EWH', '2H0V', '2I5E', '2PKW', '2POS', '3JQ0', '3P8K', '3RX6', '3U25', '4CMF', '4FWU', '4GET', '4I4V', '4IFA', '4KAG', '4M1R', '4OZU', '4XKV', '4XL9', '4XLC', '4XLH', '4XN0', '4XNF', '4XON', '4XQF', '5DVY', '5K9M', '5MJ7', '5TA7', '5WPU', '6IER', '6S9U', '7OLT', '7PPT', '7ZHD', '8F5L', '2TNF', '1AYX', '1GVY', '1GW1', '1H4X', '1I5G', '1J8A', '1LOK', '1LVE', '1ODZ', '1T6D', '1TTO', '1XNF', '1YS3', '2DE8', '2FKK', '2G7Z', '2KU4', '2MFZ', '2QTD', '2V00', '3A5V', '3CZE', '3FFO', '3FPY', '3FQ1', '3FQ2', '3FQY', '3I9P', '3ID1', '3ID2', '3ID3', '3ID4', '3KSK', '3MQO', '3NP3', '3NP4', '3OQR', '3W3B', '3W6E', '3ZK7', '3ZK8', '3ZK9', '4C1X', '4D9G', '4D9I', '4F6E', '4GPV', '4H0G', '4HA3', '4HKW', '4I4Y', '4IIZ', '4JB7', '4LLC', '4LYQ', '4LYR', '4M8A', '4N2R', '4NOV', '4OJ3', '4OJG', '4R7F', '4TLU', '4TNF', '4TNG', '4TYU', '4U05', '4U7S', '4UTO', '4W68', '4W84', '4XKW', '4XLA', '4XLE', '4XLF', '4XM3', '4XMY', '4XN3', '4XOP', '4XOR', '4XOT', '4XR6', '4YEJ', '4YEL', '5BMG', '5BN1', '5IXH', '5JXM', '5LQ7', '5M85', '5N12', '5N6V', '5N7J', '5NZL', '5TGQ', '5V92', '5V94', '5WPR', '5WPS', '5X7U', '5XCZ', '5Y6T', '6A7S', '6AL8', '6AOK', '6AZY', '6C6W', '6E71', '6E75', '6EP1', '6EVU', '6FFW', '6FRZ', '6JHF', '6QAI', '6QVM', '6R52', '6R53', '6R54', '6R55', '6R56', '6R5A', '6RGT', '6UAX', '6YMS', '7AL1', '7LV6', '7RWU', '7RWY', '7SU7', '7VM0', '7WNL', '7YWF', '8A0R', '1D3L', '1VSC', '4BDS', '4D3X', '4D3Z', '5Z8I', '2MZ7', '1A8M', '1TNF', '2AZ5', '2E7A', '2ZJC', '2ZPX', '4TSV', '5TSW', '5UUI', '6OOY', '6OOZ', '6OP0', '6RMJ', '7ASY', '7AT7', '7ATB', '7JRA', '7KP9', '7KPA', '7QLF', '1ARM', '1BG4', '1BRA', '1C9O', '1EVQ', '1G5A', '1G9H', '1GXU', '1JF8', '1LR0', '1LXY', '1M6Z', '1MW1', '1MW3', '1OAD', '1PBT', '1R1M', '1S9R', '1VB0', '1WQ8', '1YSR', '1Z1F', '2FBA', '2HHC', '2IT9', '2NUN', '2O11', '2OCX', '2PRQ', '2V09', '2VXP', '2WTP', '2X6W', '2X6X', '2X6Y', '2X85', '2Y7M', '2Y7N', '2Y7O', '2YLH', '2ZUH', '3AXD', '3AXE', '3F99', '3FH4', '3HHI', '3HSS', '3HYS', '3I31', '3I9A', '3I9I', '3MMH', '3MSU', '3ORK', '3PB4', '3PB6', '3POR', '3T0V', '3TIQ', '3TPS', '3TPW', '3TQ5', '3VOC', '3ZKA', '4CKX', '4E4R', '4ICN', '4J3K', '4KK7', '4MDO', '4MIK', '4MQ4', '4N1I', '4NEQ', '4NFY', '4NSM', '4OOU', '4P2S', '4QKT', '4R72', '4RE2', '4RE3', '4W88', '4WVA', '4WVC', '4WXE', '4XPO', '4XZ6', '5AJC', '5CQE', '5DJ9', '5GK7', '5GLM', '5I24', '5INJ', '5J54', '5JSO', '5JTF', '5NA6', '5NGH', '5NL7', '5OA4', '5VX4', '5ZVJ', '6A1E', '6AW4', '6E6Z', '6E70', '6E72', '6E73', '6E74', '6E77', '6E78', '6FMT', '6FMW', '6HEE', '6IWM', '6JI6', '6KZY', '6L0Z', '6OAE', '6OS3', '6RJY', '6V40', '6WGP', '6ZC2', '6ZMC', '7CJE', '7CJG', '7D18', '7D23', '7E5J', '7KQT', '7SU8', '7TA5', '7VB8', '7VJS', '7VKK', '7XTW', '8ABT', '8AWI', '8B02', '8GUE', '1VCA', '2F9M', '4D3Y', '4NOJ', '7AMZ', '3LUC', '3LUG', '3LUH', '3LUJ', '3LUK', '3QX8', '3QX9', '7C6B', '7D7U', '5O2Z', '2ZV7', '2ZV8', '2ZV9', '2ZVA', '4TZI', '4ZNN', '1A2W', '1DPW', '1G94', '1IHO', '1KQ3', '1MVY', '1MW2', '1O6X', '1Q9E', '1W2I', '1XQI', '2BHU', '2FEU', '2HLP', '2HUM', '2KIV', '2NBO', '2OMD', '2Q2J', '2QHF', '2R31', '2UY8', '2ZAK', '2ZIK', '2ZIL', '2ZWB', '3CRR', '3DXL', '3DY9', '3DZT', '3EFP', '3FE0', '3GK7', '3HCX', '3HSZ', '3IHB', '3ILI', '3LRG', '3N2M', '3PB7', '3PB8', '3PB9', '3TPN', '3TPY', '3TQ4', '3UCQ', '3WC3', '3WFL', '3WH9', '3WMZ', '3ZIZ', '4A0T', '4B49', '4C1W', '4COT', '4DMZ', '4FBE', '4FLO', '4FLR', '4HAP', '4HFQ', '4JIX', '4MB1', '4N4B', '4P7B', '4TPY', '4W86', '4XPQ', '4ZTY', '5A8C', '5E75', '5EKW', '5EL9', '5ELW', '5EQV', '5G5S', '5H0V', '5H0W', '5H0X', '5H0Y', '5H0Z', '5H29', '5JDY', '5JMF', '5LX7', '5U4T', '5VXA', '5Y7F', '6CHK', '6D8V', '6DVS', '6E76', '6F1L', '6F1M', '6F1O', '6F1P', '6F1R', '6F9Y', '6F9Z', '6FA0', '6FMV', '6GBK', '6GI3', '6GI4', '6JWG', '6K4T', '6K4X', '6M4L', '6PHV', '6RLG', '6SL2', '6SMF', '6ST4', '6ZMA', '6ZMB', '7C1L', '7C1R', '7E2U', '7E6H', '7K1C', '7KD8', '7KQR', '7KQS', '7L37', '7L38', '7L39', '7L3F', '7L3G', '7L3H', '7L3I', '7L3J', '7L3K', '7OTR', '7Q9N', '7SU4', '7VR5', '7ZYA', '8A8I', '1IC1', '1MF7', '1N9Z', '1NA5', '1P53', '2CBZ', '2F9L', '2LKE', '2LKJ', '4NOK', '4NOM', '8CE6', '8CE9', '3LUD', '2M2F', '2OI0', '2YXF', '3B92', '3EWJ', '3L0V', '3LE9', '3LEA', '3LGP', '3QDA', '6KR8', '1W1F', '3A4O', '5XY1', '6NMW', '1AQM', '1CGZ', '1JS0', '1O2D', '1QNO', '1UTN', '1UW8', '1UX1', '1WP6', '1Y7T', '1YNU', '1ZH0', '1ZZC', '2BHY', '2CVQ', '2I1O', '2IXS', '2NMX', '2NN1', '2UYA', '2VHA', '2WHM', '2Y1B', '2Y4J', '2ZAX', '2ZIC', '2ZIJ', '2ZWT', '2ZWU', '3AHZ', '3LBG', '3O6Z', '3R8X', '3U2I', '3U2J', '3WMY', '4ARE', '4AWE', '4F9V', '4FAI', '4FLQ', '4HAQ', '4HZN', '4M8U', '4MFH', '4MU0', '4N2Z', '4PM1', '4PMF', '4QER', '4QEZ', '4QUP', '4QUR', '4UEK', '4V36', '4WD0', '4XT0', '4YH5', '4ZFV', '5B6A', '5CTG', '5FO2', '5FW6', '5IGT', '5JE2', '5MRQ', '5NFE', '5NFW', '5O77', '5OON', '6A6N', '6DMH', '6F9X', '6FFT', '6G0X', '6G47', '6GVP', '6GVR', '6IWN', '6JN9', '6JNA', '6JNC', '6JND', '6LLM', '6M73', '6M74', '6P2M', '6R66', '6R67', '6R68', '6R6I', '6SUG', '6SUH', '6TN6', '6WGQ', '7ACO', '7BQ6', '7C1O', '7CXZ', '7E6I', '7KQU', '7L3B', '7L3C', '7L3D', '7L3E', '7LX7', '7O82', '7OOY', '7Q9L', '7W8Y', '8AK2', '8BOO', '1BHO', '1IAM', '1IDN', '1IDO', '1JLM', '1M1U', '2XZG', '4G55', '5EZ5', '6E4L', '5KZO', '1AD1', '1CPF', '1E40', '1GVM', '1H4W', '1H72', '1JE0', '1JL0', '1LO6', '1M8M', '1TFP', '1US3', '1VEZ', '1XUD', '1XUR', '1YS7', '1YTK', '1Z7J', '1ZA5', '2B4H', '2BHZ', '2BML', '2BXY', '2BXZ', '2BY0', '2BY1', '2BY2', '2BY3', '2D4N', '2F6Q', '2FAW', '2GOU', '2GQ8', '2ROY', '2UYB', '2VG8', '2WFZ', '2WG2', '2WHK', '3E4G', '3EQA', '3L1F', '3MBM', '3N0Q', '3NM4', '3O2X', '3PBB', '3PBE', '3QTY', '3TY2', '3UWQ', '3VM7', '4A85', '4A8U', '4A8V', '4DES', '4DET', '4DEU', '4DEW', '4F9U', '4LRD', '4MAZ', '4PME', '4Q3N', '4R52', '4W5H', '4XQD', '4Z2Q', '4Z2S', '4ZK8', '5MRM', '5MRO', '5TFV', '5UE1', '5V27', '5V28', '5XZ4', '6A65', '6A66', '6ERZ', '6IOU', '6JFX', '6L3E', '6SJY', '6VS7', '6Y8Q', '7ESN', '7JRL', '7LOA', '7LOB', '7LOC', '7LOD', '7LOE', '7LOF', '7LOG', '7LX6', '7LX8', '7LX9', '7LXA', '7OOZ', '7P7I', '7Q1W', '7TRO', '8BER', '1L3Y', '1N6H', '1N6I', '1N6K', '1N6L', '1N6N', '1N6O', '1N6P', '1N6R', '1OIW', '1OIX', '1R2Q', '1TU4', '1YZK', '2K23', '2LL2', '4FGU', '4XW2', '5ZAZ', '6N8C', '1ZXC', '2A8H', '2FV5', '2FV9', '3E8R', '3EDZ', '3KMC', '3KME', '3L0T', '3O64', '4OM7', '1DZ6', '1F86', '1QNS', '1RD9', '1RDP', '1W2L', '1XUC', '1Y21', '2C1L', '2GXQ', '2RJ2', '2XB8', '2Y4K', '2YIZ', '3BT0', '3CKL', '3DX5', '3DZE', '3E3Z', '3FWG', '3GNO', '3HCH', '3I7I', '3L1E', '3MOY', '3NM6', '3OQ2', '3QOY', '3RJ8', '3WN1', '3WN2', '3ZF2', '4A8H', '4AUK', '4DER', '4HNO', '4JOD', '4NJO', '4OX5', '4QNJ', '4QOJ', '4UQD', '4UQE', '4ZD4', '5AO7', '5D86', '5DVX', '5ENZ', '5FTW', '5HUE', '5K30', '5K9G', '5NDB', '5V0V', '5WZM', '5Z9R', '6A80', '6A8S', '6B7F', '6BPN', '6CI6', '6CY6', '6EDD', '6EMT', '6IOS', '6KEL', '6XX9', '7LOL', '7N8G', '7P9L', '7QFT', '7QFV', '7QI0', '8BDZ', '6SL6', '2DDF', '3D4S', '3NY8', '3NY9', '3NYA', '3PDS', '4F42', '4F44', '5D6L', '5X7D', '6OBA', '6PRZ', '6PS0', '6PS1', '6PS2', '6PS3', '6PS4', '6PS5', '6PS6', '7PH8', '1BTI', '1DZ4', '1DZ8', '1DZ9', '1MSV', '1MXG', '1O76', '1OUB', '1OUC', '1OUD', '1OUE', '1OUF', '1OUG', '1OUH', '1OUI', '1OUJ', '1PEX', '1PSI', '1RF2', '1RYA', '1XOV', '1YOU', '2A1M', '2A1N', '2A1O', '2D1N', '2DDM', '2GNN', '2IYQ', '2PJT', '2ROX', '2Y3Z', '2YIG', '3DGD', '3DID', '3FVX', '3H6D', '3I93', '3LN2', '3OHO', '3TVC', '3WV2', '456C', '4B8R', '4BLU', '4D7G', '4DYY', '4GCY', '4I75', '4JJ2', '4JP4', '4JPA', '4UY6', '5BOT', '5BOY', '5BPA', '5FM8', '5IRP', '5LZG', '5UWK', '5ZFI', '6AHS', '6AT2', '6IYV', '6NLE', '6YDM', '7A71', '7D8V', '7JU8', '7N6C', '7ONX', '7P2W', '7QHZ', '7TBU', '830C', '8SAB', '1OIV', '5E6V', '5E6W', '5E6X', '1M7N', '1NGR', '1P4O', '2FCB', '2MIC', '2MJO', '2OJ9', '2RH1', '2X7Z', '3D94', '3I81', '3NW5', '3NW6', '3NW7', '3O23', '4D2R', '5D5A', '5D5B', '5FXQ', '5FXR', '5FXS', '1BPT', '1EUB', '1FAN', '1G8F', '1L2E', '1NAG', '1RN8', '1RNJ', '1SEH', '1SYL', '1T88', '1UMI', '1VZT', '1ZMJ', '1ZTQ', '2BXW', '2L77', '2L79', '3ELM', '3I7G', '3I7U', '3KEJ', '3KEK', '3KRY', '3LB0', '3OHL', '3VFE', '3ZXH', '4BMX', '4D8N', '4I71', '4I72', '4I74', '4N3T', '4WHE', '4X8Y', '4YIK', '5A2R', '5B5O', '5B5P', '5EDD', '5EQC', '5K89', '5UWL', '6BSV', '6OTI', '6R1O', '6S2W', '6SCZ', '6WJP', '8PTI', '1BIW', '1BQO', '1D5J', '1D7X', '1D8F', '1D8M', '1E6U', '1E7Q', '1E7R', '1E7S', '1E9V', '1FLS', '1FM1', '1G05', '1K0A', '1MQ7', '1QIA', '1QIC', '1R8X', '1S18', '1S1D', '1SIX', '1SJN', '1SLH', '1SM8', '1SMC', '1SNF', '1T87', '1TE6', '1UMH', '1W0P', '1YFU', '1YFW', '1YFX', '1YFY', '2AKM', '2AKZ', '2D1O', '2GEV', '2JCJ', '2JNP', '2JT5', '2JT6', '2L98', '2OW9', '2PY4', '2SRT', '2VZC', '2YOR', '2ZP3', '3BGB', '3BGC', '3HZA', '3KEC', '3LJZ', '3LOJ', '3LUI', '3M84', '3POF', '3UA8', '3UCC', '3UJE', '3UJR', '3UJS', '3USN', '3WV1', '3WV3', '4A7B', '4AMT', '4DPE', '4EDH', '4G9L', '4GWN', '4HVQ', '4JA1', '4JWJ', '4JXE', '4L2N', '4MS7', '4NFL', '4OYN', '4Q93', '4QOH', '4RML', '4TZ2', '5B4N', '5ECT', '5J6D', '5TPG', '5ZJW', '6APS', '6BSW', '6BVP', '6BVQ', '6BVR', '6BVS', '6D60', '6D61', '6DEB', '6DNP', '6DUS', '6PDV', '6PEA', '6QFF', '6QFG', '6QFH', '6QH9', '6QHA', '6QHB', '6QHC', '6RA6', '6SKB', '6SKC', '6SKD', '6VI5', '6VI6', '6VI7', '6VI8', '6VI9', '6VIA', '6VIB', '6VTR', '6X11', '7CGS', '7DYU', '7KDA', '7MRU', '8DJ9', '8FR1', '1BHQ', '2P26', '5CGD', '5CUH', '5UE3', '6X8O', '7P2L', '1G83', '1IGR', '1NYF', '1NYG', '1SHF', '1ZBJ', '2DQ7', '2F5H', '2MQI', '2MRJ', '3UF4', '4U17', '6EDF', '7A2J', '7A2K', '7A2L', '7A2M', '7A2N', '7A2O', '7A2P', '7A2Q', '7A2R', '7A2S', '7A2T', '7A2U', '7A2V', '1B8Y', '1BBS', '1BIL', '1BIM', '1BM6', '1C3I', '1C8T', '1CAQ', '1CIZ', '1G49', '1G4K', '1H4N', '1HY7', '1QVJ', '1SLM', '1SLN', '1TDH', '1UMS', '1UMT', '1USN', '2BKS', '2BKT', '2BME', '2F57', '2G21', '2G24', '2I4Q', '2USN', '2WQR', '2WVE', '3D91', '3DLN', '3DP4', '3IEU', '3IKJ', '3M3K', '3POI', '3POJ', '3Q5H', '3QIA', '3QJ5', '3R7X', '3RJA', '3RNN', '3RT6', '3RT8', '3SOS', '4B53', '4F1Y', '4F31', '4F39', '4F3G', '4IX9', '4L19', '4MUM', '4Q2P', '4U63', '5KVV', '5M10', '5T71', '5T72', '5T74', '5WCG', '6D62', '6EQ2', '6EQ3', '6EQ4', '6EQ5', '6EQ6', '6EQ7', '6EYF', '6H6I', '6H6J', '6H7Z', '6SB7', '6T0J', '6UGP', '6WFV', '6WQ5', '6WQ7', '7KDB', '7P8P', '7QBQ', '7SUW', '7SUY', '7SV1', '7SV8', '8H68', '4OO9', '5CGC', '6FFH', '6FFI', '1B4F', '1F0M', '3H0F', '3H0H', '3H0I', '3UA6', '3ZFM', '6IPY', '6IPZ', '1B3D', '1CQR', '1EKV', '1HFS', '1HRN', '1I5Z', '1N2S', '1SG0', '2B96', '2FS4', '2G20', '2G26', '2G27', '2IKO', '2IKU', '2REN', '2V10', '2V11', '2V12', '2V13', '2V16', '2WJW', '2XHD', '3DAY', '3FTS', '3I4L', '3I72', '3I73', '3LSW', '3LSX', '3M3F', '3M4Y', '3MFY', '3OWN', '3OY1', '3P20', '3QJY', '3RN8', '3SDZ', '3SE0', '4CA1', '4F22', '4F29', '4F2O', '4F2Q', '4F3B', '4LX1', '4NRV', '4O5Q', '5AYF', '5H8S', '5H9M', '5KUE', '5MKT', '5MLG', '5TXG', '5X09', '6D48', '6FLR', '6I9L', '6QAE', '6R6V', '6U3R', '6U3S', '6UX1', '6WQ4', '6WQ8', '6WQ9', '7JSQ', '7QHE', '7RM8', '7XGK', '7XGO', '4FXL', '4RMU', '4RMV', '4RMW', '5CFH', '5CKA', '5CKG', '5CS7', '5CSB', '5CSG', '6N33', '1JPA', '1NUK', '3ETP', '7S7K', '1I6X', '1P0Q', '1R30', '1RNE', '2G1N', '2G1O', '2G1R', '2G1S', '2G1Y', '2G22', '2IL2', '2WID', '2WIF', '2WIG', '2WIK', '2XMC', '2XMD', '2XMG', '2XNJ', '3C5E', '3DJY', '3DKK', '3G6Z', '3OOT', '3OQF', '3Q4B', '3VSW', '3VSX', '3VUC', '3VYD', '3VYE', '3VYF', '3ZVR', '4AXB', '4BBZ', '4O2L', '4PYV', '4Q1N', '4S1G', '4XX3', '4XX4', '5HZF', '5KOS', '5KOT', '5MXX', '5R4H', '5R4I', '5R4J', '5R4K', '5R4L', '5R4N', '5R4O', '5TMG', '5TMK', '5V8V', '5ZG1', '5ZG2', '6EP4', '6EQP', '6EQQ', '6F4O', '6GPU', '6I9M', '6I9N', '6QAC', '6T9P', '6T9S', '6XTA', '7Q1M', '7Q1N', '7Q1O', '7Q1P', '7XGP', '8AI7', '1OVZ', '1P0I', '1P0P', '1UCN', '1UUC', '1UVF', '1UVG', '1XLU', '1XLV', '1YLA', '2IUE', '2WIJ', '2WSL', '2XMB', '2XQF', '2XQG', '2XQI', '2XQJ', '2XQK', '2Y1K', '3F92', '3FJ5', '3G70', '3G72', '3GW5', '3KM4', '3MNQ', '3OQK', '3SFC', '4B0O', '4B0P', '4BDW', '4BDX', '4GJ5', '4GJ6', '4GJ7', '4GJ8', '4GJ9', '4GJA', '4GJB', '4GJC', '4GJD', '4RYC', '4RYG', '4XDP', '5HKJ', '5KOQ', '5R4M', '5SXN', '5SY2', '5SY3', '5SZ9', '5VPM', '5VRP', '5ZRY', '6D49', '6D4A', '6HMQ', '6KEO', '6QAA', '6QAB', '6QAD', '6R6W', '6ZWI', '7BO3', '7BO4', '7QBR', '7QHD', '7ZPB', '1Q5K', '1I6I', '1IK7', '1P0M', '1PWA', '1VFX', '1XCD', '1XLW', '2J4C', '2N3X', '2N4G', '2N4H', '2V0Z', '2ZFK', '3K1W', '3Q3T', '4O8H', '4O8I', '4RZ1', '5KTF', '5NN0', '5T4S', '5VBD', '6AAR', '7BGC', '7CCU', '8A6I', '2COK', '2CR9', '2CS2', '2DMJ', '2RCW', '3GN7', '5KPN', '5KPO', '5KPP', '5KPQ', '5WRQ', '5WRY', '5WRZ', '5WS0', '5WS1', '5WTC', '6GHK', '7PHT', '1XKU', '2AIX', '2IPF', '3S95', '4YU0', '4Z0I', '5MFA', '6FQG', '6XTZ', '7CCW', '1I44', '1IRK', '1P14', '1UK0', '1UK1', '2JVN', '2K86', '2L30', '2L31', '2LE0', '2MFR', '2RD6', '2RIQ', '3EKK', '3EKN', '3ETA', '3GJW', '3L3L', '3L3M', '4AMH', '4IBM', '4L6S', '4R5W', '4UND', '4UXB', '4XLV', '4ZZZ', '5A00', '5DS3', '5E1S', '5HA9', '5HHW', '5XSR', '5XST', '6NRF', '6NRG', '6NRH', '6NRI', '6NRJ', '6NTU', '6XVW', '7AAA', '7AAB', '7AAC', '7AAD', '7CMW', '7KK2', '7KK4', '7KK6', '7ONR', '7ONS', '7ONT', '6CJI', '6CJJ', '6CJL', '6CJP', '6CJR', '6CJS', '1BBN', '1BCN', '1CYL', '1HIJ', '1HIK', '1HZI', '1ITI', '1ITL', '1ITM', '1RCB', '2B8U', '2B8X', '2B8Y', '2B8Z', '2B90', '2B91', '2CYK', '2D48', '2INT', '1CXW', '1FTK', '1FTL', '1FTM', '1FTO', '1FW0', '1GR2', '1LB8', '1LB9', '1LBB', '1MQH', '1MQI', '1MQJ', '1MXV', '1MXW', '1MXX', '1MXY', '1MXZ', '1MY0', '1MY1', '1MY2', '1MY3', '1NNP', '1P1N', '1P1O', '1P1Q', '1P1U', '1P1W', '1QIB', '2UXA', '2Z2D', '3B6T', '3BFT', '3DP6', '3H5W', '3O6I', '3RTF', '3RTS', '3RTT', '3RTW', '3T96', '3T9H', '3T9U', '3T9V', '3TZA', '4GUY', '4GXS', '4MG3', '4NKB', '4Q30', '4U1O', '4U1Z', '4U21', '4U22', '4U23', '4Z2B', '5B4Y', '5N6P', '6A8Y', '6FQH', '6FQI', '6FQK', '6HCA', '6UYC', '1FTJ', '1GEN', '1HOV', '1J7M', '1JIZ', '1KS0', '1LBC', '1M5B', '1M5C', '1M5D', '1M5E', '1M5F', '1MM6', '1MM7', '1MQG', '1MS7', '1MXU', '1MY4', '1NNK', '1RMZ', '1ROS', '1RTG', '1SYH', '1SYI', '1WVJ', '1XHY', '1Y93', '1YCM', '1Z3J', '2AL5', '2ANJ', '2CMO', '2GFE', '2HU6', '2I3W', '2JXY', '2K2G', '2K9C', '2KRJ', '2OXU', '2P2A', '2POJ', '2W0D', '2WO8', '2WO9', '2WOA', '2XNM', '2XX7', '2XX8', '2XX9', '2XXH', '2XXI', '3B6Q', '3BA0', '3BBR', '3EHX', '3EHY', '3F15', '3F16', '3F17', '3F18', '3F19', '3F1A', '3FAY', '3HSY', '3IJO', '3IJX', '3IL1', '3ILT', '3ILU', '3KGC', '3LK8', '3LKA', '3LSF', '3LSL', '3M3L', '3N2U', '3N2V', '3NX7', '3O28', '3O29', '3O2A', '3O2J', '3O6G', '3O6H', '3PD8', '3PD9', '3PMV', '3PMW', '3PMX', '3T93', '3T9X', '3TDJ', '3TKD', '3TSK', '3UVC', '4FAT', '4G8M', '4GQL', '4GR0', '4GR3', '4GR8', '4IGT', '4IJO', '4IY5', '4IY6', '4LZ5', '4LZ7', '4LZ8', '4N07', '4O3A', '4O3B', '4O3C', '4X48', '4YMA', '4Z2A', '5BUU', '5CBR', '5CXA', '5CZM', '5D2B', '5D3C', '5FHM', '5FHN', '5FTH', '5FTI', '5I4O', '5JEI', '5LAB', '5N5J', '5N5K', '5NG9', '5NIH', '5NS9', '5OEW', '5SVL', '5SVM', '5SVP', '6DMJ', '6DML', '6EKN', '6ELA', '6ENM', '6EOX', '6FAZ', '6GIV', '6GL4', '6HC9', '6HCB', '6HCC', '6HCH', '6OKO', '6Q60', '6RD0', '6RLY', '6STG', '6UYB', '6YJD', '6YK2', '6YK3', '6YK4', '6YK5', '6YK6', '6ZYU', '7OVY', '1R5S', '5XR1', '2Z62', '2Z63', '5NAM', '5NAO', '3UL7', '3UL8', '3UL9', '1AOX', '1CK7', '1EXZ', '1GKC', '1GKD', '1ITV', '1JK3', '1SOL', '1UTT', '1UTZ', '2GW5', '2M0P', '2NR1', '3H6T', '3H6U', '3H6V', '3H6W', '3IK6', '3LIK', '3LIL', '3LIR', '3LJG', '3TS4', '4EFS', '4H1Q', '4H30', '4H49', '4H76', '4H84', '4I03', '4LLA', '4M66', '4U4S', '4U4X', '5CM4', '5ELV', '5I0L', '5I2Z', '5I3M', '5I43', '5JXG', '5JXI', '5L79', '5MIM', '5O9H', '5UE4', '6DMK', '6ESM', '6Q54', '7LCU', '7QXY', '7QXZ', '7XUA', '7XUB', '7XUD', '1H8F', '1I09', '1R0E', '2O5K', '2OW3', '3F7Z', '3F88', '3GB2', '3I4B', '3L1S', '3M1S', '3PUP', '3Q3B', '3SAY', '3SD0', '4AU8', '4DIT', '4IQ6', '4J71', '5F94', '5F95', '5HLP', '6GJO', '6GN1', '6TCU', '7B6F', '7U2Z', '7U31', '7U33', '7U36', '7Z1F', '7Z1G', '8DJC', '8DJD', '8DJE', '1KCQ', '1L6J', '1NPH', '2H8N', '2O94', '2OVX', '2OVZ', '2OW0', '2OW1', '2OW2', '4H2E', '4H3X', '4H82', '4HMA', '4WZV', '4XCT', '5BPB', '5BPQ', '5FAE', '5H3M', '5H3N', '5I12', '5L7F', '5UWG', '6AED', '6BD4', '6LJE', '6LJF', '6MKM', '6QW3', '7O1U', '7O1W', '7O1Y', '7O20', '7O22', '7QY0', '7QY1', '7QY2', '7X73', '1J1B', '1J1C', '1PYX', '1Q3D', '1Q3W', '1Q41', '1Q4L', '1UV5', '3DU8', '4PTC', '4PTE', '4PTG', '5HLN', '5K5N', '5KPK', '5KPL', '5KPM', '5T31', '6H0U', '6HK7', '6V6L', '6Y9R', '6Y9S', '7OY5', '1C3D', '1QQF', '2I1P', '3IB4', '4HW5', '4HWJ', '4I6O', '4M8V', '5FAF', '5NOU', '5URY', '5URZ', '6RMT', '1XQ8', '2JN5', '2KKW', '1T4E', '1Z1M', '2C6A', '2C6B', '2HDP', '2LZG', '2RUH', '3Q8T', '3TJ2', '3TU1', '3VZV', '4DDP', '4DIJ', '4MDQ', '4OQ3', '4QO4', '5C5A', '5EFM', '5HHE', '5HMH', '5HMI', '5HMK', '5IIW', '5LN2', '5Z02', '5ZXF', '6GGN', '6I29', '7CJV', '7CJW', '7NA2', '7QDQ', '8AEU', '2ZHC', '7TFS', '8D9M', '1HL4', '1PTZ', '1RV1', '2LEM', '2QRI', '2QRS', '2QRT', '3JZK', '3L3N', '3LBK', '3LBL', '3NWM', '3NXP', '3UV5', '3VBG', '3W69', '4ERE', '4ERF', '4HG7', '4JV7', '4JV9', '4JVE', '4JVR', '4JWR', '4MDN', '4NC3', '4OAS', '4OBA', '4OCC', '4ODE', '4ODF', '4OGN', '4OGT', '4OGV', '4QOC', '4WT2', '4ZFI', '4ZGK', '4ZYC', '4ZYF', '4ZYI', '5DLI', '5J7F', '5J7G', '5LAV', '5LAW', '5LAY', '5LAZ', '5OAI', '5OC8', '5TRF', '6I3S', '6Q96', '6Q9H', '6Q9L', '6Q9O', '6XE8', '6XED', '6XEE', '6XEG', '7BIR', '7BIT', '7BIV', '7BJ0', '7BJ6', '7BMG', '7MNC', '7NA1', '7NA3', '7NA4', '7RIN', '1AV1', '1GW3', '1GW4', '1O86', '1O8A', '1ODP', '1ODQ', '1ODR', '1SUG', '1UZE', '1UZF', '2CL0', '2IUL', '2IUX', '2N5E', '2OC2', '2YDM', '3BKK', '3I80', '3QKP', '3QKQ', '3R2P', '3S6C', '4BZR', '4C2N', '4C2P', '4C2Q', '4C2R', '4ONO', '4QAH', '4QAP', '4QBW', '5K9V', '5K9W', '5KA0', '5KA2', '5KA3', '5KA7', '5KA8', '5KA9', '5KAA', '5KAB', '5KAC', '5KAD', '5NVB', '5OQF', '5OQG', '5OQH', '5OQI', '5QDE', '5QDF', '5QDG', '5QDH', '5QDI', '5QDJ', '5QDK', '5QDL', '5QDM', '5QDN', '5QDO', '5QDP', '5QDQ', '5QDR', '5QDS', '5QDT', '5QDU', '5QDV', '5QDW', '5QDX', '5QDY', '5QDZ', '5QE0', '5QE1', '5QE2', '5QE3', '5QE4', '5QE5', '5QE6', '5QE7', '5QE8', '5QE9', '5QEA', '5QEB', '5QEC', '5QED', '5QEE', '5QEF', '5QEG', '5QEH', '5QEI', '5QEJ', '5QEK', '5QEL', '5QEM', '5QEN', '5QEO', '5QEP', '5QEQ', '5QER', '5QES', '5QET', '5QEU', '5QEV', '5QEW', '5QEX', '5QEY', '5QEZ', '5QF0', '5QF1', '5QF2', '5QF3', '5QF4', '5QF5', '5QF6', '5QF7', '5QF8', '5QF9', '5QFA', '5QFB', '5QFC', '5QFD', '5QFE', '5QFF', '5QFG', '5QFH', '5QFI', '5QFJ', '5QFK', '5QFL', '5QFM', '5QFN', '5QFO', '5QFP', '5QFQ', '5QFR', '5QFS', '5QFT', '5QFU', '5QFV', '5QFW', '5QFX', '5QFY', '5QFZ', '5QG0', '5QG1', '5QG2', '5QG3', '5QG4', '5QG5', '5QG6', '5QG7', '5QG8', '5QG9', '5QGA', '5QGB', '5QGC', '5QGD', '5QGE', '5QGF', '6B8E', '6B8T', '6B90', '6B95', '6BAI', '6F9T', '6H5W', '6RLN', '6XEA', '6XEF', '6ZPU', '7FQM', '7FQN', '7FQO', '7FQP', '7FQQ', '7FQR', '7FQS', '7FQT', '7FQU', '7FQV', '7FQW', '7FQX', '7FQY', '7FQZ', '7FRE', '7FRF', '7FRG', '7FRH', '7FRI', '7FRJ', '7FRK', '7FRL', '7FRM', '7FRN', '7FRO', '7FRP', '7FRQ', '7FRR', '7FRS', '7FRT', '7FRU', '7MM1', '7MN7', '7MN9', '7MNA', '7MND', '7MNE', '7MNF', '7MOU', '7MOV', '7MOW', '8DU7', '1PDR', '1ZOK', '2XY9', '3BKL', '3OV6', '3W9Y', '4C2O', '4CA5', '4ITH', '4ITI', '4ITJ', '4NEU', '4Y14', '5HX6', '5KA1', '5N5A', '5N5B', '6C3E', '6DMG', '6F9U', '6NW2', '7FCZ', '7FD0', '7Q27', '7Q28', '7Q29', '7Z70', '1FYW', '1FYX', '1O77', '1PB7', '1PB8', '1PB9', '1PBQ', '1Y1M', '1Y1Z', '1Y20', '2AWX', '3LRA', '4KCC', '4KFQ', '4OVA', '5BPN', '5OM0', '5TX5', '6AC5', '6HHO', '6HOJ', '6HOK', '6MP0', '6MP1', '6NYH', '6OCQ', '8AR0', '1L3H', '2Z80', '4X2G', '5DNF', '6E1I', '5AIR', '1IIE', '2TGI', '6WLC', '7D3I', '1HN3', '1TFG', '6I9J', '2Z81', '2Z82', '3A7B', '3A7C', '2P4Y', '4JAZ', '2JMO', '5TR5', '5TX2', '5TX6', '1IYF', '4BM9', '4I1F', '4I1H', '5C1Z', '5C23', '5C9V', '6HUE', '6WTQ', '7OTE', '2IOI', '2IOM', '6NEO', '8ETD']\n"
     ]
    },
    {
     "name": "stderr",
     "output_type": "stream",
     "text": [
      "2023-05-15 17:49:35,826 - INFO     - Executing shutdown due to inactivity...\n",
      "2023-05-15 17:49:35,905 - INFO     - Executing shutdown...\n",
      "2023-05-15 17:49:35,906 - ERROR    - Exception on /shutdown [GET]\n",
      "Traceback (most recent call last):\n",
      "  File \"/home/meuret/anaconda3/envs/louis/lib/python3.11/site-packages/flask/app.py\", line 2190, in wsgi_app\n",
      "    response = self.full_dispatch_request()\n",
      "               ^^^^^^^^^^^^^^^^^^^^^^^^^^^^\n",
      "  File \"/home/meuret/anaconda3/envs/louis/lib/python3.11/site-packages/flask/app.py\", line 1486, in full_dispatch_request\n",
      "    rv = self.handle_user_exception(e)\n",
      "         ^^^^^^^^^^^^^^^^^^^^^^^^^^^^^\n",
      "  File \"/home/meuret/anaconda3/envs/louis/lib/python3.11/site-packages/flask/app.py\", line 1484, in full_dispatch_request\n",
      "    rv = self.dispatch_request()\n",
      "         ^^^^^^^^^^^^^^^^^^^^^^^\n",
      "  File \"/home/meuret/anaconda3/envs/louis/lib/python3.11/site-packages/flask/app.py\", line 1469, in dispatch_request\n",
      "    return self.ensure_sync(self.view_functions[rule.endpoint])(**view_args)\n",
      "           ^^^^^^^^^^^^^^^^^^^^^^^^^^^^^^^^^^^^^^^^^^^^^^^^^^^^^^^^^^^^^^^^^\n",
      "  File \"/home/meuret/anaconda3/envs/louis/lib/python3.11/site-packages/dtale/app.py\", line 438, in shutdown\n",
      "    shutdown_server()\n",
      "  File \"/home/meuret/anaconda3/envs/louis/lib/python3.11/site-packages/dtale/app.py\", line 424, in shutdown_server\n",
      "    raise RuntimeError(\"Not running with the Werkzeug Server\")\n",
      "RuntimeError: Not running with the Werkzeug Server\n",
      "2023-05-16 12:13:36,699 - INFO     - Executing shutdown due to inactivity...\n",
      "2023-05-16 12:13:36,774 - INFO     - Executing shutdown...\n",
      "2023-05-16 12:13:36,775 - ERROR    - Exception on /shutdown [GET]\n",
      "Traceback (most recent call last):\n",
      "  File \"/home/meuret/anaconda3/envs/louis/lib/python3.11/site-packages/flask/app.py\", line 2190, in wsgi_app\n",
      "    response = self.full_dispatch_request()\n",
      "               ^^^^^^^^^^^^^^^^^^^^^^^^^^^^\n",
      "  File \"/home/meuret/anaconda3/envs/louis/lib/python3.11/site-packages/flask/app.py\", line 1486, in full_dispatch_request\n",
      "    rv = self.handle_user_exception(e)\n",
      "         ^^^^^^^^^^^^^^^^^^^^^^^^^^^^^\n",
      "  File \"/home/meuret/anaconda3/envs/louis/lib/python3.11/site-packages/flask/app.py\", line 1484, in full_dispatch_request\n",
      "    rv = self.dispatch_request()\n",
      "         ^^^^^^^^^^^^^^^^^^^^^^^\n",
      "  File \"/home/meuret/anaconda3/envs/louis/lib/python3.11/site-packages/flask/app.py\", line 1469, in dispatch_request\n",
      "    return self.ensure_sync(self.view_functions[rule.endpoint])(**view_args)\n",
      "           ^^^^^^^^^^^^^^^^^^^^^^^^^^^^^^^^^^^^^^^^^^^^^^^^^^^^^^^^^^^^^^^^^\n",
      "  File \"/home/meuret/anaconda3/envs/louis/lib/python3.11/site-packages/dtale/app.py\", line 438, in shutdown\n",
      "    shutdown_server()\n",
      "  File \"/home/meuret/anaconda3/envs/louis/lib/python3.11/site-packages/dtale/app.py\", line 424, in shutdown_server\n",
      "    raise RuntimeError(\"Not running with the Werkzeug Server\")\n",
      "RuntimeError: Not running with the Werkzeug Server\n"
     ]
    }
   ],
   "source": [
    "with open('results.pickle', 'rb') as f:\n",
    "    res = pickle.load(f)\n",
    "    \n",
    "print(res)"
   ]
  },
  {
   "cell_type": "code",
   "execution_count": 22,
   "id": "dca5c7b6",
   "metadata": {},
   "outputs": [],
   "source": [
    "filename = 'first_model.sav'\n",
    "pickle.dump(rf, open(filename, 'wb'))"
   ]
  },
  {
   "cell_type": "code",
   "execution_count": null,
   "id": "6140b948",
   "metadata": {},
   "outputs": [],
   "source": []
  }
 ],
 "metadata": {
  "kernelspec": {
   "display_name": "Python 3",
   "language": "python",
   "name": "python3"
  },
  "language_info": {
   "codemirror_mode": {
    "name": "ipython",
    "version": 3
   },
   "file_extension": ".py",
   "mimetype": "text/x-python",
   "name": "python",
   "nbconvert_exporter": "python",
   "pygments_lexer": "ipython3",
   "version": "3.9.12"
  }
 },
 "nbformat": 4,
 "nbformat_minor": 5
}
