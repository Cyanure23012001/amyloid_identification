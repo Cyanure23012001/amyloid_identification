{
 "cells": [
  {
   "cell_type": "code",
   "execution_count": 12,
   "id": "51df5ae6",
   "metadata": {},
   "outputs": [],
   "source": [
    "import pandas as pd\n",
    "import pickle\n",
    "with open('calculations_1', 'rb') as f:\n",
    "    resultdf = pickle.load(f)"
   ]
  },
  {
   "cell_type": "code",
   "execution_count": 13,
   "id": "570b7770",
   "metadata": {},
   "outputs": [],
   "source": [
    "import dtale"
   ]
  },
  {
   "cell_type": "code",
   "execution_count": 14,
   "id": "dc774aaa",
   "metadata": {
    "scrolled": true
   },
   "outputs": [
    {
     "data": {
      "text/html": [
       "\n",
       "        <iframe\n",
       "            width=\"100%\"\n",
       "            height=\"475\"\n",
       "            src=\"http://rpbs-priv2:40001/dtale/iframe/2\"\n",
       "            frameborder=\"0\"\n",
       "            allowfullscreen\n",
       "            \n",
       "        ></iframe>\n",
       "        "
      ],
      "text/plain": [
       "<IPython.lib.display.IFrame at 0x7f6311871390>"
      ]
     },
     "metadata": {},
     "output_type": "display_data"
    },
    {
     "data": {
      "text/plain": []
     },
     "execution_count": 14,
     "metadata": {},
     "output_type": "execute_result"
    }
   ],
   "source": [
    "dtale.show(resultdf)"
   ]
  },
  {
   "cell_type": "code",
   "execution_count": 4,
   "id": "bb90446f",
   "metadata": {},
   "outputs": [],
   "source": [
    "import dtale\n",
    "resultdf.fillna(0,inplace=True)"
   ]
  },
  {
   "cell_type": "code",
   "execution_count": 15,
   "id": "e7bd01fa",
   "metadata": {},
   "outputs": [],
   "source": [
    "results_filtered = resultdf.drop(['DF_DSSP', 'DF_H', 'PDB_ID', 'AAseq'], axis=1)"
   ]
  },
  {
   "cell_type": "code",
   "execution_count": 18,
   "id": "2d0d168b",
   "metadata": {},
   "outputs": [],
   "source": [
    "order_descriptors = ['Number of H', 'H number w chains', 'SASA', 'Alignement_total',\n",
    "       'Alignement_moyen', 'Hydrophobicity', 'Hydropathy',\n",
    "       'experimental_method', 'oligomeric_state1', 'oligomeric_state2',\n",
    "       'atom_count', 'H_atom_count', 'symmetry', 'E', 'T', 'S', 'G', 'H', 'I',\n",
    "       'B']\n",
    "\n",
    "results_filtered_ordered = results_filtered.reindex(columns=order_descriptors)\n",
    "\n"
   ]
  },
  {
   "cell_type": "code",
   "execution_count": 19,
   "id": "cff1ea90",
   "metadata": {},
   "outputs": [],
   "source": [
    "name_columns = pickle.load(open('columns.pickle', 'rb'))"
   ]
  },
  {
   "cell_type": "code",
   "execution_count": 37,
   "id": "1ac23708",
   "metadata": {
    "scrolled": true
   },
   "outputs": [
    {
     "name": "stdout",
     "output_type": "stream",
     "text": [
      "0\n",
      "1\n",
      "2\n",
      "3\n"
     ]
    }
   ],
   "source": [
    "# On remplace les données par les memes valeurs que dans le jeu de training\n",
    "for column in range(len(name_columns[2])):\n",
    "    #results_filtered_ordered[name_columns[2][column]]\n",
    "    for x in name_columns[0][column]:\n",
    "        #print(x[0])\n",
    "        # On remplace dans la colonne adaptée les valeurs\n",
    "        results_filtered_ordered[name_columns[2][column]].replace(x[0],x[1],inplace=True)\n",
    "    \n",
    "    print(column)\n",
    "    results_filtered_ordered[name_columns[2][column]].replace(to_replace='.*', value=1000, regex=True, inplace=True)\n",
    "    \n",
    "index = pd.Index(range(1, len(results_filtered_ordered)+1, 1))\n",
    "results_filtered_ordered = results_filtered_ordered.set_index(index)    "
   ]
  },
  {
   "cell_type": "code",
   "execution_count": 38,
   "id": "a989819a",
   "metadata": {},
   "outputs": [
    {
     "data": {
      "text/html": [
       "\n",
       "        <iframe\n",
       "            width=\"100%\"\n",
       "            height=\"475\"\n",
       "            src=\"http://rpbs-priv2:40001/dtale/iframe/8\"\n",
       "            frameborder=\"0\"\n",
       "            allowfullscreen\n",
       "            \n",
       "        ></iframe>\n",
       "        "
      ],
      "text/plain": [
       "<IPython.lib.display.IFrame at 0x7f630cf54d10>"
      ]
     },
     "metadata": {},
     "output_type": "display_data"
    },
    {
     "data": {
      "text/plain": []
     },
     "execution_count": 38,
     "metadata": {},
     "output_type": "execute_result"
    }
   ],
   "source": [
    "dtale.show(results_filtered_ordered)"
   ]
  },
  {
   "cell_type": "code",
   "execution_count": 20,
   "id": "5170f9cb",
   "metadata": {},
   "outputs": [
    {
     "name": "stdout",
     "output_type": "stream",
     "text": [
      "[[[('X-RAY DIFFRACTION', 1), ('SOLUTION NMR', 4), ('ELECTRON MICROSCOPY', 5), ('ELECTRON CRYSTALLOGRAPHY', 2), ('SOLID-STATE NMR', 3)], [('hexameric', 9), ('monomeric', 13), ('tetrameric', 2), ('dimeric', 4), ('octadecameric', 5), ('octameric', 1), ('decameric', 12), ('Dimeric', 15), ('hexadecameric', 7), ('pentameric', 6), ('tridecameric', 14), ('36-meric', 16), ('nonameric', 11), ('27-meric', 10), ('dodecameric', 8), ('trimeric', 3)], [('Homo 2-mer', 4), ('Hetero 36-mer', 20), ('Homo 8-mer', 1), ('Homo 16-mer', 7), ('Hetero 2-mer', 14), ('Monomer', 13), ('Hetero 6-mer', 21), ('Homo 27-mer', 10), ('Homo 18-mer', 5), ('Hetero 12-mer', 17), ('Homo 12-mer', 8), ('Homo 10-mer', 12), ('Homo 3-mer', 3), ('Hetero 4-mer', 15), ('Hetero 9-mer', 19), ('Homo 9-mer', 11), ('Homo 5-mer', 6), ('Hetero 13-mer', 18), ('Hetero 5-mer', 22), ('Homo 4-mer', 2), ('Homo 6-mer', 9), ('Hetero 3-mer', 16)], [('Asymmetric', 1), ('Dihedral', 4), ('Helical', 3), ('Tetrahedral', 5), ('Cyclic', 2)]], Index(['Number of H', 'H number w chains', 'SASA', 'Alignement_total',\n",
      "       'Alignement_moyen', 'Hydrophobicity', 'Hydropathy',\n",
      "       'experimental_method', 'oligomeric_state1', 'oligomeric_state2',\n",
      "       'atom_count', 'H_atom_count', 'symmetry', 'E', 'T', 'S', 'G', 'H', 'I',\n",
      "       'B'],\n",
      "      dtype='object'), ['experimental_method', 'oligomeric_state1', 'oligomeric_state2', 'symmetry']]\n"
     ]
    }
   ],
   "source": [
    "print(name_columns)"
   ]
  },
  {
   "cell_type": "code",
   "execution_count": 40,
   "id": "f45192ed",
   "metadata": {},
   "outputs": [
    {
     "name": "stdout",
     "output_type": "stream",
     "text": [
      "[ True  True  True ... False False False]\n"
     ]
    }
   ],
   "source": [
    "filename = 'first_model.sav'\n",
    "loaded_model = pickle.load(open(filename, 'rb'))\n",
    "result = loaded_model.predict(results_filtered_ordered)\n",
    "print(result)"
   ]
  },
  {
   "cell_type": "code",
   "execution_count": 46,
   "id": "d1f09883",
   "metadata": {},
   "outputs": [],
   "source": [
    "import copy\n",
    "result_prediction = copy.deepcopy(resultdf)\n",
    "result_prediction['is_amyloid'] = result"
   ]
  },
  {
   "cell_type": "code",
   "execution_count": 47,
   "id": "54455377",
   "metadata": {},
   "outputs": [
    {
     "data": {
      "text/html": [
       "\n",
       "        <iframe\n",
       "            width=\"100%\"\n",
       "            height=\"475\"\n",
       "            src=\"http://rpbs-priv2:40001/dtale/iframe/10\"\n",
       "            frameborder=\"0\"\n",
       "            allowfullscreen\n",
       "            \n",
       "        ></iframe>\n",
       "        "
      ],
      "text/plain": [
       "<IPython.lib.display.IFrame at 0x7f630cfa5650>"
      ]
     },
     "metadata": {},
     "output_type": "display_data"
    },
    {
     "data": {
      "text/plain": []
     },
     "execution_count": 47,
     "metadata": {},
     "output_type": "execute_result"
    }
   ],
   "source": [
    "dtale.show(result_prediction)"
   ]
  },
  {
   "cell_type": "code",
   "execution_count": null,
   "id": "a8f1a230",
   "metadata": {},
   "outputs": [],
   "source": []
  }
 ],
 "metadata": {
  "kernelspec": {
   "display_name": "Python 3",
   "language": "python",
   "name": "python3"
  },
  "language_info": {
   "codemirror_mode": {
    "name": "ipython",
    "version": 3
   },
   "file_extension": ".py",
   "mimetype": "text/x-python",
   "name": "python",
   "nbconvert_exporter": "python",
   "pygments_lexer": "ipython3",
   "version": "3.9.12"
  }
 },
 "nbformat": 4,
 "nbformat_minor": 5
}
