{
 "cells": [
  {
   "cell_type": "code",
   "execution_count": 1,
   "id": "51df5ae6",
   "metadata": {},
   "outputs": [],
   "source": [
    "import pandas as pd\n",
    "import pickle\n",
    "with open('pickle_models/calculations_results_request', 'rb') as f:\n",
    "    resultdf = pickle.load(f)"
   ]
  },
  {
   "cell_type": "code",
   "execution_count": 2,
   "id": "570b7770",
   "metadata": {},
   "outputs": [],
   "source": [
    "import dtale"
   ]
  },
  {
   "cell_type": "code",
   "execution_count": 29,
   "id": "dc774aaa",
   "metadata": {
    "scrolled": true
   },
   "outputs": [
    {
     "data": {
      "text/html": [
       "\n",
       "        <iframe\n",
       "            width=\"100%\"\n",
       "            height=\"475\"\n",
       "            src=\"http://debian:40002/dtale/iframe/6\"\n",
       "            frameborder=\"0\"\n",
       "            allowfullscreen\n",
       "            \n",
       "        ></iframe>\n",
       "        "
      ],
      "text/plain": [
       "<IPython.lib.display.IFrame at 0x7f3913772160>"
      ]
     },
     "metadata": {},
     "output_type": "display_data"
    },
    {
     "data": {
      "text/plain": []
     },
     "execution_count": 29,
     "metadata": {},
     "output_type": "execute_result"
    }
   ],
   "source": [
    "dtale.show(resultdf)"
   ]
  },
  {
   "cell_type": "code",
   "execution_count": 3,
   "id": "bb90446f",
   "metadata": {},
   "outputs": [],
   "source": [
    "import dtale\n",
    "resultdf.fillna(0,inplace=True)"
   ]
  },
  {
   "cell_type": "code",
   "execution_count": 4,
   "id": "e7bd01fa",
   "metadata": {},
   "outputs": [],
   "source": [
    "results_filtered = resultdf.drop(['DF_DSSP', 'DF_H', 'PDB_ID', 'AAseq','fasta','AAseq_full'], axis=1)"
   ]
  },
  {
   "cell_type": "code",
   "execution_count": 5,
   "id": "2d0d168b",
   "metadata": {},
   "outputs": [],
   "source": [
    "order_descriptors = ['nb H_bond / nres', 'nb H_bond total', 'H_bond / nb_res * nb_chains',\n",
    "       'Max_hbonds_number', 'Number of chains', 'SASA_unedited', 'SASA_full',\n",
    "       'SASA_theo', 'Alignement_total', 'Alignement_moyen', 'Hydrophobicity',\n",
    "       'Hydropathy', 'experimental_method', 'oligomeric_state1',\n",
    "       'oligomeric_state2', 'atom_count', 'H_atom_count', 'symmetry', 'H', 'I',\n",
    "       'T', 'G', 'E', 'B', 'S']\n",
    "\n",
    "results_filtered_ordered = results_filtered.reindex(columns=order_descriptors)\n",
    "\n"
   ]
  },
  {
   "cell_type": "code",
   "execution_count": 6,
   "id": "cff1ea90",
   "metadata": {},
   "outputs": [],
   "source": [
    "name_columns = pickle.load(open('columns.pickle', 'rb'))"
   ]
  },
  {
   "cell_type": "code",
   "execution_count": 7,
   "id": "68f53cbe",
   "metadata": {},
   "outputs": [
    {
     "name": "stdout",
     "output_type": "stream",
     "text": [
      "[[[('SOLID-STATE NMR', 3), ('SOLUTION NMR', 1), ('ELECTRON CRYSTALLOGRAPHY', 4), ('ELECTRON MICROSCOPY', 5), ('X-RAY DIFFRACTION', 2)], [('hexadecameric', 11), ('octameric', 7), ('undecameric', 16), ('1824-meric', 15), ('nonameric', 9), ('decameric', 13), ('tridecameric', 20), ('36-meric', 22), ('tetrameric', 4), ('32-meric', 19), ('helical', 10), ('Dimeric', 21), ('dodecameric', 3), ('trimeric', 6), ('dimeric', 2), ('270-meric', 18), ('27-meric', 12), ('octadecameric', 8), ('pentameric', 5), ('hexameric', 14), ('monomeric', 1), ('eicosameric', 17)], [('Homo 1368-mer', 11), ('Homo 32-mer', 22), ('Monomer', 1), ('Hetero 36-mer', 28), ('Hetero 13-mer', 26), ('Homo 5-mer', 5), ('Hetero 9-mer', 27), ('Homo 8-mer', 7), ('Homo 1824-mer', 16), ('Homo 10-mer', 14), ('Homo 912-mer', 10), ('Hetero 270-mer', 21), ('Homo 27-mer', 13), ('Hetero 8-mer', 20), ('Hetero 2-mer', 23), ('Hetero 4-mer', 24), ('Homo 12-mer', 3), ('Homo 16-mer', 12), ('Hetero 12-mer', 25), ('Homo 18-mer', 8), ('Homo 6-mer', 15), ('Homo 4-mer', 4), ('Hetero 5-mer', 30), ('Homo 3-mer', 6), ('Hetero 3-mer', 17), ('Homo 9-mer', 9), ('Homo 11-mer', 18), ('Homo 2-mer', 2), ('Homo 20-mer', 19), ('Hetero 6-mer', 29)], [('Cyclic', 2), ('Helical', 4), ('Dihedral', 3), ('Asymmetric', 1), ('Tetrahedral', 5)]], Index(['nb H_bond / nres', 'nb H_bond total', 'H_bond / nb_res * nb_chains',\n",
      "       'Max_hbonds_number', 'Number of chains', 'SASA_unedited', 'SASA_full',\n",
      "       'SASA_theo', 'Alignement_total', 'Alignement_moyen', 'Hydrophobicity',\n",
      "       'Hydropathy', 'experimental_method', 'oligomeric_state1',\n",
      "       'oligomeric_state2', 'atom_count', 'H_atom_count', 'symmetry', 'H', 'I',\n",
      "       'T', 'G', 'E', 'B', 'S'],\n",
      "      dtype='object'), ['experimental_method', 'oligomeric_state1', 'oligomeric_state2', 'symmetry']]\n"
     ]
    }
   ],
   "source": [
    "print(name_columns)"
   ]
  },
  {
   "cell_type": "code",
   "execution_count": 8,
   "id": "1ac23708",
   "metadata": {
    "scrolled": true
   },
   "outputs": [
    {
     "name": "stdout",
     "output_type": "stream",
     "text": [
      "0\n",
      "1\n",
      "2\n",
      "3\n"
     ]
    }
   ],
   "source": [
    "# On remplace les données par les memes valeurs que dans le jeu de training\n",
    "for column in range(len(name_columns[2])):\n",
    "    #results_filtered_ordered[name_columns[2][column]]\n",
    "    for x in name_columns[0][column]:\n",
    "        #print(x[0])\n",
    "        # On remplace dans la colonne adaptée les valeurs\n",
    "        results_filtered_ordered[name_columns[2][column]].replace(x[0],x[1],inplace=True)\n",
    "    \n",
    "    print(column)\n",
    "    results_filtered_ordered[name_columns[2][column]].replace(to_replace='.*', value=1000, regex=True, inplace=True)\n",
    "    \n",
    "index = pd.Index(range(1, len(results_filtered_ordered)+1, 1))\n",
    "results_filtered_ordered = results_filtered_ordered.set_index(index)    "
   ]
  },
  {
   "cell_type": "code",
   "execution_count": 9,
   "id": "a989819a",
   "metadata": {},
   "outputs": [
    {
     "data": {
      "text/html": [
       "\n",
       "        <iframe\n",
       "            width=\"100%\"\n",
       "            height=\"475\"\n",
       "            src=\"http://debian:40004/dtale/iframe/1\"\n",
       "            frameborder=\"0\"\n",
       "            allowfullscreen\n",
       "            \n",
       "        ></iframe>\n",
       "        "
      ],
      "text/plain": [
       "<IPython.lib.display.IFrame at 0x7fa47f2602e0>"
      ]
     },
     "metadata": {},
     "output_type": "display_data"
    },
    {
     "data": {
      "text/plain": []
     },
     "execution_count": 9,
     "metadata": {},
     "output_type": "execute_result"
    }
   ],
   "source": [
    "dtale.show(results_filtered_ordered)"
   ]
  },
  {
   "cell_type": "code",
   "execution_count": 10,
   "id": "5170f9cb",
   "metadata": {},
   "outputs": [
    {
     "name": "stdout",
     "output_type": "stream",
     "text": [
      "[[[('SOLID-STATE NMR', 3), ('SOLUTION NMR', 1), ('ELECTRON CRYSTALLOGRAPHY', 4), ('ELECTRON MICROSCOPY', 5), ('X-RAY DIFFRACTION', 2)], [('hexadecameric', 11), ('octameric', 7), ('undecameric', 16), ('1824-meric', 15), ('nonameric', 9), ('decameric', 13), ('tridecameric', 20), ('36-meric', 22), ('tetrameric', 4), ('32-meric', 19), ('helical', 10), ('Dimeric', 21), ('dodecameric', 3), ('trimeric', 6), ('dimeric', 2), ('270-meric', 18), ('27-meric', 12), ('octadecameric', 8), ('pentameric', 5), ('hexameric', 14), ('monomeric', 1), ('eicosameric', 17)], [('Homo 1368-mer', 11), ('Homo 32-mer', 22), ('Monomer', 1), ('Hetero 36-mer', 28), ('Hetero 13-mer', 26), ('Homo 5-mer', 5), ('Hetero 9-mer', 27), ('Homo 8-mer', 7), ('Homo 1824-mer', 16), ('Homo 10-mer', 14), ('Homo 912-mer', 10), ('Hetero 270-mer', 21), ('Homo 27-mer', 13), ('Hetero 8-mer', 20), ('Hetero 2-mer', 23), ('Hetero 4-mer', 24), ('Homo 12-mer', 3), ('Homo 16-mer', 12), ('Hetero 12-mer', 25), ('Homo 18-mer', 8), ('Homo 6-mer', 15), ('Homo 4-mer', 4), ('Hetero 5-mer', 30), ('Homo 3-mer', 6), ('Hetero 3-mer', 17), ('Homo 9-mer', 9), ('Homo 11-mer', 18), ('Homo 2-mer', 2), ('Homo 20-mer', 19), ('Hetero 6-mer', 29)], [('Cyclic', 2), ('Helical', 4), ('Dihedral', 3), ('Asymmetric', 1), ('Tetrahedral', 5)]], Index(['nb H_bond / nres', 'nb H_bond total', 'H_bond / nb_res * nb_chains',\n",
      "       'Max_hbonds_number', 'Number of chains', 'SASA_unedited', 'SASA_full',\n",
      "       'SASA_theo', 'Alignement_total', 'Alignement_moyen', 'Hydrophobicity',\n",
      "       'Hydropathy', 'experimental_method', 'oligomeric_state1',\n",
      "       'oligomeric_state2', 'atom_count', 'H_atom_count', 'symmetry', 'H', 'I',\n",
      "       'T', 'G', 'E', 'B', 'S'],\n",
      "      dtype='object'), ['experimental_method', 'oligomeric_state1', 'oligomeric_state2', 'symmetry']]\n"
     ]
    }
   ],
   "source": [
    "print(name_columns)"
   ]
  },
  {
   "cell_type": "code",
   "execution_count": 11,
   "id": "f45192ed",
   "metadata": {},
   "outputs": [
    {
     "name": "stdout",
     "output_type": "stream",
     "text": [
      "[ True  True  True ... False False False]\n"
     ]
    }
   ],
   "source": [
    "filename = 'first_model.sav'\n",
    "loaded_model = pickle.load(open(filename, 'rb'))\n",
    "result = loaded_model.predict(results_filtered_ordered)\n",
    "print(result)"
   ]
  },
  {
   "cell_type": "code",
   "execution_count": 12,
   "id": "d1f09883",
   "metadata": {},
   "outputs": [],
   "source": [
    "import copy\n",
    "result_prediction = copy.deepcopy(resultdf)\n",
    "result_prediction['is_amyloid'] = result"
   ]
  },
  {
   "cell_type": "code",
   "execution_count": 13,
   "id": "54455377",
   "metadata": {},
   "outputs": [
    {
     "data": {
      "text/html": [
       "\n",
       "        <iframe\n",
       "            width=\"100%\"\n",
       "            height=\"475\"\n",
       "            src=\"http://debian:40004/dtale/iframe/2\"\n",
       "            frameborder=\"0\"\n",
       "            allowfullscreen\n",
       "            \n",
       "        ></iframe>\n",
       "        "
      ],
      "text/plain": [
       "<IPython.lib.display.IFrame at 0x7fa447c23e80>"
      ]
     },
     "metadata": {},
     "output_type": "display_data"
    },
    {
     "data": {
      "text/plain": []
     },
     "execution_count": 13,
     "metadata": {},
     "output_type": "execute_result"
    },
    {
     "name": "stderr",
     "output_type": "stream",
     "text": [
      "2023-05-25 11:46:32,441 - INFO     - Executing shutdown due to inactivity...\n",
      "2023-05-25 11:46:33,231 - INFO     - Executing shutdown...\n",
      "2023-05-25 11:46:33,256 - ERROR    - Exception on /shutdown [GET]\n",
      "Traceback (most recent call last):\n",
      "  File \"/home/louis/miniconda3/lib/python3.9/site-packages/flask/app.py\", line 2528, in wsgi_app\n",
      "    response = self.full_dispatch_request()\n",
      "  File \"/home/louis/miniconda3/lib/python3.9/site-packages/flask/app.py\", line 1825, in full_dispatch_request\n",
      "    rv = self.handle_user_exception(e)\n",
      "  File \"/home/louis/miniconda3/lib/python3.9/site-packages/flask/app.py\", line 1823, in full_dispatch_request\n",
      "    rv = self.dispatch_request()\n",
      "  File \"/home/louis/miniconda3/lib/python3.9/site-packages/flask/app.py\", line 1799, in dispatch_request\n",
      "    return self.ensure_sync(self.view_functions[rule.endpoint])(**view_args)\n",
      "  File \"/home/louis/miniconda3/lib/python3.9/site-packages/dtale/app.py\", line 433, in shutdown\n",
      "    shutdown_server()\n",
      "  File \"/home/louis/miniconda3/lib/python3.9/site-packages/dtale/app.py\", line 419, in shutdown_server\n",
      "    raise RuntimeError(\"Not running with the Werkzeug Server\")\n",
      "RuntimeError: Not running with the Werkzeug Server\n"
     ]
    }
   ],
   "source": [
    "dtale.show(result_prediction)"
   ]
  },
  {
   "cell_type": "code",
   "execution_count": null,
   "id": "a8f1a230",
   "metadata": {},
   "outputs": [],
   "source": []
  }
 ],
 "metadata": {
  "kernelspec": {
   "display_name": "Python 3 (ipykernel)",
   "language": "python",
   "name": "python3"
  },
  "language_info": {
   "codemirror_mode": {
    "name": "ipython",
    "version": 3
   },
   "file_extension": ".py",
   "mimetype": "text/x-python",
   "name": "python",
   "nbconvert_exporter": "python",
   "pygments_lexer": "ipython3",
   "version": "3.9.12"
  }
 },
 "nbformat": 4,
 "nbformat_minor": 5
}
