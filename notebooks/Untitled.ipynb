{
 "cells": [
  {
   "cell_type": "code",
   "execution_count": 1,
   "id": "ac372642-92a4-4faf-9e70-a5e1dcc1caf1",
   "metadata": {},
   "outputs": [
    {
     "data": {
      "text/html": [
       "\n",
       "        <iframe\n",
       "            width=\"100%\"\n",
       "            height=\"475\"\n",
       "            src=\"http://debian:40003/dtale/iframe/1\"\n",
       "            frameborder=\"0\"\n",
       "            allowfullscreen\n",
       "            \n",
       "        ></iframe>\n",
       "        "
      ],
      "text/plain": [
       "<IPython.lib.display.IFrame at 0x7f83a35c8040>"
      ]
     },
     "metadata": {},
     "output_type": "display_data"
    },
    {
     "data": {
      "text/plain": []
     },
     "execution_count": 1,
     "metadata": {},
     "output_type": "execute_result"
    }
   ],
   "source": [
    "import pandas as pd\n",
    "import dtale \n",
    "\n",
    "df = pd.read_table('cullpdb_pc15.0_res0.0-2.0_len40-200_R0.25_Xray+Nmr+EM_d2023_04_28_chains2966',delimiter=r\"\\s+\")\n",
    "dtale.show(df)"
   ]
  },
  {
   "cell_type": "code",
   "execution_count": 2,
   "id": "29ca528d-478e-488d-b278-1174e71b8daa",
   "metadata": {},
   "outputs": [
    {
     "name": "stdout",
     "output_type": "stream",
     "text": [
      "['3IEZ', '6MX1', '3QZR', '6SZC', '2I51', '6SGF', '5O75', '1Z2F', '4YMY', '5ZT3', '4GZC', '6VPQ', '2EW0', '6B12', '4WSF', '6AC5', '6RA4', '2LNV', '7FIX', '6XRY', '4BYZ', '3AJF', '3MMY', '3A6R', '6F5Z', '4GXB', '7LKN', '2P0N', '7L6L', '6BL9', '7LFA', '7S0N', '2BKY', '2WM8', '2X5P', '1EB6', '6T02', '8BBU', '5KCI', '5YCE', '1J0P', '6DM4', '4A6Q', '5H7E', '1OV2', '2MRL', '2D4P', '4M6B', '2V9V', '2CR9', '8A3D', '2QG6', '5W2L', '4FYY', '3QF2', '4WND', '7R6U', '2CG7', '4UOS', '2JN9', '2G7O', '5LY5', '2KQZ', '7O5Y', '3DGP', '7COH', '1Y6X', '6MNT', '4TPS', '6R2W', '2LFN', '4OKE', '7KPO', '4NDS', '1VIB', '6IZB', '3OV5', '6GWJ', '6C8C', '7C8N', '1OQJ', '6A2W', '2JDI', '2HIN', '8A3D', '1JOS', '5IM8', '8EJM', '7CU9', '2XOM', '2L3L', '8B0X', '2JZ5', '6TT2', '1LG7', '2IP6', '1Q5Z', '3IC3', '5UEB', '3RPJ', '4MTM', '6SQP', '6Y1Y', '7LQ2', '5NQO', '1Y7J', '2K2B', '2PH0', '5DPO', '6NU9', '4X9Z', '1F2R', '1C5E', '3G4Z', '2KUQ', '6Q43', '8GLP', '5E1N', '2CSP', '2KES', '2KX2', '3RKL', '2KMW', '5C50', '4UU3', '1S99', '5F6R', '6XRR', '3GGY', '1ZV1', '7F0Y', '6S5W', '3DDC', '5Y5S', '6VJJ', '7MS7', '6IIP', '2MPN', '2O7A', '6XIP', '7NHZ', '3C1L', '6FU9', '4KSN', '8A3D', '6UFE', '5A0D', '1OO0', '3SJH', '4UF7', '1N13', '3GXW', '3WZS', '1PBY', '4RW0', '2YVQ', '1WEY', '4LQZ', '1KN6', '3CEC', '2CC6', '2FM4', '1TKN', '2HG7', '3ZXN', '3NGG', '2VH3', '2HUJ', '3WEB', '3TUO', '2DKO', '5E5Y', '4CO8', '2JYE', '7ACW', '1WOL', '7BNH', '2LLI', '2L06', '2KJ3', '6Z96', '1QQP', '2FB6', '1FS1', '6CCR', '5Z0D', '6NLQ', '3IJM', '2EFV', '4YY2', '2JR1', '2MK0', '4IX7', '1M9Z', '6H8O', '2KGL', '3VP5', '7NX0', '3N6Y', '1QW2', '6VSX', '8B0X', '1H8P', '4LRJ', '3IX3', '2KJY', '5NOH', '4J3H', '5ZZA', '2V8F', '7PEG', '4QKD', '4Z9H', '1UGI', '5J3T', '2JOK', '1SS3', '6CBR', '5HNO', '5XLY', '2MIZ', '2N85', '4HSU', '7ZTF', '1R0U', '5DJE', '4EO0', '7MLL', '1OSX', '3BAL', '1EDX', '2INW', '1DD3', '2MYV', '6AE8', '2WPV', '6LAG', '3LD7', '3SK2', '3ILX', '1IV3', '7WME', '4U5W', '6T9Q', '3D9X', '4DKC', '4A8X', '6V4V', '7X5C', '3FYR', '4HJI', '6N7O', '6A5H', '2N6G', '6XB4', '1EGW', '6RSN', '3V7B', '5Y7L', '1K8K', '4JTM', '7ESW', '4CSR', '2CZV', '3N90', '3SU0', '1YUA', '4KEF', '3NI0', '7YTU', '2P58', '6U19', '2YKZ', '5EMX', '5UC0', '5W5C', '8OIK', '6GRV', '2E85', '2V1M', '6RCC', '2MRA', '7JFL', '6GCV', '3GI7', '4F54', '5YRV', '4L57', '7TM8', '2MLY', '4QXB', '3G36', '5LJP', '1U84', '3L1N', '5BTY', '6AO9', '4XDX', '3IT4', '8A55', '5DOF', '5KRW', '4EQP', '2JOZ', '2N32', '3H5J', '7BZK', '1FLT', '6EMT', '5X1E', '2Y8N', '4TTW', '7LWE', '3FYB', '1K85', '1WPI', '2O90', '6UF2', '5W5C', '6V1W', '5LNF', '1D4O', '1USM', '6OJ7', '1JO0', '2RR3', '5FIW', '1V5N', '3E9F', '4R1J', '1DP7', '6HFM', '7TLW', '7DM0', '1JYO', '1ZZK', '5U3H', '7WRM', '5IIB', '8B0X', '5FAF', '4D5T', '1MF7', '7Q2T', '6I5O', '3BT5', '4QRL', '3PD7', '2P9X', '4W8H', '3AK8', '7BHF', '2QSW', '2RH3', '2M67', '2YZY', '1K5K', '7D55', '2GMQ', '4WW7', '3PP5', '5AIM', '3DKM', '2CXY', '6JSA', '4CV7', '2OIX', '7SEK', '8A3D', '1VR7', '2RIQ', '3NUF', '2YWL', '5NT7', '3ZUC', '4NFB', '2CCQ', '6J9L', '2JNV', '3MEU', '7COH', '7QFL', '3EOI', '4CJ0', '7QIH', '2K5W', '2Z5W', '1TM9', '2MM8', '6TY2', '6ST4', '2K5D', '1EX2', '8A8Q', '3IPJ', '1IIE', '8AJQ', '6DNV', '3NYM', '2MDF', '1VH5', '2E30', '2EM2', '2OPC', '2KDT', '2NYB', '1W94', '3T9G', '6B29', '4YFB', '4ZMK', '1RGX', '2KO2', '1KV4', '5HUB', '6TCC', '3F6G', '7P1W', '5VHG', '1G6X', '1Q3M', '1KQ6', '5C50', '2NWF', '6ANZ', '7LD9', '3OL3', '4KOP', '5EQW', '1W0N', '6IRR', '7ROA', '2N3T', '2ZYZ', '5KS5', '4WWF', '7LIE', '7MWM', '2LOS', '5I5N', '7RG8', '5J1N', '2GSV', '2AKP', '1O22', '7ZJC', '1V4P', '2NUH', '7ACW', '2KSR', '6I86', '2XOL', '4PAS', '4DEY', '6SJX', '6RSW', '5SBQ', '3FDQ', '2FMA', '1KT6', '3R72', '6JIE', '1YXE', '2X5H', '5O8W', '3SO6', '1RKI', '3U6G', '3IP0', '6S2M', '2RHF', '6Z2T', '3AKS', '4CFR', '2KT5', '5V3N', '5WK0', '3OKX', '4ZVC', '2IAY', '8B0X', '8B0X', '3NJN', '1N08', '2KW3', '5YNX', '5C79', '2BOU', '7UJ2', '1MWQ', '8AMT', '6VK6', '2NCJ', '8B0X', '4FLB', '2MYH', '1NH2', '1KXL', '5NFM', '4TPS']\n"
     ]
    }
   ],
   "source": [
    "df2 = df.sample(n=500)\n",
    "PDBSids = df2['PDBchain'].values.tolist()\n",
    "res = [i[:4] for i in PDBSids]\n",
    "print(res)"
   ]
  },
  {
   "cell_type": "code",
   "execution_count": 3,
   "id": "1746b9c3-876f-4093-b8d6-76b48933b24b",
   "metadata": {},
   "outputs": [
    {
     "data": {
      "text/html": [
       "\n",
       "        <iframe\n",
       "            width=\"100%\"\n",
       "            height=\"475\"\n",
       "            src=\"http://debian:40003/dtale/iframe/2\"\n",
       "            frameborder=\"0\"\n",
       "            allowfullscreen\n",
       "            \n",
       "        ></iframe>\n",
       "        "
      ],
      "text/plain": [
       "<IPython.lib.display.IFrame at 0x7f83a1c34220>"
      ]
     },
     "metadata": {},
     "output_type": "display_data"
    },
    {
     "data": {
      "text/plain": []
     },
     "execution_count": 3,
     "metadata": {},
     "output_type": "execute_result"
    }
   ],
   "source": [
    "dtale.show(df2)"
   ]
  },
  {
   "cell_type": "code",
   "execution_count": 4,
   "id": "f7d59ee9-c658-4624-9222-71b795f12a0d",
   "metadata": {},
   "outputs": [],
   "source": [
    "import pickle\n",
    "with open('TESTSET_500.pickle', 'wb') as f1:\n",
    "    pickle.dump(res, f1)"
   ]
  },
  {
   "cell_type": "code",
   "execution_count": null,
   "id": "b982c4d1",
   "metadata": {},
   "outputs": [],
   "source": []
  }
 ],
 "metadata": {
  "kernelspec": {
   "display_name": "Python 3",
   "language": "python",
   "name": "python3"
  },
  "language_info": {
   "codemirror_mode": {
    "name": "ipython",
    "version": 3
   },
   "file_extension": ".py",
   "mimetype": "text/x-python",
   "name": "python",
   "nbconvert_exporter": "python",
   "pygments_lexer": "ipython3",
   "version": "3.9.12"
  }
 },
 "nbformat": 4,
 "nbformat_minor": 5
}
