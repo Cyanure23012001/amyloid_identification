{
 "cells": [
  {
   "cell_type": "code",
   "execution_count": 15,
   "id": "51df5ae6",
   "metadata": {},
   "outputs": [],
   "source": [
    "import pandas as pd\n",
    "import pickle\n",
    "with open('calculations_1', 'rb') as f:\n",
    "    resultdf = pickle.load(f)"
   ]
  },
  {
   "cell_type": "code",
   "execution_count": 16,
   "id": "570b7770",
   "metadata": {},
   "outputs": [],
   "source": [
    "import dtale"
   ]
  },
  {
   "cell_type": "code",
   "execution_count": 17,
   "id": "dc774aaa",
   "metadata": {
    "scrolled": true
   },
   "outputs": [
    {
     "data": {
      "text/html": [
       "\n",
       "        <iframe\n",
       "            width=\"100%\"\n",
       "            height=\"475\"\n",
       "            src=\"http://debian:40001/dtale/iframe/4\"\n",
       "            frameborder=\"0\"\n",
       "            allowfullscreen\n",
       "            \n",
       "        ></iframe>\n",
       "        "
      ],
      "text/plain": [
       "<IPython.lib.display.IFrame at 0x7f18c121ea00>"
      ]
     },
     "metadata": {},
     "output_type": "display_data"
    },
    {
     "data": {
      "text/plain": []
     },
     "execution_count": 17,
     "metadata": {},
     "output_type": "execute_result"
    }
   ],
   "source": [
    "dtale.show(resultdf)"
   ]
  },
  {
   "cell_type": "code",
   "execution_count": 18,
   "id": "bb90446f",
   "metadata": {},
   "outputs": [],
   "source": [
    "import dtale\n",
    "resultdf.fillna(0,inplace=True)"
   ]
  },
  {
   "cell_type": "code",
   "execution_count": 19,
   "id": "e7bd01fa",
   "metadata": {},
   "outputs": [],
   "source": [
    "results_filtered = resultdf.drop(['DF_DSSP', 'DF_H', 'PDB_ID', 'AAseq'], axis=1)"
   ]
  },
  {
   "cell_type": "code",
   "execution_count": 20,
   "id": "2d0d168b",
   "metadata": {},
   "outputs": [],
   "source": [
    "order_descriptors = ['Number of H', 'H number w chains', 'SASA', 'Alignement_total',\n",
    "       'Alignement_moyen', 'Hydrophobicity', 'Hydropathy',\n",
    "       'experimental_method', 'oligomeric_state1', 'oligomeric_state2',\n",
    "       'atom_count', 'H_atom_count', 'symmetry', 'E', 'T', 'S', 'G', 'H', 'I',\n",
    "       'B']\n",
    "\n",
    "results_filtered_ordered = results_filtered.reindex(columns=order_descriptors)\n",
    "\n"
   ]
  },
  {
   "cell_type": "code",
   "execution_count": 21,
   "id": "cff1ea90",
   "metadata": {},
   "outputs": [],
   "source": [
    "name_columns = pickle.load(open('columns.pickle', 'rb'))"
   ]
  },
  {
   "cell_type": "code",
   "execution_count": 22,
   "id": "b9fca531",
   "metadata": {},
   "outputs": [
    {
     "name": "stdout",
     "output_type": "stream",
     "text": [
      "[[[('ELECTRON CRYSTALLOGRAPHY', 2), ('ELECTRON MICROSCOPY', 5), ('SOLUTION NMR', 4), ('X-RAY DIFFRACTION', 1), ('SOLID-STATE NMR', 3)], [('octameric', 1), ('helical', 17), ('dodecameric', 8), ('eicosameric', 19), ('pentameric', 6), ('36-meric', 16), ('nonameric', 11), ('monomeric', 13), ('octadecameric', 5), ('tetrameric', 2), ('hexadecameric', 7), ('hexameric', 9), ('decameric', 12), ('1824-meric', 18), ('27-meric', 10), ('dimeric', 4), ('32-meric', 21), ('270-meric', 20), ('trimeric', 3), ('tridecameric', 14), ('Dimeric', 15)], [('Hetero 9-mer', 19), ('Hetero 5-mer', 22), ('Homo 912-mer', 23), ('Homo 2-mer', 4), ('Homo 8-mer', 1), ('Homo 5-mer', 6), ('Homo 10-mer', 12), ('Hetero 6-mer', 21), ('Homo 20-mer', 26), ('Homo 1368-mer', 24), ('Homo 27-mer', 10), ('Hetero 4-mer', 15), ('Homo 12-mer', 8), ('Homo 16-mer', 7), ('Hetero 12-mer', 17), ('Hetero 270-mer', 28), ('Homo 6-mer', 9), ('Homo 1824-mer', 25), ('Homo 32-mer', 29), ('Monomer', 13), ('Hetero 8-mer', 27), ('Homo 3-mer', 3), ('Homo 18-mer', 5), ('Hetero 3-mer', 16), ('Hetero 36-mer', 20), ('Hetero 13-mer', 18), ('Homo 4-mer', 2), ('Hetero 2-mer', 14), ('Homo 9-mer', 11)], [('Tetrahedral', 5), ('Helical', 3), ('Cyclic', 2), ('Dihedral', 4), ('Asymmetric', 1)]], Index(['Number of H', 'H number w chains', 'SASA', 'Alignement_total',\n",
      "       'Alignement_moyen', 'Hydrophobicity', 'Hydropathy', 'atom_count',\n",
      "       'H_atom_count', 'E', 'T', 'S', 'G', 'H', 'I', 'B',\n",
      "       'experimental_method', 'oligomeric_state1', 'oligomeric_state2',\n",
      "       'symmetry'],\n",
      "      dtype='object'), ['experimental_method', 'oligomeric_state1', 'oligomeric_state2', 'symmetry']]\n"
     ]
    }
   ],
   "source": [
    "print(name_columns)"
   ]
  },
  {
   "cell_type": "code",
   "execution_count": 25,
   "id": "1ac23708",
   "metadata": {
    "scrolled": true
   },
   "outputs": [
    {
     "name": "stdout",
     "output_type": "stream",
     "text": [
      "ELECTRON CRYSTALLOGRAPHY\n",
      "ELECTRON MICROSCOPY\n",
      "SOLUTION NMR\n",
      "X-RAY DIFFRACTION\n",
      "SOLID-STATE NMR\n",
      "0\n",
      "octameric\n",
      "helical\n",
      "dodecameric\n",
      "eicosameric\n",
      "pentameric\n",
      "36-meric\n",
      "nonameric\n",
      "monomeric\n",
      "octadecameric\n",
      "tetrameric\n",
      "hexadecameric\n",
      "hexameric\n",
      "decameric\n",
      "1824-meric\n",
      "27-meric\n",
      "dimeric\n",
      "32-meric\n",
      "270-meric\n",
      "trimeric\n",
      "tridecameric\n",
      "Dimeric\n",
      "1\n",
      "Hetero 9-mer\n",
      "Hetero 5-mer\n",
      "Homo 912-mer\n",
      "Homo 2-mer\n",
      "Homo 8-mer\n",
      "Homo 5-mer\n",
      "Homo 10-mer\n",
      "Hetero 6-mer\n",
      "Homo 20-mer\n",
      "Homo 1368-mer\n",
      "Homo 27-mer\n",
      "Hetero 4-mer\n",
      "Homo 12-mer\n",
      "Homo 16-mer\n",
      "Hetero 12-mer\n",
      "Hetero 270-mer\n",
      "Homo 6-mer\n",
      "Homo 1824-mer\n",
      "Homo 32-mer\n",
      "Monomer\n",
      "Hetero 8-mer\n",
      "Homo 3-mer\n",
      "Homo 18-mer\n",
      "Hetero 3-mer\n",
      "Hetero 36-mer\n",
      "Hetero 13-mer\n",
      "Homo 4-mer\n",
      "Hetero 2-mer\n",
      "Homo 9-mer\n",
      "2\n",
      "Tetrahedral\n",
      "Helical\n",
      "Cyclic\n",
      "Dihedral\n",
      "Asymmetric\n",
      "3\n"
     ]
    },
    {
     "name": "stderr",
     "output_type": "stream",
     "text": [
      "2023-05-22 13:01:55,080 - INFO     - Executing shutdown due to inactivity...\n",
      "2023-05-22 13:01:55,183 - INFO     - Executing shutdown...\n",
      "2023-05-22 13:01:55,188 - ERROR    - Exception on /shutdown [GET]\n",
      "Traceback (most recent call last):\n",
      "  File \"/home/louis/miniconda3/lib/python3.9/site-packages/flask/app.py\", line 2528, in wsgi_app\n",
      "    response = self.full_dispatch_request()\n",
      "  File \"/home/louis/miniconda3/lib/python3.9/site-packages/flask/app.py\", line 1825, in full_dispatch_request\n",
      "    rv = self.handle_user_exception(e)\n",
      "  File \"/home/louis/miniconda3/lib/python3.9/site-packages/flask/app.py\", line 1823, in full_dispatch_request\n",
      "    rv = self.dispatch_request()\n",
      "  File \"/home/louis/miniconda3/lib/python3.9/site-packages/flask/app.py\", line 1799, in dispatch_request\n",
      "    return self.ensure_sync(self.view_functions[rule.endpoint])(**view_args)\n",
      "  File \"/home/louis/miniconda3/lib/python3.9/site-packages/dtale/app.py\", line 433, in shutdown\n",
      "    shutdown_server()\n",
      "  File \"/home/louis/miniconda3/lib/python3.9/site-packages/dtale/app.py\", line 419, in shutdown_server\n",
      "    raise RuntimeError(\"Not running with the Werkzeug Server\")\n",
      "RuntimeError: Not running with the Werkzeug Server\n"
     ]
    }
   ],
   "source": [
    "# On remplace les données par les memes valeurs que dans le jeu de training\n",
    "for column in range(len(name_columns[2])):\n",
    "    #results_filtered_ordered[name_columns[2][column]]\n",
    "    for x in name_columns[0][column]:\n",
    "        #print(x[0])\n",
    "        # On remplace dans la colonne adaptée les valeurs\n",
    "        results_filtered_ordered[name_columns[2][column]].replace(x[0],x[1],inplace=True)\n",
    "    \n",
    "    print(column)\n",
    "    \n",
    "    # On remplace ce qui n'a pas été trouvé dans le jeu de test par une valeur arbitraire\n",
    "    results_filtered_ordered[name_columns[2][column]].replace(to_replace='.*', value=1000, regex=True, inplace=True)\n",
    "    \n",
    "index = pd.Index(range(1, len(results_filtered_ordered)+1, 1))\n",
    "results_filtered_ordered = results_filtered_ordered.set_index(index)    "
   ]
  },
  {
   "cell_type": "code",
   "execution_count": 24,
   "id": "a989819a",
   "metadata": {},
   "outputs": [
    {
     "data": {
      "text/html": [
       "\n",
       "        <iframe\n",
       "            width=\"100%\"\n",
       "            height=\"475\"\n",
       "            src=\"http://debian:40001/dtale/iframe/5\"\n",
       "            frameborder=\"0\"\n",
       "            allowfullscreen\n",
       "            \n",
       "        ></iframe>\n",
       "        "
      ],
      "text/plain": [
       "<IPython.lib.display.IFrame at 0x7f18c34bc7f0>"
      ]
     },
     "metadata": {},
     "output_type": "display_data"
    },
    {
     "data": {
      "text/plain": []
     },
     "execution_count": 24,
     "metadata": {},
     "output_type": "execute_result"
    }
   ],
   "source": [
    "dtale.show(results_filtered_ordered)"
   ]
  },
  {
   "cell_type": "code",
   "execution_count": 20,
   "id": "5170f9cb",
   "metadata": {},
   "outputs": [
    {
     "name": "stdout",
     "output_type": "stream",
     "text": [
      "[[[('X-RAY DIFFRACTION', 1), ('SOLUTION NMR', 4), ('ELECTRON MICROSCOPY', 5), ('ELECTRON CRYSTALLOGRAPHY', 2), ('SOLID-STATE NMR', 3)], [('hexameric', 9), ('monomeric', 13), ('tetrameric', 2), ('dimeric', 4), ('octadecameric', 5), ('octameric', 1), ('decameric', 12), ('Dimeric', 15), ('hexadecameric', 7), ('pentameric', 6), ('tridecameric', 14), ('36-meric', 16), ('nonameric', 11), ('27-meric', 10), ('dodecameric', 8), ('trimeric', 3)], [('Homo 2-mer', 4), ('Hetero 36-mer', 20), ('Homo 8-mer', 1), ('Homo 16-mer', 7), ('Hetero 2-mer', 14), ('Monomer', 13), ('Hetero 6-mer', 21), ('Homo 27-mer', 10), ('Homo 18-mer', 5), ('Hetero 12-mer', 17), ('Homo 12-mer', 8), ('Homo 10-mer', 12), ('Homo 3-mer', 3), ('Hetero 4-mer', 15), ('Hetero 9-mer', 19), ('Homo 9-mer', 11), ('Homo 5-mer', 6), ('Hetero 13-mer', 18), ('Hetero 5-mer', 22), ('Homo 4-mer', 2), ('Homo 6-mer', 9), ('Hetero 3-mer', 16)], [('Asymmetric', 1), ('Dihedral', 4), ('Helical', 3), ('Tetrahedral', 5), ('Cyclic', 2)]], Index(['Number of H', 'H number w chains', 'SASA', 'Alignement_total',\n",
      "       'Alignement_moyen', 'Hydrophobicity', 'Hydropathy',\n",
      "       'experimental_method', 'oligomeric_state1', 'oligomeric_state2',\n",
      "       'atom_count', 'H_atom_count', 'symmetry', 'E', 'T', 'S', 'G', 'H', 'I',\n",
      "       'B'],\n",
      "      dtype='object'), ['experimental_method', 'oligomeric_state1', 'oligomeric_state2', 'symmetry']]\n"
     ]
    }
   ],
   "source": [
    "print(name_columns)"
   ]
  },
  {
   "cell_type": "code",
   "execution_count": 40,
   "id": "f45192ed",
   "metadata": {},
   "outputs": [
    {
     "name": "stdout",
     "output_type": "stream",
     "text": [
      "[ True  True  True ... False False False]\n"
     ]
    }
   ],
   "source": [
    "filename = 'first_model.sav'\n",
    "loaded_model = pickle.load(open(filename, 'rb'))\n",
    "result = loaded_model.predict(results_filtered_ordered)\n",
    "print(result)"
   ]
  },
  {
   "cell_type": "code",
   "execution_count": 46,
   "id": "d1f09883",
   "metadata": {},
   "outputs": [],
   "source": [
    "import copy\n",
    "result_prediction = copy.deepcopy(resultdf)\n",
    "result_prediction['is_amyloid'] = result"
   ]
  },
  {
   "cell_type": "code",
   "execution_count": 47,
   "id": "54455377",
   "metadata": {},
   "outputs": [
    {
     "data": {
      "text/html": [
       "\n",
       "        <iframe\n",
       "            width=\"100%\"\n",
       "            height=\"475\"\n",
       "            src=\"http://rpbs-priv2:40001/dtale/iframe/10\"\n",
       "            frameborder=\"0\"\n",
       "            allowfullscreen\n",
       "            \n",
       "        ></iframe>\n",
       "        "
      ],
      "text/plain": [
       "<IPython.lib.display.IFrame at 0x7f630cfa5650>"
      ]
     },
     "metadata": {},
     "output_type": "display_data"
    },
    {
     "data": {
      "text/plain": []
     },
     "execution_count": 47,
     "metadata": {},
     "output_type": "execute_result"
    }
   ],
   "source": [
    "dtale.show(result_prediction)"
   ]
  },
  {
   "cell_type": "code",
   "execution_count": null,
   "id": "a8f1a230",
   "metadata": {},
   "outputs": [],
   "source": []
  }
 ],
 "metadata": {
  "kernelspec": {
   "display_name": "Python 3",
   "language": "python",
   "name": "python3"
  },
  "language_info": {
   "codemirror_mode": {
    "name": "ipython",
    "version": 3
   },
   "file_extension": ".py",
   "mimetype": "text/x-python",
   "name": "python",
   "nbconvert_exporter": "python",
   "pygments_lexer": "ipython3",
   "version": "3.9.12"
  }
 },
 "nbformat": 4,
 "nbformat_minor": 5
}
