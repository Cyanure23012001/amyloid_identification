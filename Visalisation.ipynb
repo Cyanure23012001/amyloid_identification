{
 "cells": [
  {
   "cell_type": "code",
   "execution_count": 1,
   "id": "b91c6c02-746d-440e-96f8-e0edfb4a7fc4",
   "metadata": {},
   "outputs": [
    {
     "data": {
      "application/vnd.jupyter.widget-view+json": {
       "model_id": "9700fc464ccf487fbaf3e81d6e7d6fb2",
       "version_major": 2,
       "version_minor": 0
      },
      "text/plain": []
     },
     "metadata": {},
     "output_type": "display_data"
    }
   ],
   "source": [
    "import pdb_numpy\n",
    "from pdb_numpy import visu \n",
    "import nglview as nv\n",
    "coords = pdb_numpy.Coor(pdb_id='4E0O')\n",
    "coor = coords.select_atoms(\"protein\")\n",
    "view = visu.get_view(coor)\n"
   ]
  },
  {
   "cell_type": "code",
   "execution_count": 2,
   "id": "60a6b9bf",
   "metadata": {},
   "outputs": [
    {
     "name": "stdout",
     "output_type": "stream",
     "text": [
      "[ 1  1  1  1  1  1  2  2  2  2  2  2  2  2  2  2  2  3  3  3  3  3  3  3\n",
      "  3  3  4  4  4  4  4  4  4  4  5  5  5  5  5  5  5  6  6  6  6  6  6  6\n",
      "  6  6  6  6  6  7  7  7  7  7  7  7  7  7  9  9  9  9  9  9  9  9  9 10\n",
      " 10 10 10 10 10 10 10 10 10 10 13 13 13 13 13  1  1  1  1  1  1  2  2  2\n",
      "  2  2  2  2  3  3  3  3  3  3  3  3  3  4  4  4  4  4  4  4  4  5  5  5\n",
      "  5  5  5  5  6  6  6  6  6  6  6  6  6  6  6  6  7  7  7  7  7  7  7  7\n",
      "  7  9  9  9  9  9  9  9  9  9 10 10 10 10 10 10 10 10 10 10 10 13 13 13\n",
      " 13 13 13 13 13 13  1  1  1  1  1  1  2  2  2  2  2  2  2  3  3  3  3  3\n",
      "  3  3  3  3  4  4  4  4  4  4  4  4  5  5  5  5  5  5  5  6  6  6  6  6\n",
      "  6  6  6  6  6  6  6  7  7  7  7  7  7  7  7  7  9  9  9  9  9  9  9  9\n",
      "  9 10 10 10 10 10 10 10 10 10 10 10 13 13 13 13 13 13 13 13 13  1  1  1\n",
      "  1  1  1  2  2  2  2  2  2  2  3  3  3  3  3  3  3  3  3  4  4  4  4  4\n",
      "  4  4  4  5  5  5  5  5  5  5  6  6  6  6  6  6  6  6  6  6  6  6  7  7\n",
      "  7  7  7  7  7  7  7  9  9  9  9  9  9  9  9  9 10 10 10 10 10 10 10 10\n",
      " 10 10 10 13 13 13 13 13]\n",
      "['A' 'A' 'A' 'A' 'A' 'A' 'A' 'A' 'A' 'A' 'A' 'A' 'A' 'A' 'A' 'A' 'A' 'A'\n",
      " 'A' 'A' 'A' 'A' 'A' 'A' 'A' 'A' 'A' 'A' 'A' 'A' 'A' 'A' 'A' 'A' 'A' 'A'\n",
      " 'A' 'A' 'A' 'A' 'A' 'A' 'A' 'A' 'A' 'A' 'A' 'A' 'A' 'A' 'A' 'A' 'A' 'A'\n",
      " 'A' 'A' 'A' 'A' 'A' 'A' 'A' 'A' 'A' 'A' 'A' 'A' 'A' 'A' 'A' 'A' 'A' 'A'\n",
      " 'A' 'A' 'A' 'A' 'A' 'A' 'A' 'A' 'A' 'A' 'A' 'A' 'A' 'A' 'A' 'B' 'B' 'B'\n",
      " 'B' 'B' 'B' 'B' 'B' 'B' 'B' 'B' 'B' 'B' 'B' 'B' 'B' 'B' 'B' 'B' 'B' 'B'\n",
      " 'B' 'B' 'B' 'B' 'B' 'B' 'B' 'B' 'B' 'B' 'B' 'B' 'B' 'B' 'B' 'B' 'B' 'B'\n",
      " 'B' 'B' 'B' 'B' 'B' 'B' 'B' 'B' 'B' 'B' 'B' 'B' 'B' 'B' 'B' 'B' 'B' 'B'\n",
      " 'B' 'B' 'B' 'B' 'B' 'B' 'B' 'B' 'B' 'B' 'B' 'B' 'B' 'B' 'B' 'B' 'B' 'B'\n",
      " 'B' 'B' 'B' 'B' 'B' 'B' 'B' 'B' 'B' 'B' 'B' 'B' 'C' 'C' 'C' 'C' 'C' 'C'\n",
      " 'C' 'C' 'C' 'C' 'C' 'C' 'C' 'C' 'C' 'C' 'C' 'C' 'C' 'C' 'C' 'C' 'C' 'C'\n",
      " 'C' 'C' 'C' 'C' 'C' 'C' 'C' 'C' 'C' 'C' 'C' 'C' 'C' 'C' 'C' 'C' 'C' 'C'\n",
      " 'C' 'C' 'C' 'C' 'C' 'C' 'C' 'C' 'C' 'C' 'C' 'C' 'C' 'C' 'C' 'C' 'C' 'C'\n",
      " 'C' 'C' 'C' 'C' 'C' 'C' 'C' 'C' 'C' 'C' 'C' 'C' 'C' 'C' 'C' 'C' 'C' 'C'\n",
      " 'C' 'C' 'C' 'C' 'C' 'C' 'C' 'C' 'C' 'D' 'D' 'D' 'D' 'D' 'D' 'D' 'D' 'D'\n",
      " 'D' 'D' 'D' 'D' 'D' 'D' 'D' 'D' 'D' 'D' 'D' 'D' 'D' 'D' 'D' 'D' 'D' 'D'\n",
      " 'D' 'D' 'D' 'D' 'D' 'D' 'D' 'D' 'D' 'D' 'D' 'D' 'D' 'D' 'D' 'D' 'D' 'D'\n",
      " 'D' 'D' 'D' 'D' 'D' 'D' 'D' 'D' 'D' 'D' 'D' 'D' 'D' 'D' 'D' 'D' 'D' 'D'\n",
      " 'D' 'D' 'D' 'D' 'D' 'D' 'D' 'D' 'D' 'D' 'D' 'D' 'D' 'D' 'D' 'D' 'D' 'D'\n",
      " 'D' 'D']\n"
     ]
    }
   ],
   "source": [
    "print(coor.resid)\n",
    "print(coor.chain)"
   ]
  },
  {
   "cell_type": "code",
   "execution_count": 3,
   "id": "f9c40dd8-e9b2-4d83-8c7f-bb46d2b48d64",
   "metadata": {},
   "outputs": [
    {
     "data": {
      "application/vnd.jupyter.widget-view+json": {
       "model_id": "b34e5eadae3d496f9204e471666944ad",
       "version_major": 2,
       "version_minor": 0
      },
      "text/plain": [
       "NGLWidget()"
      ]
     },
     "metadata": {},
     "output_type": "display_data"
    }
   ],
   "source": [
    "view"
   ]
  },
  {
   "cell_type": "code",
   "execution_count": 9,
   "id": "61b4cb17-5a05-415c-b968-67742626af8e",
   "metadata": {},
   "outputs": [],
   "source": [
    "import coordinates_editor"
   ]
  },
  {
   "cell_type": "code",
   "execution_count": 4,
   "id": "07ac24d5",
   "metadata": {},
   "outputs": [],
   "source": [
    "def cooredit(coor):\n",
    "    local_rmsd = []\n",
    "    ref = coor.select_atoms(\"protein\")\n",
    "    ref_seq_dict = ref.get_aa_seq()\n",
    "\n",
    "    if len(ref_seq_dict) <= 6:\n",
    "        ref = ref.add_symmetry()\n",
    "        ref.compute_chains_CA()\n",
    "        ref_seq_dict = ref.get_aa_seq()\n",
    "        ref = ref.apply_transformation()\n",
    "        ref.compute_chains_CA()\n",
    "        ref_seq_dict = ref.get_aa_seq()\n",
    "        ref = ref.remove_overlap_chain()\n",
    "        ref_seq_dict = ref.get_aa_seq()\n",
    "        ref.compute_chains_CA()\n",
    "\n",
    "    if len(ref_seq_dict) <= 6:\n",
    "        ref = ref.copy_box(x=2, y=2, z=2)\n",
    "        ref.compute_chains_CA()\n",
    "        ref = ref.remove_overlap_chain()\n",
    "        ref_seq_dict = ref.get_aa_seq()\n",
    "        ref.compute_chains_CA()\n",
    "    print(\"using REF\")\n",
    "    return ref"
   ]
  },
  {
   "cell_type": "code",
   "execution_count": 10,
   "id": "e754a962",
   "metadata": {},
   "outputs": [
    {
     "name": "stdout",
     "output_type": "stream",
     "text": [
      "using REF\n",
      "['A' 'B' 'C' 'D' 'E' 'F' 'G' 'H' 'I' 'J' 'K' 'L' 'M' 'N' 'O' 'P' 'Q' 'R'\n",
      " 'S' 'T' 'U' 'V' 'W' 'X' 'Y' 'Z']\n"
     ]
    }
   ],
   "source": [
    "coor2 = coordinates_editor.cooredit(coor)\n",
    "visu.get_view(coor2)\n",
    "import pandas as pd\n",
    "print(pd.unique(coor2.chain))"
   ]
  },
  {
   "cell_type": "code",
   "execution_count": 11,
   "id": "f623b4b4",
   "metadata": {
    "scrolled": true
   },
   "outputs": [
    {
     "name": "stdout",
     "output_type": "stream",
     "text": [
      "[ 1  1  1  1  1  1  2  2  2  2  2  2  2  2  2  2  2  3  3  3  3  3  3  3\n",
      "  3  3  4  4  4  4  4  4  4  4  5  5  5  5  5  5  5  6  6  6  6  6  6  6\n",
      "  6  6  6  6  6  7  7  7  7  7  7  7  7  7  9  9  9  9  9  9  9  9  9 10\n",
      " 10 10 10 10 10 10 10 10 10 10 13 13 13 13 13  1  1  1  1  1  1  2  2  2\n",
      "  2  2  2  2  3  3  3  3  3  3  3  3  3  4  4  4  4  4  4  4  4  5  5  5\n",
      "  5  5  5  5  6  6  6  6  6  6  6  6  6  6  6  6  7  7  7  7  7  7  7  7\n",
      "  7  9  9  9  9  9  9  9  9  9 10 10 10 10 10 10 10 10 10 10 10 13 13 13\n",
      " 13 13 13 13 13 13  1  1  1  1  1  1  2  2  2  2  2  2  2  3  3  3  3  3\n",
      "  3  3  3  3  4  4  4  4  4  4  4  4  5  5  5  5  5  5  5  6  6  6  6  6\n",
      "  6  6  6  6  6  6  6  7  7  7  7  7  7  7  7  7  9  9  9  9  9  9  9  9\n",
      "  9 10 10 10 10 10 10 10 10 10 10 10 13 13 13 13 13 13 13 13 13  1  1  1\n",
      "  1  1  1  2  2  2  2  2  2  2  3  3  3  3  3  3  3  3  3  4  4  4  4  4\n",
      "  4  4  4  5  5  5  5  5  5  5  6  6  6  6  6  6  6  6  6  6  6  6  7  7\n",
      "  7  7  7  7  7  7  7  9  9  9  9  9  9  9  9  9 10 10 10 10 10 10 10 10\n",
      " 10 10 10 13 13 13 13 13  1  1  1  1  1  1  2  2  2  2  2  2  2  2  2  2\n",
      "  2  3  3  3  3  3  3  3  3  3  4  4  4  4  4  4  4  4  5  5  5  5  5  5\n",
      "  5  6  6  6  6  6  6  6  6  6  6  6  6  7  7  7  7  7  7  7  7  7  9  9\n",
      "  9  9  9  9  9  9  9 10 10 10 10 10 10 10 10 10 10 10 13 13 13 13 13  1\n",
      "  1  1  1  1  1  2  2  2  2  2  2  2  3  3  3  3  3  3  3  3  3  4  4  4\n",
      "  4  4  4  4  4  5  5  5  5  5  5  5  6  6  6  6  6  6  6  6  6  6  6  6\n",
      "  7  7  7  7  7  7  7  7  7  9  9  9  9  9  9  9  9  9 10 10 10 10 10 10\n",
      " 10 10 10 10 10 13 13 13 13 13 13 13 13 13  1  1  1  1  1  1  2  2  2  2\n",
      "  2  2  2  3  3  3  3  3  3  3  3  3  4  4  4  4  4  4  4  4  5  5  5  5\n",
      "  5  5  5  6  6  6  6  6  6  6  6  6  6  6  6  7  7  7  7  7  7  7  7  7\n",
      "  9  9  9  9  9  9  9  9  9 10 10 10 10 10 10 10 10 10 10 10 13 13 13 13\n",
      " 13 13 13 13 13  1  1  1  1  1  1  2  2  2  2  2  2  2  3  3  3  3  3  3\n",
      "  3  3  3  4  4  4  4  4  4  4  4  5  5  5  5  5  5  5  6  6  6  6  6  6\n",
      "  6  6  6  6  6  6  7  7  7  7  7  7  7  7  7  9  9  9  9  9  9  9  9  9\n",
      " 10 10 10 10 10 10 10 10 10 10 10 13 13 13 13 13]\n"
     ]
    }
   ],
   "source": [
    "print(coor2.resid)"
   ]
  },
  {
   "cell_type": "code",
   "execution_count": 12,
   "id": "56e95951",
   "metadata": {},
   "outputs": [
    {
     "data": {
      "application/vnd.jupyter.widget-view+json": {
       "model_id": "747e4cad1fdc4179a75ed4daf6cbedbc",
       "version_major": 2,
       "version_minor": 0
      },
      "text/plain": [
       "NGLWidget()"
      ]
     },
     "metadata": {},
     "output_type": "display_data"
    }
   ],
   "source": [
    "visu.get_view(coor2)"
   ]
  },
  {
   "cell_type": "code",
   "execution_count": null,
   "id": "9bb292f5",
   "metadata": {},
   "outputs": [],
   "source": []
  }
 ],
 "metadata": {
  "kernelspec": {
   "display_name": "Python 3 (ipykernel)",
   "language": "python",
   "name": "python3"
  },
  "language_info": {
   "codemirror_mode": {
    "name": "ipython",
    "version": 3
   },
   "file_extension": ".py",
   "mimetype": "text/x-python",
   "name": "python",
   "nbconvert_exporter": "python",
   "pygments_lexer": "ipython3",
   "version": "3.11.3"
  }
 },
 "nbformat": 4,
 "nbformat_minor": 5
}
